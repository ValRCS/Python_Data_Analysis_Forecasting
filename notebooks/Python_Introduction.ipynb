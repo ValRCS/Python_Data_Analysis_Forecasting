{
 "cells": [
  {
   "cell_type": "markdown",
   "metadata": {
    "id": "oXukXEtEyk6m"
   },
   "source": [
    "## Python Introduction with some detours\n",
    "![Python](https://www.python.org/static/community_logos/python-logo-generic.svg)"
   ]
  },
  {
   "cell_type": "markdown",
   "metadata": {
    "id": "axTj4oGryk6q"
   },
   "source": [
    "![xkcd](https://imgs.xkcd.com/comics/python.png)"
   ]
  },
  {
   "cell_type": "markdown",
   "metadata": {
    "id": "0I4yCl8Ayk6q"
   },
   "source": [
    "# Table of Contents <a class=\"anchor\" id=\"toc\">\n",
    "\n",
    "* [Hello World](#hello-world)\n",
    "* [Python History](#python-history)\n",
    "* [What is Programming?](#what-is-programming)\n",
    "* [Jupyter Basics](#jupyter-basics)\n",
    "* [Variables](#variables)\n",
    "* [Arithmetic](#arithmetic)\n",
    "* [Program Flow Control](#flow-control)\n",
    "* [Functions](#functions)\n",
    "* [Libraries](#libraries)\n",
    "* [Crucial Python Ideas](#python-ideas)\n",
    "* [Learning Resources](#learning-resources)"
   ]
  },
  {
   "cell_type": "markdown",
   "metadata": {
    "id": "bHuO9QYfyk6r"
   },
   "source": [
    "## Hello World <a class=\"anchor\" id=\"hello-world\">\n",
    "    \n",
    "   [Back to Table of Contents](#toc)"
   ]
  },
  {
   "cell_type": "code",
   "execution_count": 1,
   "metadata": {
    "colab": {
     "base_uri": "https://localhost:8080/"
    },
    "id": "d2kT0NCCyk6r",
    "outputId": "f306f402-bd82-47b4-ede1-0d52d146423e"
   },
   "outputs": [
    {
     "name": "stdout",
     "output_type": "stream",
     "text": [
      "Hello world!\n"
     ]
    }
   ],
   "source": [
    "print(\"Hello world!\")"
   ]
  },
  {
   "cell_type": "code",
   "execution_count": 1,
   "metadata": {
    "colab": {
     "base_uri": "https://localhost:8080/"
    },
    "id": "fSK83QkGyk6s",
    "outputId": "fd9cba88-d7a8-4df5-cdd7-d9fb734dc360"
   },
   "outputs": [
    {
     "name": "stdout",
     "output_type": "stream",
     "text": [
      "Hello Augusts 1!\n"
     ]
    }
   ],
   "source": [
    "### Try printing a greeting of your own!\n",
    "print(\"Hello Augusts 1!\")"
   ]
  },
  {
   "cell_type": "code",
   "execution_count": 4,
   "metadata": {
    "colab": {
     "base_uri": "https://localhost:8080/"
    },
    "id": "45i-oQjayk6t",
    "outputId": "a51fc469-180d-45eb-e9d5-ba64dcdb2339"
   },
   "outputs": [
    {
     "name": "stdout",
     "output_type": "stream",
     "text": [
      "not good\n"
     ]
    }
   ],
   "source": [
    "### What Happens when you get an error?\n",
    "print(\"not good\")"
   ]
  },
  {
   "cell_type": "markdown",
   "metadata": {
    "id": "zpS3l9lXyk6t"
   },
   "source": [
    "## Python History <a class=\"anchor\" id=\"python-history\">\n",
    "    \n",
    "[Back to Table of Contents](#toc)\n"
   ]
  },
  {
   "cell_type": "markdown",
   "metadata": {
    "id": "cUpifjuIyk6u"
   },
   "source": [
    "## Python created by Guido von Rossum in early 1990s  (later at Google,Dropbox)\n",
    "## Language reference: https://docs.python.org/3/index.html\n",
    "\n",
    "![Guido](https://upload.wikimedia.org/wikipedia/commons/thumb/d/d0/Guido-portrait-2014-curvves.jpg/290px-Guido-portrait-2014-curvves.jpg)"
   ]
  },
  {
   "cell_type": "markdown",
   "metadata": {
    "id": "_foFHuKqyk6u"
   },
   "source": [
    "# Why Python? "
   ]
  },
  {
   "cell_type": "markdown",
   "metadata": {
    "id": "x27TkJvUyk6v"
   },
   "source": [
    "## Why Python but not Julia or R or some other language or even VBA in Excel?\n",
    "### Readability, Glue Language(APIs), From Startups to Google and Facebook, Pipeline\n",
    "\n",
    "Prime numbers in J language used at some finance institutions **1: I. 2= +/ 0= (] |/ ]) i.y**"
   ]
  },
  {
   "cell_type": "markdown",
   "metadata": {
    "id": "g0S6IymXyk6v"
   },
   "source": [
    "![Python](https://github.com/ValRCS/BSSDH_22/blob/main/notebooks/img/python_growth.png?raw=1)"
   ]
  },
  {
   "cell_type": "markdown",
   "metadata": {
    "id": "mj6ujX9yyk6v"
   },
   "source": [
    "### Python is now programming language # 1 in TIOBE language index (as of July 2022)\n",
    "https://www.tiobe.com/tiobe-index/\n",
    "\n",
    "https://developers.slashdot.org/story/18/09/08/1722213/python-displaces-c-in-tiobe-index-top-3"
   ]
  },
  {
   "cell_type": "markdown",
   "metadata": {
    "id": "hdJz4L1pyk6w"
   },
   "source": [
    "![Anaconda](https://github.com/ValRCS/BSSDH_22/blob/main/notebooks/img/cropped-Anaconda_horizontal_RGB-1-600x102.png?raw=1)\n",
    "\n",
    "https://www.anaconda.com/download/"
   ]
  },
  {
   "cell_type": "markdown",
   "metadata": {
    "id": "pspUEKcXyk6w"
   },
   "source": [
    "## Batteries included principle\n",
    "![Batteries](https://github.com/ValRCS/BSSDH_22/blob/main/notebooks/img/batteries_small.jpg?raw=1)"
   ]
  },
  {
   "cell_type": "markdown",
   "metadata": {
    "id": "_SxUIYwIyk6w"
   },
   "source": [
    "## What is Programming? <a class=\"anchor\" id=\"what-is-programming\">\n",
    "    \n",
    "[Back to Table of Contents](#toc)\n",
    "\n",
    "* Egg algorithm\n",
    "* Computers are stupid, they only do what they are told to do\n",
    "* If it is stupid but it works, then it is not stupid\n",
    "* Make it work, make it right, make it fast(last two steps often not required in real life)\n",
    "* GIGO principle\n",
    "\n",
    "* Error messages are nothing to be afraid of, usually the message will explain what needs fixing!"
   ]
  },
  {
   "cell_type": "code",
   "execution_count": 8,
   "metadata": {
    "id": "dHM2iMkEyk6w"
   },
   "outputs": [],
   "source": [
    "# Our first comment\n",
    "# Real Program Comments should generally describe why\n",
    "# Here  comments will describe extra information not covered or needed for starting out\n",
    "# REPL(Read,Eval,Print, Loop) \n",
    "# Python - Interpreted Language(commands executed as they come)"
   ]
  },
  {
   "cell_type": "markdown",
   "metadata": {
    "id": "VYfAr3Xfyk6x"
   },
   "source": [
    "## Jupyter Basics <a class=\"anchor\" id=\"jupyter-basics\">\n",
    "    \n",
    "[Back to Table of Contents](#toc)\n",
    "\n",
    "\n",
    "* Esc-M turns cell into Markdown cell for formatting (https://guides.github.com/pdfs/markdown-cheatsheet-online.pdf)\n",
    "* Esc-Y turns cell into code cell(default)\n",
    "\n",
    "\n",
    "* Ctrl-Enter runs code of cell in place\n",
    "* Alt-Enter runs code for current cell and creates a new cell below\n",
    "* Esc-A creates a new cell above current cell\n",
    "* Esc-B creates a new cell below current cell\n",
    "* Esc-dd deletes current cell\n",
    "\n",
    "Note: These shortcuts work in local (Anaconda) installation of Jupyter Notebooks. Some shortcuts might not work in Google Colab."
   ]
  },
  {
   "cell_type": "code",
   "execution_count": 9,
   "metadata": {
    "id": "rh4XZC5pyk6x"
   },
   "outputs": [],
   "source": [
    "# Try Esc-B to create a new cell, \n",
    "# Enter print(\"Hello Humanities!\")\n",
    "# Press Ctrl-Enter\n",
    "# Did you get any error messages?"
   ]
  },
  {
   "cell_type": "code",
   "execution_count": null,
   "metadata": {
    "id": "EE5mmlqImZIm"
   },
   "outputs": [],
   "source": []
  },
  {
   "cell_type": "code",
   "execution_count": null,
   "metadata": {
    "id": "I8-5rXfBmRMe"
   },
   "outputs": [],
   "source": []
  },
  {
   "cell_type": "code",
   "execution_count": null,
   "metadata": {
    "id": "PjmtnXpUz3Ax"
   },
   "outputs": [],
   "source": []
  },
  {
   "cell_type": "markdown",
   "metadata": {
    "id": "X_eMSCgIyk6x"
   },
   "source": [
    "## Variables <a class=\"anchor\" id=\"variables\">\n",
    "    \n",
    "[Back to Table of Contents](#toc)"
   ]
  },
  {
   "cell_type": "code",
   "execution_count": 5,
   "metadata": {
    "id": "vdWtRQz0yk6x"
   },
   "outputs": [],
   "source": [
    "myname=\"Valdis\"\n",
    "# Creating our first variable will persist through this workbook once it is run"
   ]
  },
  {
   "cell_type": "code",
   "execution_count": 11,
   "metadata": {
    "colab": {
     "base_uri": "https://localhost:8080/"
    },
    "id": "PacwSs_5m2MH",
    "outputId": "1b0c68be-9299-49e3-94cd-9905de89dbed"
   },
   "outputs": [
    {
     "name": "stdout",
     "output_type": "stream",
     "text": [
      "Uldis\n"
     ]
    }
   ],
   "source": [
    "print(myname)"
   ]
  },
  {
   "cell_type": "code",
   "execution_count": 13,
   "metadata": {
    "id": "tWfsq8VEyk6y"
   },
   "outputs": [],
   "source": [
    "y = 2019"
   ]
  },
  {
   "cell_type": "code",
   "execution_count": 14,
   "metadata": {
    "id": "Bd10yN8uyk6y"
   },
   "outputs": [],
   "source": [
    "the_answer = 42"
   ]
  },
  {
   "cell_type": "code",
   "execution_count": 15,
   "metadata": {
    "id": "sShI_dNFyk6y"
   },
   "outputs": [],
   "source": [
    "my_pi = 3.14159"
   ]
  },
  {
   "cell_type": "code",
   "execution_count": 16,
   "metadata": {
    "id": "Sb_5-Sxdyk6y"
   },
   "outputs": [],
   "source": [
    "is_hot = True"
   ]
  },
  {
   "cell_type": "code",
   "execution_count": 17,
   "metadata": {
    "colab": {
     "base_uri": "https://localhost:8080/"
    },
    "id": "aRuSMQHDyk6z",
    "outputId": "91b0904c-3dfc-4fb8-e18f-11c1113f2bd9"
   },
   "outputs": [
    {
     "data": {
      "text/plain": [
       "int"
      ]
     },
     "execution_count": 17,
     "metadata": {},
     "output_type": "execute_result"
    }
   ],
   "source": [
    "# type(variableName) will return variable data type\n",
    "type(theAnswer)"
   ]
  },
  {
   "cell_type": "code",
   "execution_count": null,
   "metadata": {
    "id": "v-u9Q4w0yk6z"
   },
   "outputs": [],
   "source": [
    "# What is the data type of myName ?\n",
    "# How about data type of isHot ?"
   ]
  },
  {
   "cell_type": "code",
   "execution_count": 18,
   "metadata": {
    "colab": {
     "base_uri": "https://localhost:8080/"
    },
    "id": "1TKprZDunoi5",
    "outputId": "026cf71b-cd0a-4705-b7cf-1f68ab093ca6"
   },
   "outputs": [
    {
     "data": {
      "text/plain": [
       "float"
      ]
     },
     "execution_count": 18,
     "metadata": {},
     "output_type": "execute_result"
    }
   ],
   "source": [
    "type(myPi)"
   ]
  },
  {
   "cell_type": "code",
   "execution_count": 19,
   "metadata": {
    "colab": {
     "base_uri": "https://localhost:8080/"
    },
    "id": "rmpJ-R1Qn_LV",
    "outputId": "85e47e84-8b73-4428-e63e-1b0039794851"
   },
   "outputs": [
    {
     "data": {
      "text/plain": [
       "bool"
      ]
     },
     "execution_count": 19,
     "metadata": {},
     "output_type": "execute_result"
    }
   ],
   "source": [
    "type(isHot)"
   ]
  },
  {
   "cell_type": "code",
   "execution_count": 20,
   "metadata": {
    "colab": {
     "base_uri": "https://localhost:8080/"
    },
    "id": "oRy0DVUvoHmW",
    "outputId": "f5e8bae6-8897-404e-9c53-f14ebe437af7"
   },
   "outputs": [
    {
     "data": {
      "text/plain": [
       "True"
      ]
     },
     "execution_count": 20,
     "metadata": {},
     "output_type": "execute_result"
    }
   ],
   "source": [
    "isHot"
   ]
  },
  {
   "cell_type": "code",
   "execution_count": 21,
   "metadata": {
    "colab": {
     "base_uri": "https://localhost:8080/"
    },
    "id": "h5ghzJQ9yk6z",
    "outputId": "1ab03744-2533-4ed9-e341-e5192e3f99c1"
   },
   "outputs": [
    {
     "name": "stdout",
     "output_type": "stream",
     "text": [
      "\n",
      "Here is a list of the Python keywords.  Enter any keyword to get more help.\n",
      "\n",
      "False               class               from                or\n",
      "None                continue            global              pass\n",
      "True                def                 if                  raise\n",
      "and                 del                 import              return\n",
      "as                  elif                in                  try\n",
      "assert              else                is                  while\n",
      "async               except              lambda              with\n",
      "await               finally             nonlocal            yield\n",
      "break               for                 not                 \n",
      "\n"
     ]
    }
   ],
   "source": [
    "# Variables cannot be reserved keywords\n",
    "help(\"keywords\")"
   ]
  },
  {
   "cell_type": "code",
   "execution_count": 22,
   "metadata": {
    "colab": {
     "base_uri": "https://localhost:8080/"
    },
    "id": "rDEpoGFJof9g",
    "outputId": "ebf0eaa2-b092-492e-be74-14b6afc4f272"
   },
   "outputs": [
    {
     "name": "stdout",
     "output_type": "stream",
     "text": [
      "Help on built-in function print in module builtins:\n",
      "\n",
      "print(...)\n",
      "    print(value, ..., sep=' ', end='\\n', file=sys.stdout, flush=False)\n",
      "    \n",
      "    Prints the values to a stream, or to sys.stdout by default.\n",
      "    Optional keyword arguments:\n",
      "    file:  a file-like object (stream); defaults to the current sys.stdout.\n",
      "    sep:   string inserted between values, default a space.\n",
      "    end:   string appended after the last value, default a newline.\n",
      "    flush: whether to forcibly flush the stream.\n",
      "\n"
     ]
    }
   ],
   "source": [
    "help(print)"
   ]
  },
  {
   "cell_type": "code",
   "execution_count": null,
   "metadata": {
    "id": "AYD9sHXGyk6z"
   },
   "outputs": [],
   "source": [
    "# Reserved Keywords\n",
    "\n",
    "# False               class               from                or\n",
    "# None                continue            global              pass\n",
    "# True                def                 if                  raise\n",
    "# and                 del                 import              return\n",
    "# as                  elif                in                  try\n",
    "# assert              else                is                  while\n",
    "# async               except              lambda              with\n",
    "# await               finally             nonlocal            yield\n",
    "# break               for                 not                 \n",
    " "
   ]
  },
  {
   "cell_type": "markdown",
   "metadata": {
    "id": "Qayktm7yyk6z"
   },
   "source": [
    "\n",
    "### Data types in Python 3.x\n",
    "\n",
    "* Integers type(42) int\n",
    "* Floating Point type(3.14) float\n",
    "* Boolean type(True),type(False) bool\n",
    "* String(ordered, immutable char sequence) type(\"OyCaramba\") str\n",
    "* List type([1,2,63,\"aha\",\"youcanmixtypeinsidelist\", [\"even\",\"nest\"]]) list\n",
    "* Dictionary(key:value pairs) type({\"foo\":\"bar\", \"favoriteday\":\"Friday\"}) dict\n",
    "* Tuple - ordered immutable sequence type(\"sup\",7,\"dwarves\") tup\n",
    "* Set (unordered collection of uniques) (\"k\",\"a\",\"r\",\"t\",\"u\",\"p\",\"e\",\"l\",\"i\",\"s\")"
   ]
  },
  {
   "cell_type": "code",
   "execution_count": 6,
   "metadata": {},
   "outputs": [
    {
     "data": {
      "text/plain": [
       "(21+20j)"
      ]
     },
     "execution_count": 6,
     "metadata": {},
     "output_type": "execute_result"
    }
   ],
   "source": [
    "my_complex = 5+2j # this is 5 + 2 * square root of -1\n",
    "my_complex**2 # should be 25 - 2*2 == 21"
   ]
  },
  {
   "cell_type": "code",
   "execution_count": 7,
   "metadata": {},
   "outputs": [
    {
     "data": {
      "text/plain": [
       "(29+0j)"
      ]
     },
     "execution_count": 7,
     "metadata": {},
     "output_type": "execute_result"
    }
   ],
   "source": [
    "my_complex*(5-2j)"
   ]
  },
  {
   "cell_type": "code",
   "execution_count": 8,
   "metadata": {},
   "outputs": [
    {
     "ename": "TypeError",
     "evalue": "can't convert complex to int",
     "output_type": "error",
     "traceback": [
      "\u001b[1;31m---------------------------------------------------------------------------\u001b[0m",
      "\u001b[1;31mTypeError\u001b[0m                                 Traceback (most recent call last)",
      "Input \u001b[1;32mIn [8]\u001b[0m, in \u001b[0;36m<cell line: 1>\u001b[1;34m()\u001b[0m\n\u001b[1;32m----> 1\u001b[0m \u001b[38;5;28;43mint\u001b[39;49m\u001b[43m(\u001b[49m\u001b[38;5;241;43m29\u001b[39;49m\u001b[38;5;241;43m+\u001b[39;49m\u001b[38;5;241;43m0\u001b[39;49m\u001b[43mj\u001b[49m\u001b[43m)\u001b[49m\n",
      "\u001b[1;31mTypeError\u001b[0m: can't convert complex to int"
     ]
    }
   ],
   "source": [
    "int(29+0j) # so simple cast will not work"
   ]
  },
  {
   "cell_type": "code",
   "execution_count": 11,
   "metadata": {},
   "outputs": [
    {
     "data": {
      "text/plain": [
       "29.0"
      ]
     },
     "execution_count": 11,
     "metadata": {},
     "output_type": "execute_result"
    }
   ],
   "source": [
    "(29+0j).real # so i can take real part at any time"
   ]
  },
  {
   "cell_type": "code",
   "execution_count": 9,
   "metadata": {},
   "outputs": [
    {
     "data": {
      "text/plain": [
       "5.0"
      ]
     },
     "execution_count": 9,
     "metadata": {},
     "output_type": "execute_result"
    }
   ],
   "source": [
    "my_complex.real"
   ]
  },
  {
   "cell_type": "code",
   "execution_count": 10,
   "metadata": {},
   "outputs": [
    {
     "data": {
      "text/plain": [
       "2.0"
      ]
     },
     "execution_count": 10,
     "metadata": {},
     "output_type": "execute_result"
    }
   ],
   "source": [
    "my_complex.imag"
   ]
  },
  {
   "cell_type": "code",
   "execution_count": 13,
   "metadata": {},
   "outputs": [
    {
     "data": {
      "text/plain": [
       "(3.98, 3421)"
      ]
     },
     "execution_count": 13,
     "metadata": {},
     "output_type": "execute_result"
    }
   ],
   "source": [
    "abs(3.98),abs(-3421)"
   ]
  },
  {
   "cell_type": "code",
   "execution_count": 14,
   "metadata": {},
   "outputs": [
    {
     "data": {
      "text/plain": [
       "3.14"
      ]
     },
     "execution_count": 14,
     "metadata": {},
     "output_type": "execute_result"
    }
   ],
   "source": [
    "round(3.1415926, 2)"
   ]
  },
  {
   "cell_type": "code",
   "execution_count": 15,
   "metadata": {},
   "outputs": [
    {
     "data": {
      "text/plain": [
       "3.1416"
      ]
     },
     "execution_count": 15,
     "metadata": {},
     "output_type": "execute_result"
    }
   ],
   "source": [
    "round(3.1415926, 4)"
   ]
  },
  {
   "cell_type": "code",
   "execution_count": 16,
   "metadata": {},
   "outputs": [
    {
     "data": {
      "text/plain": [
       "0.30000000000000004"
      ]
     },
     "execution_count": 16,
     "metadata": {},
     "output_type": "execute_result"
    }
   ],
   "source": [
    "# remember that floats are not precise\n",
    "# https://en.wikipedia.org/wiki/IEEE_754\n",
    "0.1+0.2 # we do not get exact 0.3"
   ]
  },
  {
   "cell_type": "markdown",
   "metadata": {
    "id": "NLqBrqSmyk6z"
   },
   "source": [
    "## More on variables\n",
    "https://realpython.com/python-variables"
   ]
  },
  {
   "cell_type": "markdown",
   "metadata": {
    "id": "nLLz0VyPyk60"
   },
   "source": [
    "## Strings\n",
    "* immutable\n",
    "* Unicode support\n",
    "\n",
    "\n",
    "* implement all common sequence operators\n",
    "https://docs.python.org/3/library/stdtypes.html#typesseq-common\n",
    "\n",
    "* string specific methods\n",
    "https://docs.python.org/3/library/stdtypes.html#string-methods"
   ]
  },
  {
   "cell_type": "code",
   "execution_count": 33,
   "metadata": {
    "colab": {
     "base_uri": "https://localhost:8080/"
    },
    "id": "ZJkwgms1yk60",
    "outputId": "16abc6df-ba66-4425-876e-57eff9e117a6"
   },
   "outputs": [
    {
     "name": "stdout",
     "output_type": "stream",
     "text": [
      "Valdis\n"
     ]
    }
   ],
   "source": [
    "name = \"Valdis\"\n",
    "print(name)"
   ]
  },
  {
   "cell_type": "code",
   "execution_count": 25,
   "metadata": {
    "id": "AiWmhksdpxC3"
   },
   "outputs": [],
   "source": [
    "myName = \"Uldis\""
   ]
  },
  {
   "cell_type": "code",
   "execution_count": 28,
   "metadata": {
    "colab": {
     "base_uri": "https://localhost:8080/"
    },
    "id": "_IIK6FraqVas",
    "outputId": "de6589d9-8262-436a-875e-ed026feb7164"
   },
   "outputs": [
    {
     "name": "stdout",
     "output_type": "stream",
     "text": [
      "Uldis\n"
     ]
    }
   ],
   "source": [
    "print(myName)"
   ]
  },
  {
   "cell_type": "code",
   "execution_count": 34,
   "metadata": {
    "colab": {
     "base_uri": "https://localhost:8080/"
    },
    "id": "_cCBXOM9yk60",
    "outputId": "ed606c4a-1506-4a20-c6f9-211dcd68c73d"
   },
   "outputs": [
    {
     "data": {
      "text/plain": [
       "6"
      ]
     },
     "execution_count": 34,
     "metadata": {},
     "output_type": "execute_result"
    }
   ],
   "source": [
    "# String length\n",
    "len(name)"
   ]
  },
  {
   "cell_type": "code",
   "execution_count": null,
   "metadata": {
    "id": "rIHKrMgQyk60"
   },
   "outputs": [],
   "source": [
    "# How is this different from name ?\n",
    "len(\"name\")"
   ]
  },
  {
   "cell_type": "code",
   "execution_count": 36,
   "metadata": {
    "colab": {
     "base_uri": "https://localhost:8080/",
     "height": 35
    },
    "id": "evJmIiRkyk60",
    "outputId": "8082c69f-b627-49f7-a785-d5638d3a9364"
   },
   "outputs": [
    {
     "data": {
      "application/vnd.google.colaboratory.intrinsic+json": {
       "type": "string"
      },
      "text/plain": [
       "'a'"
      ]
     },
     "execution_count": 36,
     "metadata": {},
     "output_type": "execute_result"
    }
   ],
   "source": [
    "# Getting Individual characters\n",
    "name[1]"
   ]
  },
  {
   "cell_type": "code",
   "execution_count": 37,
   "metadata": {
    "colab": {
     "base_uri": "https://localhost:8080/",
     "height": 35
    },
    "id": "F5gUZK5Ayk60",
    "outputId": "79d414be-c354-4f4d-d731-d9234154763e"
   },
   "outputs": [
    {
     "data": {
      "application/vnd.google.colaboratory.intrinsic+json": {
       "type": "string"
      },
      "text/plain": [
       "'s'"
      ]
     },
     "execution_count": 37,
     "metadata": {},
     "output_type": "execute_result"
    }
   ],
   "source": [
    "# Getting last char\n",
    "name[-1]"
   ]
  },
  {
   "cell_type": "markdown",
   "metadata": {
    "id": "w4Lf34OUyk61"
   },
   "source": [
    "### String Slicing"
   ]
  },
  {
   "cell_type": "code",
   "execution_count": 38,
   "metadata": {
    "colab": {
     "base_uri": "https://localhost:8080/",
     "height": 35
    },
    "id": "d2Frzw-Lyk61",
    "outputId": "79c861c4-0c2c-4ff7-c5fa-cad8e0aaa15d"
   },
   "outputs": [
    {
     "data": {
      "application/vnd.google.colaboratory.intrinsic+json": {
       "type": "string"
      },
      "text/plain": [
       "'Val'"
      ]
     },
     "execution_count": 38,
     "metadata": {},
     "output_type": "execute_result"
    }
   ],
   "source": [
    "# Slicing syntax\n",
    "# Start at 0 an go until but not including 3\n",
    "name[0:3]"
   ]
  },
  {
   "cell_type": "code",
   "execution_count": 39,
   "metadata": {
    "colab": {
     "base_uri": "https://localhost:8080/",
     "height": 35
    },
    "id": "Ar7t3e_krf6F",
    "outputId": "a40d2179-b359-473b-f91c-82095f02f42f"
   },
   "outputs": [
    {
     "data": {
      "application/vnd.google.colaboratory.intrinsic+json": {
       "type": "string"
      },
      "text/plain": [
       "'Val'"
      ]
     },
     "execution_count": 39,
     "metadata": {},
     "output_type": "execute_result"
    }
   ],
   "source": [
    "name[:3]"
   ]
  },
  {
   "cell_type": "code",
   "execution_count": 40,
   "metadata": {
    "colab": {
     "base_uri": "https://localhost:8080/",
     "height": 35
    },
    "id": "4tk6jWskyk61",
    "outputId": "da41eca8-04ef-4774-8371-bc6a401704f1"
   },
   "outputs": [
    {
     "data": {
      "application/vnd.google.colaboratory.intrinsic+json": {
       "type": "string"
      },
      "text/plain": [
       "'al'"
      ]
     },
     "execution_count": 40,
     "metadata": {},
     "output_type": "execute_result"
    }
   ],
   "source": [
    "name[1:3]"
   ]
  },
  {
   "cell_type": "code",
   "execution_count": 41,
   "metadata": {
    "colab": {
     "base_uri": "https://localhost:8080/",
     "height": 35
    },
    "id": "MypGDyJgrxAU",
    "outputId": "54bbd31a-a53d-4a2e-bab8-a14b7d6bd608"
   },
   "outputs": [
    {
     "data": {
      "application/vnd.google.colaboratory.intrinsic+json": {
       "type": "string"
      },
      "text/plain": [
       "'dis'"
      ]
     },
     "execution_count": 41,
     "metadata": {},
     "output_type": "execute_result"
    }
   ],
   "source": [
    "# last three characters\n",
    "name[-3:] # so we slice from 3 characters in the end and go towards that end"
   ]
  },
  {
   "cell_type": "code",
   "execution_count": 42,
   "metadata": {
    "colab": {
     "base_uri": "https://localhost:8080/",
     "height": 35
    },
    "id": "Mc2G_duCr8yY",
    "outputId": "d2ccef3e-90c7-4244-8dad-b44bae691f81"
   },
   "outputs": [
    {
     "data": {
      "application/vnd.google.colaboratory.intrinsic+json": {
       "type": "string"
      },
      "text/plain": [
       "'di'"
      ]
     },
     "execution_count": 42,
     "metadata": {},
     "output_type": "execute_result"
    }
   ],
   "source": [
    "name[-3:-1] # this will give 3rd and 2nd character from the end BUT not the last one"
   ]
  },
  {
   "cell_type": "code",
   "execution_count": 44,
   "metadata": {
    "colab": {
     "base_uri": "https://localhost:8080/"
    },
    "id": "pyDMGpozsGKg",
    "outputId": "e82f4179-a067-4405-816b-76f196c15b97"
   },
   "outputs": [
    {
     "data": {
      "text/plain": [
       "('s', 's')"
      ]
     },
     "execution_count": 44,
     "metadata": {},
     "output_type": "execute_result"
    }
   ],
   "source": [
    "name[5], name[-1] # so Python offers two indexes one from the start starting at 0, and one from the end starting at -1"
   ]
  },
  {
   "cell_type": "code",
   "execution_count": 45,
   "metadata": {
    "colab": {
     "base_uri": "https://localhost:8080/",
     "height": 168
    },
    "id": "dMCauuGEsaGT",
    "outputId": "d29c57f0-78dc-4976-9caa-d65211693d25"
   },
   "outputs": [
    {
     "ename": "IndexError",
     "evalue": "ignored",
     "output_type": "error",
     "traceback": [
      "\u001b[0;31m---------------------------------------------------------------------------\u001b[0m",
      "\u001b[0;31mIndexError\u001b[0m                                Traceback (most recent call last)",
      "\u001b[0;32m<ipython-input-45-0b720389bc66>\u001b[0m in \u001b[0;36m<module>\u001b[0;34m()\u001b[0m\n\u001b[0;32m----> 1\u001b[0;31m \u001b[0mname\u001b[0m\u001b[0;34m[\u001b[0m\u001b[0;36m9000\u001b[0m\u001b[0;34m]\u001b[0m\u001b[0;34m\u001b[0m\u001b[0;34m\u001b[0m\u001b[0m\n\u001b[0m",
      "\u001b[0;31mIndexError\u001b[0m: string index out of range"
     ]
    }
   ],
   "source": [
    "name[9000]"
   ]
  },
  {
   "cell_type": "code",
   "execution_count": 46,
   "metadata": {
    "colab": {
     "base_uri": "https://localhost:8080/",
     "height": 35
    },
    "id": "UO0sSwZJsfCy",
    "outputId": "fd3bc05f-7bc6-479c-d3ba-620f5c0a5d31"
   },
   "outputs": [
    {
     "data": {
      "application/vnd.google.colaboratory.intrinsic+json": {
       "type": "string"
      },
      "text/plain": [
       "'Valdis'"
      ]
     },
     "execution_count": 46,
     "metadata": {},
     "output_type": "execute_result"
    }
   ],
   "source": [
    "# slicing will let you specify indexes out of range\n",
    "name[-500:700]"
   ]
  },
  {
   "cell_type": "code",
   "execution_count": 47,
   "metadata": {
    "colab": {
     "base_uri": "https://localhost:8080/",
     "height": 35
    },
    "id": "TZZZjQtPsrTB",
    "outputId": "c103d8d9-6c8a-4836-88eb-71542640a253"
   },
   "outputs": [
    {
     "data": {
      "application/vnd.google.colaboratory.intrinsic+json": {
       "type": "string"
      },
      "text/plain": [
       "'dis'"
      ]
     },
     "execution_count": 47,
     "metadata": {},
     "output_type": "execute_result"
    }
   ],
   "source": [
    "name[-3:9000]"
   ]
  },
  {
   "cell_type": "code",
   "execution_count": 48,
   "metadata": {
    "colab": {
     "base_uri": "https://localhost:8080/",
     "height": 35
    },
    "id": "V4nvBiFTyk61",
    "outputId": "8ae11cf3-6c41-43c4-9651-d794f2622daa"
   },
   "outputs": [
    {
     "data": {
      "application/vnd.google.colaboratory.intrinsic+json": {
       "type": "string"
      },
      "text/plain": [
       "'Vli'"
      ]
     },
     "execution_count": 48,
     "metadata": {},
     "output_type": "execute_result"
    }
   ],
   "source": [
    "# slicing syntax actually has a 3rd optional modifier - step\n",
    "name[0:6:2]"
   ]
  },
  {
   "cell_type": "code",
   "execution_count": 49,
   "metadata": {
    "colab": {
     "base_uri": "https://localhost:8080/",
     "height": 35
    },
    "id": "k3NY_dcotAxv",
    "outputId": "9970c90b-fea0-465a-bfd2-1ffbdbbe4a9d"
   },
   "outputs": [
    {
     "data": {
      "application/vnd.google.colaboratory.intrinsic+json": {
       "type": "string"
      },
      "text/plain": [
       "'Vli'"
      ]
     },
     "execution_count": 49,
     "metadata": {},
     "output_type": "execute_result"
    }
   ],
   "source": [
    "name[::2] # so I want to print all letters starting from start but skip every 2nd one"
   ]
  },
  {
   "cell_type": "code",
   "execution_count": 50,
   "metadata": {
    "colab": {
     "base_uri": "https://localhost:8080/",
     "height": 35
    },
    "id": "i2rgqIrQyk61",
    "outputId": "5929b846-793b-4537-8e23-8f7ffb086f17"
   },
   "outputs": [
    {
     "data": {
      "application/vnd.google.colaboratory.intrinsic+json": {
       "type": "string"
      },
      "text/plain": [
       "'ptte'"
      ]
     },
     "execution_count": 50,
     "metadata": {},
     "output_type": "execute_result"
    }
   ],
   "source": [
    "# lets play with food!\n",
    "food = \"potatoes\"\n",
    "food[::2]"
   ]
  },
  {
   "cell_type": "code",
   "execution_count": 51,
   "metadata": {
    "colab": {
     "base_uri": "https://localhost:8080/",
     "height": 35
    },
    "id": "iwXQNx-tyk62",
    "outputId": "c126a913-0906-43e6-edaa-19da8cbbea96"
   },
   "outputs": [
    {
     "data": {
      "application/vnd.google.colaboratory.intrinsic+json": {
       "type": "string"
      },
      "text/plain": [
       "'oaos'"
      ]
     },
     "execution_count": 51,
     "metadata": {},
     "output_type": "execute_result"
    }
   ],
   "source": [
    "food[1::2] # we start with a 2nd letter and skip every 2nd letter from then on"
   ]
  },
  {
   "cell_type": "code",
   "execution_count": 52,
   "metadata": {
    "colab": {
     "base_uri": "https://localhost:8080/",
     "height": 35
    },
    "id": "Msa_Ad2Myk62",
    "outputId": "3041c503-d178-46ef-be91-136976879a03"
   },
   "outputs": [
    {
     "data": {
      "application/vnd.google.colaboratory.intrinsic+json": {
       "type": "string"
      },
      "text/plain": [
       "'oao'"
      ]
     },
     "execution_count": 52,
     "metadata": {},
     "output_type": "execute_result"
    }
   ],
   "source": [
    "food[1:6:2]"
   ]
  },
  {
   "cell_type": "code",
   "execution_count": 53,
   "metadata": {
    "colab": {
     "base_uri": "https://localhost:8080/",
     "height": 35
    },
    "id": "eVA7IzQcyk62",
    "outputId": "851e7e3a-3daf-4507-b501-1d56ff76752b"
   },
   "outputs": [
    {
     "data": {
      "application/vnd.google.colaboratory.intrinsic+json": {
       "type": "string"
      },
      "text/plain": [
       "'seotatop'"
      ]
     },
     "execution_count": 53,
     "metadata": {},
     "output_type": "execute_result"
    }
   ],
   "source": [
    "# Pythonic way of reversing a string\n",
    "food[::-1]\n"
   ]
  },
  {
   "cell_type": "code",
   "execution_count": 54,
   "metadata": {
    "colab": {
     "base_uri": "https://localhost:8080/",
     "height": 168
    },
    "id": "nORDYX41t09O",
    "outputId": "25701c39-6548-4523-898f-13257564527f"
   },
   "outputs": [
    {
     "ename": "TypeError",
     "evalue": "ignored",
     "output_type": "error",
     "traceback": [
      "\u001b[0;31m---------------------------------------------------------------------------\u001b[0m",
      "\u001b[0;31mTypeError\u001b[0m                                 Traceback (most recent call last)",
      "\u001b[0;32m<ipython-input-54-f8c1ae6dd029>\u001b[0m in \u001b[0;36m<module>\u001b[0;34m()\u001b[0m\n\u001b[0;32m----> 1\u001b[0;31m \u001b[0mfood\u001b[0m\u001b[0;34m[\u001b[0m\u001b[0;36m2\u001b[0m\u001b[0;34m]\u001b[0m \u001b[0;34m=\u001b[0m \u001b[0;34m\"x\"\u001b[0m\u001b[0;34m\u001b[0m\u001b[0;34m\u001b[0m\u001b[0m\n\u001b[0m",
      "\u001b[0;31mTypeError\u001b[0m: 'str' object does not support item assignment"
     ]
    }
   ],
   "source": [
    "food[2] = \"x\""
   ]
  },
  {
   "cell_type": "code",
   "execution_count": 55,
   "metadata": {
    "colab": {
     "base_uri": "https://localhost:8080/",
     "height": 35
    },
    "id": "j4ils2ODyk62",
    "outputId": "53dc9220-f0b8-41e7-b7c5-80bdc620f668"
   },
   "outputs": [
    {
     "data": {
      "application/vnd.google.colaboratory.intrinsic+json": {
       "type": "string"
      },
      "text/plain": [
       "'poxatoes'"
      ]
     },
     "execution_count": 55,
     "metadata": {},
     "output_type": "execute_result"
    }
   ],
   "source": [
    "# modifying strings\n",
    "# unmutability\n",
    "# food[2]=\"x\" is not allowed\n",
    "newfood = food[:2] + \"x\" + food[3:] # so we concatanate first 2 letters from food then add letter \"x\" and then rest of letters from food starting with the 4th characters\n",
    "newfood"
   ]
  },
  {
   "cell_type": "code",
   "execution_count": 56,
   "metadata": {
    "colab": {
     "base_uri": "https://localhost:8080/",
     "height": 35
    },
    "id": "_sQ4cEufuRfA",
    "outputId": "85b5d19a-e036-42a7-91d2-6576f41d6b6a"
   },
   "outputs": [
    {
     "data": {
      "application/vnd.google.colaboratory.intrinsic+json": {
       "type": "string"
      },
      "text/plain": [
       "'Saulespurēns'"
      ]
     },
     "execution_count": 56,
     "metadata": {},
     "output_type": "execute_result"
    }
   ],
   "source": [
    "last_name = \"Saulespurēns\"\n",
    "last_name"
   ]
  },
  {
   "cell_type": "code",
   "execution_count": 60,
   "metadata": {
    "colab": {
     "base_uri": "https://localhost:8080/",
     "height": 35
    },
    "id": "qGh04I3zuYTM",
    "outputId": "b7878caf-6c55-4f5b-f3ed-cb739e90bb99"
   },
   "outputs": [
    {
     "data": {
      "application/vnd.google.colaboratory.intrinsic+json": {
       "type": "string"
      },
      "text/plain": [
       "'ValdisSaulespurēns'"
      ]
     },
     "execution_count": 60,
     "metadata": {},
     "output_type": "execute_result"
    }
   ],
   "source": [
    "full_name = name + last_name\n",
    "full_name"
   ]
  },
  {
   "cell_type": "code",
   "execution_count": 61,
   "metadata": {
    "colab": {
     "base_uri": "https://localhost:8080/",
     "height": 35
    },
    "id": "tMK5ad-Jum3N",
    "outputId": "8789a5ef-536c-4630-9d86-5b7ec656eba6"
   },
   "outputs": [
    {
     "data": {
      "application/vnd.google.colaboratory.intrinsic+json": {
       "type": "string"
      },
      "text/plain": [
       "'Valdis Saulespurēns'"
      ]
     },
     "execution_count": 61,
     "metadata": {},
     "output_type": "execute_result"
    }
   ],
   "source": [
    "full_name = name + \" \" + last_name\n",
    "full_name"
   ]
  },
  {
   "cell_type": "code",
   "execution_count": 62,
   "metadata": {
    "id": "DthXz9ujyk62"
   },
   "outputs": [],
   "source": [
    "# 'some text', \"some text again\" work the same\n",
    "# '''  For multiline ''' also \"\"\" and \"\"\"\n",
    "longstring = ''' This will be a very long string\n",
    "    and a very long day you can write what you want\n",
    "\n",
    "    and a very long summer\n",
    "'''"
   ]
  },
  {
   "cell_type": "code",
   "execution_count": 63,
   "metadata": {
    "colab": {
     "base_uri": "https://localhost:8080/",
     "height": 35
    },
    "id": "L2VRCfQ-yk63",
    "outputId": "1245c410-d1c2-4f45-bb8b-bc3d19bf0e3d"
   },
   "outputs": [
    {
     "data": {
      "application/vnd.google.colaboratory.intrinsic+json": {
       "type": "string"
      },
      "text/plain": [
       "' This will be a very long string\\n    and a very long day\\n    and a very long summer\\n'"
      ]
     },
     "execution_count": 63,
     "metadata": {},
     "output_type": "execute_result"
    }
   ],
   "source": [
    "# print out the longstring\n",
    "longstring"
   ]
  },
  {
   "cell_type": "code",
   "execution_count": 64,
   "metadata": {
    "colab": {
     "base_uri": "https://localhost:8080/"
    },
    "id": "Bc1GfIiNu_jE",
    "outputId": "80b05a40-1e99-4b96-eb67-f184d80077b1"
   },
   "outputs": [
    {
     "name": "stdout",
     "output_type": "stream",
     "text": [
      " This will be a very long string\n",
      "    and a very long day\n",
      "    and a very long summer\n",
      "\n"
     ]
    }
   ],
   "source": [
    "print(longstring)"
   ]
  },
  {
   "cell_type": "markdown",
   "metadata": {
    "id": "pwOxFbXsyk63"
   },
   "source": [
    "## \"f-strings\", “formatted string literals”\n",
    "\n",
    "In some other languages also known as string interpolation"
   ]
  },
  {
   "cell_type": "code",
   "execution_count": 65,
   "metadata": {
    "colab": {
     "base_uri": "https://localhost:8080/",
     "height": 35
    },
    "id": "eGwasQzEyk63",
    "outputId": "7ed742c1-77a5-4616-dd8e-ecdee0e49702"
   },
   "outputs": [
    {
     "data": {
      "application/vnd.google.colaboratory.intrinsic+json": {
       "type": "string"
      },
      "text/plain": [
       "'Uldis'"
      ]
     },
     "execution_count": 65,
     "metadata": {},
     "output_type": "execute_result"
    }
   ],
   "source": [
    "# Create myname and favfood variables with appropriate text\n",
    "# Then run the cell below\n",
    "# What would happen if you did not assign variables ?\n",
    "myname"
   ]
  },
  {
   "cell_type": "code",
   "execution_count": 66,
   "metadata": {
    "colab": {
     "base_uri": "https://localhost:8080/",
     "height": 35
    },
    "id": "btOR_9VDv0Q1",
    "outputId": "bdc4477f-76f6-4eb7-86e7-8b866aac26b2"
   },
   "outputs": [
    {
     "data": {
      "application/vnd.google.colaboratory.intrinsic+json": {
       "type": "string"
      },
      "text/plain": [
       "'pizza'"
      ]
     },
     "execution_count": 66,
     "metadata": {},
     "output_type": "execute_result"
    }
   ],
   "source": [
    "favfood = \"pizza\"\n",
    "favfood"
   ]
  },
  {
   "cell_type": "code",
   "execution_count": 67,
   "metadata": {
    "colab": {
     "base_uri": "https://localhost:8080/"
    },
    "id": "F6iqEY0Jyk63",
    "outputId": "61d49dba-efb1-4940-fa3b-9053044a0a17"
   },
   "outputs": [
    {
     "name": "stdout",
     "output_type": "stream",
     "text": [
      "My name is Uldis and my favorite food is pizza \n"
     ]
    }
   ],
   "source": [
    "print(f\"My name is {myname} and my favorite food is {favfood} \")\n",
    "# f strings in Python 3.6+ older formatting methods not covered in this course\n",
    "# https://realpython.com/python-f-strings/\n"
   ]
  },
  {
   "cell_type": "code",
   "execution_count": 68,
   "metadata": {
    "colab": {
     "base_uri": "https://localhost:8080/"
    },
    "id": "1ZITJytQwDb7",
    "outputId": "d40052ed-e816-45f1-cab9-e04ac8300ccb"
   },
   "outputs": [
    {
     "name": "stdout",
     "output_type": "stream",
     "text": [
      "My name is {myname} and my favorite food is {favfood} \n"
     ]
    }
   ],
   "source": [
    "print(\"My name is {myname} and my favorite food is {favfood} \") # just a regular string and no variables will be replaced"
   ]
  },
  {
   "cell_type": "code",
   "execution_count": 69,
   "metadata": {
    "colab": {
     "base_uri": "https://localhost:8080/"
    },
    "id": "XNZHcE6fyk63",
    "outputId": "79145bfb-1e1f-4425-b5b1-d45aede136e6"
   },
   "outputs": [
    {
     "name": "stdout",
     "output_type": "stream",
     "text": [
      "My name is Uldis and my favorite food is pizza\n"
     ]
    }
   ],
   "source": [
    "# Old string concatation method\n",
    "print(\"My name is \" + myname + \" and my favorite food is \" + favfood)"
   ]
  },
  {
   "cell_type": "code",
   "execution_count": 70,
   "metadata": {
    "colab": {
     "base_uri": "https://localhost:8080/",
     "height": 35
    },
    "id": "mkSNQTbLwO0M",
    "outputId": "3518f0d7-1634-4a6e-de02-35521a9e84aa"
   },
   "outputs": [
    {
     "data": {
      "application/vnd.google.colaboratory.intrinsic+json": {
       "type": "string"
      },
      "text/plain": [
       "'My name is Uldis and my favorite food is pizza '"
      ]
     },
     "execution_count": 70,
     "metadata": {},
     "output_type": "execute_result"
    }
   ],
   "source": [
    "food_string = f\"My name is {myname} and my favorite food is {favfood} \"  # anything inside \" is significant\"\n",
    "food_string"
   ]
  },
  {
   "cell_type": "markdown",
   "metadata": {
    "id": "Ab46RX_Ayk63"
   },
   "source": [
    "## Python Lists\n",
    "\n",
    "* Ordered\n",
    "* Mutable(can change individual members!)\n",
    "* Comma separated between brackets [1,3,2,5,6,2]\n",
    "* Can have duplicates\n",
    "* Can be nested\n"
   ]
  },
  {
   "cell_type": "code",
   "execution_count": 71,
   "metadata": {
    "colab": {
     "base_uri": "https://localhost:8080/"
    },
    "id": "Pj1LtSiiyk63",
    "outputId": "30883ca8-54b2-415a-a5b6-25e29cf8e2a9"
   },
   "outputs": [
    {
     "name": "stdout",
     "output_type": "stream",
     "text": [
      "[11, 12, 13, 14, 15, 16, 17, 18, 19, 20]\n"
     ]
    }
   ],
   "source": [
    "mylist = list(range(11,21,1)) \n",
    "# mylist = [11, 12, 13, 14, 15, 16, 17, 18, 19, 20] would work too but not practical for longer ranges...\n",
    "print(mylist)"
   ]
  },
  {
   "cell_type": "code",
   "execution_count": 72,
   "metadata": {
    "colab": {
     "base_uri": "https://localhost:8080/"
    },
    "id": "ov8VuKAEw4oZ",
    "outputId": "0b7ba00a-8970-476b-e492-7ae7166e3f21"
   },
   "outputs": [
    {
     "data": {
      "text/plain": [
       "['Chocolate', 'Milk', 'Cookies']"
      ]
     },
     "execution_count": 72,
     "metadata": {},
     "output_type": "execute_result"
    }
   ],
   "source": [
    "shopping_list = [\"Chocolate\", \"Milk\", \"Cookies\"] # so i created a list of 3 strings - can be changed later on as needed\n",
    "shopping_list"
   ]
  },
  {
   "cell_type": "markdown",
   "metadata": {
    "id": "lS62R1xHyk63"
   },
   "source": [
    "### Slice notation\n",
    "\n",
    "somestring[start:end:step]\n",
    "\n",
    "somelist[start:end:step]\n",
    "\n",
    "start is at index 0(first element), end is -1 the actual index\n",
    "#### Examples below"
   ]
  },
  {
   "cell_type": "code",
   "execution_count": 96,
   "metadata": {
    "colab": {
     "base_uri": "https://localhost:8080/"
    },
    "id": "tKZeoEl-yk64",
    "outputId": "9b4ba575-ea8d-4cd7-b578-cfff8ffe8c3a"
   },
   "outputs": [
    {
     "data": {
      "text/plain": [
       "11"
      ]
     },
     "execution_count": 96,
     "metadata": {},
     "output_type": "execute_result"
    }
   ],
   "source": [
    "mylist[0]"
   ]
  },
  {
   "cell_type": "code",
   "execution_count": 74,
   "metadata": {
    "colab": {
     "base_uri": "https://localhost:8080/",
     "height": 35
    },
    "id": "zyZZ9KXGxQog",
    "outputId": "758948ca-56fb-49ab-a9b6-d2a6cf8787e1"
   },
   "outputs": [
    {
     "data": {
      "application/vnd.google.colaboratory.intrinsic+json": {
       "type": "string"
      },
      "text/plain": [
       "'Cookies'"
      ]
     },
     "execution_count": 74,
     "metadata": {},
     "output_type": "execute_result"
    }
   ],
   "source": [
    "shopping_list[-1]"
   ]
  },
  {
   "cell_type": "code",
   "execution_count": 75,
   "metadata": {
    "colab": {
     "base_uri": "https://localhost:8080/"
    },
    "id": "Xd3DkIPgxYmL",
    "outputId": "5ed2c01a-c6e1-49dc-a44d-6144266ce1d3"
   },
   "outputs": [
    {
     "data": {
      "text/plain": [
       "['Chocolate', 'Milk', 'Potatoes']"
      ]
     },
     "execution_count": 75,
     "metadata": {},
     "output_type": "execute_result"
    }
   ],
   "source": [
    "shopping_list[-1] = \"Potatoes\"\n",
    "shopping_list"
   ]
  },
  {
   "cell_type": "code",
   "execution_count": 76,
   "metadata": {
    "colab": {
     "base_uri": "https://localhost:8080/"
    },
    "id": "cg8Nn8Xlyk64",
    "outputId": "65fbf700-9692-409e-d0ec-f59e492fe137"
   },
   "outputs": [
    {
     "data": {
      "text/plain": [
       "[14, 15, 16, 17, 18, 19, 20]"
      ]
     },
     "execution_count": 76,
     "metadata": {},
     "output_type": "execute_result"
    }
   ],
   "source": [
    "mylist[3:] # so starting from the 4th element(with index 3)"
   ]
  },
  {
   "cell_type": "code",
   "execution_count": 77,
   "metadata": {
    "colab": {
     "base_uri": "https://localhost:8080/"
    },
    "id": "PF9Pqnyeyk64",
    "outputId": "a1043717-e3ea-465c-fa66-7ba751d57e5a"
   },
   "outputs": [
    {
     "data": {
      "text/plain": [
       "[11, 12, 13, 14, 15, 16, 17, 18]"
      ]
     },
     "execution_count": 77,
     "metadata": {},
     "output_type": "execute_result"
    }
   ],
   "source": [
    "mylist[:-2] # so everything BUT the last two items"
   ]
  },
  {
   "cell_type": "code",
   "execution_count": 78,
   "metadata": {
    "colab": {
     "base_uri": "https://localhost:8080/"
    },
    "id": "xmKJGEc0yk64",
    "outputId": "217193c9-ec5a-49d7-cad0-82bbbde1077d"
   },
   "outputs": [
    {
     "data": {
      "text/plain": [
       "[11, 13, 15, 17, 19]"
      ]
     },
     "execution_count": 78,
     "metadata": {},
     "output_type": "execute_result"
    }
   ],
   "source": [
    "mylist[::2]"
   ]
  },
  {
   "cell_type": "code",
   "execution_count": null,
   "metadata": {
    "colab": {
     "base_uri": "https://localhost:8080/",
     "height": 35
    },
    "id": "XBQVRvFCyk64",
    "outputId": "a1ea3900-d7f5-4818-f60f-379f751255a6"
   },
   "outputs": [
    {
     "data": {
      "application/vnd.google.colaboratory.intrinsic+json": {
       "type": "string"
      },
      "text/plain": [
       "'ldi'"
      ]
     },
     "execution_count": 17,
     "metadata": {},
     "output_type": "execute_result"
    }
   ],
   "source": [
    "\"Valdis\"[2:5]"
   ]
  },
  {
   "cell_type": "code",
   "execution_count": null,
   "metadata": {
    "id": "32NEQe4vyk64"
   },
   "outputs": [],
   "source": [
    "myname[-1]"
   ]
  },
  {
   "cell_type": "code",
   "execution_count": null,
   "metadata": {
    "id": "XsTGTVo0yk65"
   },
   "outputs": [],
   "source": [
    "myname[::-1]"
   ]
  },
  {
   "cell_type": "markdown",
   "metadata": {
    "id": "LFGg71Z6yk65"
   },
   "source": [
    "\n",
    "### Common list methods.\n",
    "* list.append(elem) -- adds a single element to the end of the list. Common error: does not return the new list, just modifies the original.\n",
    "* list.insert(index, elem) -- inserts the element at the given index, shifting elements to the right.\n",
    "* list.extend(list2) adds the elements in list2 to the end of the list. Using + or += on a list is similar to using extend().\n",
    "* list.index(elem) -- searches for the given element from the start of the list and returns its index. Throws a ValueError if the element does not appear (use \"in\" to check without a ValueError).\n",
    "* list.remove(elem) -- searches for the first instance of the given element and removes it (throws ValueError if not present)\n",
    "* list.sort() -- sorts the list in place (does not return it). (The sorted() function shown later is preferred.)\n",
    "* list.reverse() -- reverses the list in place (does not return it)\n",
    "* list.pop(index)-- removes and returns the element at the given index. Returns the rightmost element if index is omitted (roughly the opposite of append())."
   ]
  },
  {
   "cell_type": "code",
   "execution_count": 79,
   "metadata": {
    "colab": {
     "base_uri": "https://localhost:8080/"
    },
    "id": "pbsx7duKx5ha",
    "outputId": "9d38e52e-d13f-4184-ee34-5388b275b855"
   },
   "outputs": [
    {
     "data": {
      "text/plain": [
       "['Chocolate', 'Milk', 'Potatoes']"
      ]
     },
     "execution_count": 79,
     "metadata": {},
     "output_type": "execute_result"
    }
   ],
   "source": [
    "shopping_list"
   ]
  },
  {
   "cell_type": "code",
   "execution_count": 80,
   "metadata": {
    "colab": {
     "base_uri": "https://localhost:8080/"
    },
    "id": "Kbu66bEgx9-s",
    "outputId": "057cf978-3cc9-4538-d61a-f644b51860d6"
   },
   "outputs": [
    {
     "data": {
      "text/plain": [
       "['Chocolate', 'Milk', 'Potatoes', 'Kefir']"
      ]
     },
     "execution_count": 80,
     "metadata": {},
     "output_type": "execute_result"
    }
   ],
   "source": [
    "shopping_list.append(\"Kefir\")\n",
    "shopping_list"
   ]
  },
  {
   "cell_type": "code",
   "execution_count": 81,
   "metadata": {
    "colab": {
     "base_uri": "https://localhost:8080/"
    },
    "id": "U3febKV1yMUI",
    "outputId": "691623b1-2a67-4e80-d2df-af8ee0d792f5"
   },
   "outputs": [
    {
     "data": {
      "text/plain": [
       "['Chocolate', 'Kefir', 'Milk', 'Potatoes']"
      ]
     },
     "execution_count": 81,
     "metadata": {},
     "output_type": "execute_result"
    }
   ],
   "source": [
    "shopping_list.sort() # this will sort a list\n",
    "shopping_list"
   ]
  },
  {
   "cell_type": "code",
   "execution_count": 86,
   "metadata": {
    "colab": {
     "base_uri": "https://localhost:8080/"
    },
    "id": "JO5st21XyVhY",
    "outputId": "a1d2807d-e336-4c6f-972c-9c1f9c404e81"
   },
   "outputs": [
    {
     "data": {
      "text/plain": [
       "['Chocolate', 'Kefir', 'Milk', 'Potatoes', 'fork', 'fork', 'fork', 'fork']"
      ]
     },
     "execution_count": 86,
     "metadata": {},
     "output_type": "execute_result"
    }
   ],
   "source": [
    "shopping_list.append(\"fork\")\n",
    "shopping_list"
   ]
  },
  {
   "cell_type": "code",
   "execution_count": 87,
   "metadata": {
    "colab": {
     "base_uri": "https://localhost:8080/"
    },
    "id": "rwChOk8GyvbG",
    "outputId": "869715bf-d676-4779-9a76-8fcef59153ba"
   },
   "outputs": [
    {
     "data": {
      "text/plain": [
       "['Chocolate', 'Kefir', 'Milk', 'Potatoes', 'fork']"
      ]
     },
     "execution_count": 87,
     "metadata": {},
     "output_type": "execute_result"
    }
   ],
   "source": [
    "shopping_list = shopping_list[:-3] # so remove last 3 items\n",
    "shopping_list"
   ]
  },
  {
   "cell_type": "code",
   "execution_count": 83,
   "metadata": {
    "colab": {
     "base_uri": "https://localhost:8080/"
    },
    "id": "g5FqcG8eyeKH",
    "outputId": "5c5d2ba6-216e-49f3-a4dc-cae3efd28407"
   },
   "outputs": [
    {
     "data": {
      "text/plain": [
       "['Chocolate', 'Kefir', 'Milk', 'Potatoes', 'fork']"
      ]
     },
     "execution_count": 83,
     "metadata": {},
     "output_type": "execute_result"
    }
   ],
   "source": [
    "shopping_list.sort()\n",
    "shopping_list"
   ]
  },
  {
   "cell_type": "code",
   "execution_count": 88,
   "metadata": {
    "colab": {
     "base_uri": "https://localhost:8080/"
    },
    "id": "lDug1ZoazASu",
    "outputId": "71593163-de2a-444e-99b5-425c784b309f"
   },
   "outputs": [
    {
     "data": {
      "text/plain": [
       "['Chocolate', 'Kefir', 'Potatoes', 'fork']"
      ]
     },
     "execution_count": 88,
     "metadata": {},
     "output_type": "execute_result"
    }
   ],
   "source": [
    "shopping_list.remove(\"Milk\")\n",
    "shopping_list"
   ]
  },
  {
   "cell_type": "code",
   "execution_count": 90,
   "metadata": {
    "colab": {
     "base_uri": "https://localhost:8080/"
    },
    "id": "FkHGu6fazRCF",
    "outputId": "257007c1-bcf6-4f20-b0f8-021e6edc8d6d"
   },
   "outputs": [
    {
     "data": {
      "text/plain": [
       "True"
      ]
     },
     "execution_count": 90,
     "metadata": {},
     "output_type": "execute_result"
    }
   ],
   "source": [
    "\"Kefir\" in shopping_list  # this needs to be exact match"
   ]
  },
  {
   "cell_type": "code",
   "execution_count": 92,
   "metadata": {
    "colab": {
     "base_uri": "https://localhost:8080/"
    },
    "id": "LBm6xnhAzb9Y",
    "outputId": "ff613497-b96f-4c1b-cf76-c855a14ab87c"
   },
   "outputs": [
    {
     "data": {
      "text/plain": [
       "False"
      ]
     },
     "execution_count": 92,
     "metadata": {},
     "output_type": "execute_result"
    }
   ],
   "source": [
    "\"kefir\" in shopping_list # case sensitive so it should be false"
   ]
  },
  {
   "cell_type": "code",
   "execution_count": 91,
   "metadata": {
    "colab": {
     "base_uri": "https://localhost:8080/"
    },
    "id": "b-aF5slHzYG5",
    "outputId": "6746dd62-94a5-4b75-dcc9-cd47723c4495"
   },
   "outputs": [
    {
     "data": {
      "text/plain": [
       "False"
      ]
     },
     "execution_count": 91,
     "metadata": {},
     "output_type": "execute_result"
    }
   ],
   "source": [
    "\"Milk\" in shopping_list"
   ]
  },
  {
   "cell_type": "code",
   "execution_count": 93,
   "metadata": {
    "colab": {
     "base_uri": "https://localhost:8080/"
    },
    "id": "V9tvNzyTzlhY",
    "outputId": "7ee2a482-7116-4480-a246-7a1de2add738"
   },
   "outputs": [
    {
     "data": {
      "text/plain": [
       "True"
      ]
     },
     "execution_count": 93,
     "metadata": {},
     "output_type": "execute_result"
    }
   ],
   "source": [
    "\"dis\" in myName"
   ]
  },
  {
   "cell_type": "code",
   "execution_count": 94,
   "metadata": {
    "colab": {
     "base_uri": "https://localhost:8080/"
    },
    "id": "rNORT9z4zrSx",
    "outputId": "0934496a-8b67-4c6d-8eed-e2ca9200958a"
   },
   "outputs": [
    {
     "data": {
      "text/plain": [
       "False"
      ]
     },
     "execution_count": 94,
     "metadata": {},
     "output_type": "execute_result"
    }
   ],
   "source": [
    "\"al\" in myName # Uldis does not have \"al\" substring"
   ]
  },
  {
   "cell_type": "code",
   "execution_count": 95,
   "metadata": {
    "colab": {
     "base_uri": "https://localhost:8080/"
    },
    "id": "05uwzExvzwUK",
    "outputId": "1b18fa1a-88f4-4e0d-8102-466eaa45abc9"
   },
   "outputs": [
    {
     "data": {
      "text/plain": [
       "True"
      ]
     },
     "execution_count": 95,
     "metadata": {},
     "output_type": "execute_result"
    }
   ],
   "source": [
    "\"al\" in name"
   ]
  },
  {
   "cell_type": "markdown",
   "metadata": {
    "id": "zMrBVe2FBeuB"
   },
   "source": [
    "## String Methods\n"
   ]
  },
  {
   "cell_type": "code",
   "execution_count": 97,
   "metadata": {
    "colab": {
     "base_uri": "https://localhost:8080/",
     "height": 35
    },
    "id": "jBgJH-wjBjkE",
    "outputId": "fb11b4f5-bf3f-4700-a038-1fb41e91079b"
   },
   "outputs": [
    {
     "data": {
      "application/vnd.google.colaboratory.intrinsic+json": {
       "type": "string"
      },
      "text/plain": [
       "'Valdis'"
      ]
     },
     "execution_count": 97,
     "metadata": {},
     "output_type": "execute_result"
    }
   ],
   "source": [
    "name"
   ]
  },
  {
   "cell_type": "code",
   "execution_count": 98,
   "metadata": {
    "colab": {
     "base_uri": "https://localhost:8080/",
     "height": 35
    },
    "id": "lsmV20tGB7eq",
    "outputId": "0e6b014e-3341-442a-87fc-b1c85136f6c7"
   },
   "outputs": [
    {
     "data": {
      "application/vnd.google.colaboratory.intrinsic+json": {
       "type": "string"
      },
      "text/plain": [
       "'Valdis'"
      ]
     },
     "execution_count": 98,
     "metadata": {},
     "output_type": "execute_result"
    }
   ],
   "source": [
    "name.capitalize()"
   ]
  },
  {
   "cell_type": "code",
   "execution_count": 99,
   "metadata": {
    "colab": {
     "base_uri": "https://localhost:8080/",
     "height": 35
    },
    "id": "dXdFK-7MCGvq",
    "outputId": "45f1eb55-2a7a-406a-9275-46d806270350"
   },
   "outputs": [
    {
     "data": {
      "application/vnd.google.colaboratory.intrinsic+json": {
       "type": "string"
      },
      "text/plain": [
       "'aBBa'"
      ]
     },
     "execution_count": 99,
     "metadata": {},
     "output_type": "execute_result"
    }
   ],
   "source": [
    "some_string = \"aBBa\"\n",
    "some_string"
   ]
  },
  {
   "cell_type": "code",
   "execution_count": 100,
   "metadata": {
    "colab": {
     "base_uri": "https://localhost:8080/",
     "height": 35
    },
    "id": "WgluZQdZCLse",
    "outputId": "bc28719e-2943-440d-a2e7-88cfaf17c098"
   },
   "outputs": [
    {
     "data": {
      "application/vnd.google.colaboratory.intrinsic+json": {
       "type": "string"
      },
      "text/plain": [
       "'Abba'"
      ]
     },
     "execution_count": 100,
     "metadata": {},
     "output_type": "execute_result"
    }
   ],
   "source": [
    "some_string.capitalize()"
   ]
  },
  {
   "cell_type": "code",
   "execution_count": 101,
   "metadata": {
    "colab": {
     "base_uri": "https://localhost:8080/"
    },
    "id": "E1D7PZtRCWEW",
    "outputId": "b472bbd9-035e-4947-9494-c60fb30e33d3"
   },
   "outputs": [
    {
     "data": {
      "text/plain": [
       "2"
      ]
     },
     "execution_count": 101,
     "metadata": {},
     "output_type": "execute_result"
    }
   ],
   "source": [
    "some_string.count(\"B\")"
   ]
  },
  {
   "cell_type": "code",
   "execution_count": 104,
   "metadata": {
    "colab": {
     "base_uri": "https://localhost:8080/"
    },
    "id": "9ONwV1ESCpoM",
    "outputId": "3323d8c4-f080-450d-b323-afca04cc39ca"
   },
   "outputs": [
    {
     "name": "stdout",
     "output_type": "stream",
     "text": [
      "Help on method_descriptor:\n",
      "\n",
      "count(...)\n",
      "    S.count(sub[, start[, end]]) -> int\n",
      "    \n",
      "    Return the number of non-overlapping occurrences of substring sub in\n",
      "    string S[start:end].  Optional arguments start and end are\n",
      "    interpreted as in slice notation.\n",
      "\n"
     ]
    }
   ],
   "source": [
    "help(str.count)"
   ]
  },
  {
   "cell_type": "code",
   "execution_count": 105,
   "metadata": {
    "colab": {
     "base_uri": "https://localhost:8080/"
    },
    "id": "exvpiGcyCx-G",
    "outputId": "af8f3cfd-610a-4b0f-d77d-d2337443c7f1"
   },
   "outputs": [
    {
     "data": {
      "text/plain": [
       "2"
      ]
     },
     "execution_count": 105,
     "metadata": {},
     "output_type": "execute_result"
    }
   ],
   "source": [
    "\"BBBB\".count(\"BB\") # so count method will not consider overlaps - "
   ]
  },
  {
   "cell_type": "code",
   "execution_count": 102,
   "metadata": {
    "colab": {
     "base_uri": "https://localhost:8080/"
    },
    "id": "GhiSjX6BCdrE",
    "outputId": "e847e4d1-0c36-4c89-90b6-5bc5b9d39ff2"
   },
   "outputs": [
    {
     "data": {
      "text/plain": [
       "True"
      ]
     },
     "execution_count": 102,
     "metadata": {},
     "output_type": "execute_result"
    }
   ],
   "source": [
    "some_string.endswith(\"Ba\")"
   ]
  },
  {
   "cell_type": "code",
   "execution_count": 106,
   "metadata": {
    "colab": {
     "base_uri": "https://localhost:8080/"
    },
    "id": "llQhTEw0DGLn",
    "outputId": "2bd1855b-c69b-45da-fc0a-204babf452b3"
   },
   "outputs": [
    {
     "data": {
      "text/plain": [
       "1"
      ]
     },
     "execution_count": 106,
     "metadata": {},
     "output_type": "execute_result"
    }
   ],
   "source": [
    "some_string.find(\"B\") # returns index of first occurence"
   ]
  },
  {
   "cell_type": "code",
   "execution_count": 107,
   "metadata": {
    "colab": {
     "base_uri": "https://localhost:8080/"
    },
    "id": "oUz4FHnlDNFv",
    "outputId": "37ac3613-b27c-4781-c560-bb3bcd7d4dab"
   },
   "outputs": [
    {
     "data": {
      "text/plain": [
       "3"
      ]
     },
     "execution_count": 107,
     "metadata": {},
     "output_type": "execute_result"
    }
   ],
   "source": [
    "name.find(\"dis\")"
   ]
  },
  {
   "cell_type": "code",
   "execution_count": 108,
   "metadata": {
    "colab": {
     "base_uri": "https://localhost:8080/",
     "height": 35
    },
    "id": "79IKuewEDT9D",
    "outputId": "e0e65a69-6289-4ae2-d220-fa3cdc12e746"
   },
   "outputs": [
    {
     "data": {
      "application/vnd.google.colaboratory.intrinsic+json": {
       "type": "string"
      },
      "text/plain": [
       "'dis'"
      ]
     },
     "execution_count": 108,
     "metadata": {},
     "output_type": "execute_result"
    }
   ],
   "source": [
    "name[3:]"
   ]
  },
  {
   "cell_type": "code",
   "execution_count": 109,
   "metadata": {
    "colab": {
     "base_uri": "https://localhost:8080/"
    },
    "id": "36tDkgu3DW4t",
    "outputId": "eb0d9b16-462e-40cc-8b88-ff68d8e8133a"
   },
   "outputs": [
    {
     "data": {
      "text/plain": [
       "True"
      ]
     },
     "execution_count": 109,
     "metadata": {},
     "output_type": "execute_result"
    }
   ],
   "source": [
    "name.isascii()"
   ]
  },
  {
   "cell_type": "code",
   "execution_count": 110,
   "metadata": {
    "colab": {
     "base_uri": "https://localhost:8080/",
     "height": 35
    },
    "id": "RsxGCGa9DfQx",
    "outputId": "3cc5d003-fa17-4dd0-a8f5-e660c6bfbe3c"
   },
   "outputs": [
    {
     "data": {
      "application/vnd.google.colaboratory.intrinsic+json": {
       "type": "string"
      },
      "text/plain": [
       "'Saulespurēns'"
      ]
     },
     "execution_count": 110,
     "metadata": {},
     "output_type": "execute_result"
    }
   ],
   "source": [
    "last_name"
   ]
  },
  {
   "cell_type": "code",
   "execution_count": 111,
   "metadata": {
    "colab": {
     "base_uri": "https://localhost:8080/"
    },
    "id": "TU-wyDVCDiFI",
    "outputId": "bfdb8b35-15fa-4429-df5e-2a9ba0473f90"
   },
   "outputs": [
    {
     "data": {
      "text/plain": [
       "False"
      ]
     },
     "execution_count": 111,
     "metadata": {},
     "output_type": "execute_result"
    }
   ],
   "source": [
    "last_name.isascii()"
   ]
  },
  {
   "cell_type": "code",
   "execution_count": 112,
   "metadata": {
    "colab": {
     "base_uri": "https://localhost:8080/",
     "height": 35
    },
    "id": "nv-moFmMDlGM",
    "outputId": "513cf88c-4886-4cf9-ba02-1baccfff69d1"
   },
   "outputs": [
    {
     "data": {
      "application/vnd.google.colaboratory.intrinsic+json": {
       "type": "string"
      },
      "text/plain": [
       "'valdis'"
      ]
     },
     "execution_count": 112,
     "metadata": {},
     "output_type": "execute_result"
    }
   ],
   "source": [
    "name.lower() # everything to lowercase"
   ]
  },
  {
   "cell_type": "code",
   "execution_count": 113,
   "metadata": {
    "colab": {
     "base_uri": "https://localhost:8080/",
     "height": 35
    },
    "id": "eFcwSZkkD_ID",
    "outputId": "147c4bac-94f0-4e0f-995a-c512579001de"
   },
   "outputs": [
    {
     "data": {
      "application/vnd.google.colaboratory.intrinsic+json": {
       "type": "string"
      },
      "text/plain": [
       "'VALDIS'"
      ]
     },
     "execution_count": 113,
     "metadata": {},
     "output_type": "execute_result"
    }
   ],
   "source": [
    "name.upper()"
   ]
  },
  {
   "cell_type": "code",
   "execution_count": 114,
   "metadata": {
    "colab": {
     "base_uri": "https://localhost:8080/",
     "height": 35
    },
    "id": "abBhVGSIEDu6",
    "outputId": "9261e094-1ab5-4b03-9ea1-21ab466195a0"
   },
   "outputs": [
    {
     "data": {
      "application/vnd.google.colaboratory.intrinsic+json": {
       "type": "string"
      },
      "text/plain": [
       "'Uldis'"
      ]
     },
     "execution_count": 114,
     "metadata": {},
     "output_type": "execute_result"
    }
   ],
   "source": [
    "name.replace(\"Va\", \"U\")"
   ]
  },
  {
   "cell_type": "code",
   "execution_count": 115,
   "metadata": {
    "colab": {
     "base_uri": "https://localhost:8080/",
     "height": 35
    },
    "id": "Yyw-W36uENgW",
    "outputId": "fa6e2543-47a7-4df0-b919-5601c16257b3"
   },
   "outputs": [
    {
     "data": {
      "application/vnd.google.colaboratory.intrinsic+json": {
       "type": "string"
      },
      "text/plain": [
       "'Valdis'"
      ]
     },
     "execution_count": 115,
     "metadata": {},
     "output_type": "execute_result"
    }
   ],
   "source": [
    "name # strings are not Mutable! so what to do"
   ]
  },
  {
   "cell_type": "code",
   "execution_count": 121,
   "metadata": {
    "colab": {
     "base_uri": "https://localhost:8080/",
     "height": 35
    },
    "id": "M4u7um2VFFuz",
    "outputId": "f23a0630-760d-4258-8c61-61cbf678f15a"
   },
   "outputs": [
    {
     "data": {
      "application/vnd.google.colaboratory.intrinsic+json": {
       "type": "string"
      },
      "text/plain": [
       "'Uldis'"
      ]
     },
     "execution_count": 121,
     "metadata": {},
     "output_type": "execute_result"
    }
   ],
   "source": [
    "new_name = name.replace(\"Va\", \"U\")\n",
    "new_name"
   ]
  },
  {
   "cell_type": "code",
   "execution_count": 122,
   "metadata": {
    "colab": {
     "base_uri": "https://localhost:8080/",
     "height": 35
    },
    "id": "46zM2BHBFJv7",
    "outputId": "bea00c62-7973-4afd-9d76-7cb5d5f8807a"
   },
   "outputs": [
    {
     "data": {
      "application/vnd.google.colaboratory.intrinsic+json": {
       "type": "string"
      },
      "text/plain": [
       "'Valdis'"
      ]
     },
     "execution_count": 122,
     "metadata": {},
     "output_type": "execute_result"
    }
   ],
   "source": [
    "name"
   ]
  },
  {
   "cell_type": "code",
   "execution_count": 123,
   "metadata": {
    "colab": {
     "base_uri": "https://localhost:8080/",
     "height": 35
    },
    "id": "uHnbDmgGFMio",
    "outputId": "8ae8f65d-d0ad-4c9d-f95a-e605bf7e8209"
   },
   "outputs": [
    {
     "data": {
      "application/vnd.google.colaboratory.intrinsic+json": {
       "type": "string"
      },
      "text/plain": [
       "'Uldis'"
      ]
     },
     "execution_count": 123,
     "metadata": {},
     "output_type": "execute_result"
    }
   ],
   "source": [
    "# i could overwrite the old name\n",
    "name = name.replace(\"Va\", \"U\")\n",
    "name"
   ]
  },
  {
   "cell_type": "code",
   "execution_count": 116,
   "metadata": {
    "colab": {
     "base_uri": "https://localhost:8080/",
     "height": 35
    },
    "id": "5X9nhb5XEZrT",
    "outputId": "fb5a11ff-5f03-4875-aeb3-0bb1f64b449b"
   },
   "outputs": [
    {
     "data": {
      "application/vnd.google.colaboratory.intrinsic+json": {
       "type": "string"
      },
      "text/plain": [
       "'Valdis Saulespurēns'"
      ]
     },
     "execution_count": 116,
     "metadata": {},
     "output_type": "execute_result"
    }
   ],
   "source": [
    "full_name"
   ]
  },
  {
   "cell_type": "code",
   "execution_count": 117,
   "metadata": {
    "colab": {
     "base_uri": "https://localhost:8080/",
     "height": 35
    },
    "id": "0uQUdM90E1wH",
    "outputId": "0d0845cb-d1d0-4e63-e159-90ef2a250bc5"
   },
   "outputs": [
    {
     "data": {
      "application/vnd.google.colaboratory.intrinsic+json": {
       "type": "string"
      },
      "text/plain": [
       "'Valdis saulespurēns'"
      ]
     },
     "execution_count": 117,
     "metadata": {},
     "output_type": "execute_result"
    }
   ],
   "source": [
    "full_name.capitalize()"
   ]
  },
  {
   "cell_type": "code",
   "execution_count": 118,
   "metadata": {
    "colab": {
     "base_uri": "https://localhost:8080/",
     "height": 35
    },
    "id": "qvDBUivJE608",
    "outputId": "48c0c195-7f41-4910-e2cd-3046357bb559"
   },
   "outputs": [
    {
     "data": {
      "application/vnd.google.colaboratory.intrinsic+json": {
       "type": "string"
      },
      "text/plain": [
       "'Quick Brown Fox'"
      ]
     },
     "execution_count": 118,
     "metadata": {},
     "output_type": "execute_result"
    }
   ],
   "source": [
    "\"quick brown fox\".title()"
   ]
  },
  {
   "cell_type": "code",
   "execution_count": 120,
   "metadata": {
    "colab": {
     "base_uri": "https://localhost:8080/",
     "height": 35
    },
    "id": "Q3hL4EJRE9-p",
    "outputId": "5ec83d44-1a02-4b60-ac6e-2985bf7a5840"
   },
   "outputs": [
    {
     "data": {
      "application/vnd.google.colaboratory.intrinsic+json": {
       "type": "string"
      },
      "text/plain": [
       "'Quick brown fox'"
      ]
     },
     "execution_count": 120,
     "metadata": {},
     "output_type": "execute_result"
    }
   ],
   "source": [
    "\"quick brown fox\".capitalize()"
   ]
  },
  {
   "cell_type": "code",
   "execution_count": 125,
   "metadata": {
    "colab": {
     "base_uri": "https://localhost:8080/",
     "height": 35
    },
    "id": "CeRFDraZFD5U",
    "outputId": "4add547d-f857-4a0e-c811-f7f67d30abdf"
   },
   "outputs": [
    {
     "data": {
      "application/vnd.google.colaboratory.intrinsic+json": {
       "type": "string"
      },
      "text/plain": [
       "'A quick brown fox jumped over       a sleeping dog'"
      ]
     },
     "execution_count": 125,
     "metadata": {},
     "output_type": "execute_result"
    }
   ],
   "source": [
    "sentence = \"A quick brown fox jumped over       a sleeping dog\"\n",
    "sentence"
   ]
  },
  {
   "cell_type": "code",
   "execution_count": 126,
   "metadata": {
    "colab": {
     "base_uri": "https://localhost:8080/"
    },
    "id": "YaUm8vXdFp3S",
    "outputId": "db05e4ba-def4-4a40-a5d6-f82480bbe8ce"
   },
   "outputs": [
    {
     "data": {
      "text/plain": [
       "['A', 'quick', 'brown', 'fox', 'jumped', 'over', 'a', 'sleeping', 'dog']"
      ]
     },
     "execution_count": 126,
     "metadata": {},
     "output_type": "execute_result"
    }
   ],
   "source": [
    "words = sentence.split() # we get a list of words split by any amount of whitespace including newlines , tabs etc\n",
    "words"
   ]
  },
  {
   "cell_type": "code",
   "execution_count": 128,
   "metadata": {
    "colab": {
     "base_uri": "https://localhost:8080/",
     "height": 35
    },
    "id": "Sa_nm2JLGHDn",
    "outputId": "57af6d70-c8af-4b8f-8cf8-082316addc4d"
   },
   "outputs": [
    {
     "data": {
      "application/vnd.google.colaboratory.intrinsic+json": {
       "type": "string"
      },
      "text/plain": [
       "'A quick brown fox jumped over a sleeping dog'"
      ]
     },
     "execution_count": 128,
     "metadata": {},
     "output_type": "execute_result"
    }
   ],
   "source": [
    "joined_string = \" \".join(words) # so join list of words using a single whitespace as the joining element\n",
    "joined_string"
   ]
  },
  {
   "cell_type": "code",
   "execution_count": 129,
   "metadata": {
    "colab": {
     "base_uri": "https://localhost:8080/",
     "height": 35
    },
    "id": "lb8Whe35Ggji",
    "outputId": "a378054d-97c4-42fe-d027-2238ef909960"
   },
   "outputs": [
    {
     "data": {
      "application/vnd.google.colaboratory.intrinsic+json": {
       "type": "string"
      },
      "text/plain": [
       "'A😀quick😀brown😀fox😀jumped😀over😀a😀sleeping😀dog'"
      ]
     },
     "execution_count": 129,
     "metadata": {},
     "output_type": "execute_result"
    }
   ],
   "source": [
    "smiley_string = \"😀\".join(words) # you can join by multipl characters \n",
    "smiley_string"
   ]
  },
  {
   "cell_type": "code",
   "execution_count": 127,
   "metadata": {
    "colab": {
     "base_uri": "https://localhost:8080/"
    },
    "id": "YAeunaKDF61P",
    "outputId": "37a93aab-fa16-4297-f1b3-c9b919fdcd4a"
   },
   "outputs": [
    {
     "data": {
      "text/plain": [
       "['Val', 'is']"
      ]
     },
     "execution_count": 127,
     "metadata": {},
     "output_type": "execute_result"
    }
   ],
   "source": [
    "\"Valdis\".split(\"d\")"
   ]
  },
  {
   "cell_type": "markdown",
   "metadata": {
    "id": "migbFQ7eyk65"
   },
   "source": [
    "## Dictionaries\n",
    "\n",
    "* Collection of Key - Value pairs\n",
    "* also known as associative array\n",
    "* unordered\n",
    "* keys unique in one dictionary\n",
    "* storing, extracting"
   ]
  },
  {
   "cell_type": "code",
   "execution_count": 130,
   "metadata": {
    "colab": {
     "base_uri": "https://localhost:8080/"
    },
    "id": "BrClGPCfyk65",
    "outputId": "51c85e7b-0312-4b34-cf92-c5a99947a1f9"
   },
   "outputs": [
    {
     "data": {
      "text/plain": [
       "{'country': 'Latvia'}"
      ]
     },
     "execution_count": 130,
     "metadata": {},
     "output_type": "execute_result"
    }
   ],
   "source": [
    "mydict = {\"country\":\"Latvia\"} #Key-Value store, also knows as Hashmaps, Keys must be unique\n",
    "mydict"
   ]
  },
  {
   "cell_type": "code",
   "execution_count": 132,
   "metadata": {
    "colab": {
     "base_uri": "https://localhost:8080/"
    },
    "id": "LPQs68Ipyk65",
    "outputId": "d8e920ff-f23d-44e6-d21b-9113f63d0065"
   },
   "outputs": [
    {
     "data": {
      "text/plain": [
       "{'country': 'Latvia', 'food': 'potatoes'}"
      ]
     },
     "execution_count": 132,
     "metadata": {},
     "output_type": "execute_result"
    }
   ],
   "source": [
    "# adding and overwriting key value pair\n",
    "mydict[\"food\"]=\"potatoes\" # if key \"food\" does not exist it will create this pairing, if it exists it will overwrite\n",
    "mydict"
   ]
  },
  {
   "cell_type": "code",
   "execution_count": 133,
   "metadata": {
    "colab": {
     "base_uri": "https://localhost:8080/",
     "height": 35
    },
    "id": "nBD4T-WNyk65",
    "outputId": "d33678e1-6fe4-4579-c338-a3679f00a919"
   },
   "outputs": [
    {
     "data": {
      "application/vnd.google.colaboratory.intrinsic+json": {
       "type": "string"
      },
      "text/plain": [
       "'potatoes'"
      ]
     },
     "execution_count": 133,
     "metadata": {},
     "output_type": "execute_result"
    }
   ],
   "source": [
    "mydict[\"food\"] # i can access values by key very very quickly"
   ]
  },
  {
   "cell_type": "code",
   "execution_count": 134,
   "metadata": {
    "colab": {
     "base_uri": "https://localhost:8080/",
     "height": 35
    },
    "id": "YKZr15c7yk65",
    "outputId": "5d811555-ba47-4c9e-edc1-377b0a9279e6"
   },
   "outputs": [
    {
     "data": {
      "application/vnd.google.colaboratory.intrinsic+json": {
       "type": "string"
      },
      "text/plain": [
       "'Latvia'"
      ]
     },
     "execution_count": 134,
     "metadata": {},
     "output_type": "execute_result"
    }
   ],
   "source": [
    "mydict[\"country\"]"
   ]
  },
  {
   "cell_type": "code",
   "execution_count": 135,
   "metadata": {
    "colab": {
     "base_uri": "https://localhost:8080/"
    },
    "id": "vdIvCt81yk65",
    "outputId": "72ab7d1f-f6ac-451d-ecc0-c8ce3ee1f53a"
   },
   "outputs": [
    {
     "data": {
      "text/plain": [
       "dict_keys(['country', 'food'])"
      ]
     },
     "execution_count": 135,
     "metadata": {},
     "output_type": "execute_result"
    }
   ],
   "source": [
    "mydict.keys()"
   ]
  },
  {
   "cell_type": "code",
   "execution_count": 136,
   "metadata": {
    "colab": {
     "base_uri": "https://localhost:8080/"
    },
    "id": "yct3q-j5yk66",
    "outputId": "139c59dc-9cf5-4151-b3c2-16a8cc1892ae"
   },
   "outputs": [
    {
     "data": {
      "text/plain": [
       "dict_values(['Latvia', 'potatoes'])"
      ]
     },
     "execution_count": 136,
     "metadata": {},
     "output_type": "execute_result"
    }
   ],
   "source": [
    "mydict.values()"
   ]
  },
  {
   "cell_type": "code",
   "execution_count": 137,
   "metadata": {
    "colab": {
     "base_uri": "https://localhost:8080/"
    },
    "id": "EaMSZFjmyk66",
    "outputId": "c0081a5c-bfa8-4f0c-bb6c-a468ee6ecbb5"
   },
   "outputs": [
    {
     "data": {
      "text/plain": [
       "True"
      ]
     },
     "execution_count": 137,
     "metadata": {},
     "output_type": "execute_result"
    }
   ],
   "source": [
    "\"potatoes\" in mydict.values() # this will be slower in larger dictionaries"
   ]
  },
  {
   "cell_type": "code",
   "execution_count": 138,
   "metadata": {
    "colab": {
     "base_uri": "https://localhost:8080/"
    },
    "id": "3PJ38Eb3HdmD",
    "outputId": "598e007c-f576-463b-881d-f23091cef57a"
   },
   "outputs": [
    {
     "data": {
      "text/plain": [
       "True"
      ]
     },
     "execution_count": 138,
     "metadata": {},
     "output_type": "execute_result"
    }
   ],
   "source": [
    "\"country\" in mydict # same as \"country\" in mydict.keys(), this is quick no matter the dictionary size"
   ]
  },
  {
   "cell_type": "code",
   "execution_count": 139,
   "metadata": {
    "colab": {
     "base_uri": "https://localhost:8080/"
    },
    "id": "o50py6XJH9Yx",
    "outputId": "1eef9b22-fd5a-4484-b12c-19a1fc23b705"
   },
   "outputs": [
    {
     "data": {
      "text/plain": [
       "{'cities': ['Riga', 'Tallinn', 'Kiiv'],\n",
       " 'countries': [{'country': 'Latvia', 'food': 'Potatoes'},\n",
       "  {'country': 'Estonia'}]}"
      ]
     },
     "execution_count": 139,
     "metadata": {},
     "output_type": "execute_result"
    }
   ],
   "source": [
    "country_dict = {\"countries\" : [{\"country\":\"Latvia\", \"food\":\"Potatoes\"},{\"country\":\"Estonia\"}], \"cities\":[\"Riga\",\"Tallinn\",\"Kyiv\"]}\n",
    "country_dict"
   ]
  },
  {
   "cell_type": "code",
   "execution_count": 140,
   "metadata": {
    "colab": {
     "base_uri": "https://localhost:8080/",
     "height": 35
    },
    "id": "Ju94lDRkIpSy",
    "outputId": "25252897-e497-42c6-93fa-60fc6e6139e5"
   },
   "outputs": [
    {
     "data": {
      "application/vnd.google.colaboratory.intrinsic+json": {
       "type": "string"
      },
      "text/plain": [
       "'Potatoes'"
      ]
     },
     "execution_count": 140,
     "metadata": {},
     "output_type": "execute_result"
    }
   ],
   "source": [
    "country_dict[\"countries\"][0][\"food\"] # this works because inner dictionary holding Latvia is first in the list"
   ]
  },
  {
   "cell_type": "code",
   "execution_count": 141,
   "metadata": {
    "colab": {
     "base_uri": "https://localhost:8080/"
    },
    "id": "suZqyJycJD3B",
    "outputId": "ad6e0691-a7ef-4b83-dd56-28905a3043b4"
   },
   "outputs": [
    {
     "data": {
      "text/plain": [
       "[{'country': 'Latvia', 'food': 'Potatoes'}, {'country': 'Estonia'}]"
      ]
     },
     "execution_count": 141,
     "metadata": {},
     "output_type": "execute_result"
    }
   ],
   "source": [
    "country_dict[\"countries\"] # if no 0 we get a list "
   ]
  },
  {
   "cell_type": "code",
   "execution_count": 142,
   "metadata": {
    "colab": {
     "base_uri": "https://localhost:8080/"
    },
    "id": "bFMjOTrRJF8i",
    "outputId": "44aba1e7-4102-4914-9be9-6a6cf39a55a5"
   },
   "outputs": [
    {
     "data": {
      "text/plain": [
       "{'country': 'Latvia', 'food': 'Potatoes'}"
      ]
     },
     "execution_count": 142,
     "metadata": {},
     "output_type": "execute_result"
    }
   ],
   "source": [
    "country_dict[\"countries\"][0]"
   ]
  },
  {
   "cell_type": "markdown",
   "metadata": {
    "id": "WYWFwAhVyk66"
   },
   "source": [
    "## Sets\n",
    "\n",
    "* unordered\n",
    "* uniques only\n",
    "* curly braces {3, 6, 7}"
   ]
  },
  {
   "cell_type": "code",
   "execution_count": null,
   "metadata": {
    "id": "i7v28_CZyk66"
   },
   "outputs": [],
   "source": [
    "s={3,3,6,1,3,6,7}\n",
    "print(s)"
   ]
  },
  {
   "cell_type": "markdown",
   "metadata": {
    "id": "uLGx0rlGyk66"
   },
   "source": [
    "## Tuples\n",
    "\n",
    "*  ordered\n",
    "* immutable (cannot be changed!)\n",
    "* Can be used as a collection of fields"
   ]
  },
  {
   "cell_type": "code",
   "execution_count": null,
   "metadata": {
    "id": "6ECR4BjKyk66"
   },
   "outputs": [],
   "source": [
    "mytuple = 6, 4, 9\n",
    "print(mytuple)"
   ]
  },
  {
   "cell_type": "markdown",
   "metadata": {
    "id": "VNKMQuIyyk66"
   },
   "source": [
    "## Arithmetic Operators <a class=\"anchor\" id=\"arithmetic\">\n",
    "    \n",
    "[Back to Table of Contents](#toc)\n",
    "* `+ - * / `\n",
    "* `**(power)` \n",
    "* `% modulus` \n",
    "* `//(integer division)`\n",
    "* `() parenthesis for order`\n"
   ]
  },
  {
   "cell_type": "code",
   "execution_count": 143,
   "metadata": {
    "colab": {
     "base_uri": "https://localhost:8080/"
    },
    "id": "nQX4h96pyk66",
    "outputId": "a6f01360-8de0-434f-c206-e9d3e988a93b"
   },
   "outputs": [
    {
     "data": {
      "text/plain": [
       "14.0"
      ]
     },
     "execution_count": 143,
     "metadata": {},
     "output_type": "execute_result"
    }
   ],
   "source": [
    "5+4*3-(6/2)"
   ]
  },
  {
   "cell_type": "code",
   "execution_count": 144,
   "metadata": {
    "colab": {
     "base_uri": "https://localhost:8080/"
    },
    "id": "n8wDrhb3JtYW",
    "outputId": "8c6e0b7a-9523-497a-867d-06397c39c8f7"
   },
   "outputs": [
    {
     "data": {
      "text/plain": [
       "2.5"
      ]
     },
     "execution_count": 144,
     "metadata": {},
     "output_type": "execute_result"
    }
   ],
   "source": [
    "5/2"
   ]
  },
  {
   "cell_type": "code",
   "execution_count": 145,
   "metadata": {
    "colab": {
     "base_uri": "https://localhost:8080/"
    },
    "id": "iGIvNReTyk67",
    "outputId": "4f686c53-9773-4e55-ab8c-fec003ca6c0c"
   },
   "outputs": [
    {
     "data": {
      "text/plain": [
       "2"
      ]
     },
     "execution_count": 145,
     "metadata": {},
     "output_type": "execute_result"
    }
   ],
   "source": [
    "5//2 # gives you whole - integer division\n"
   ]
  },
  {
   "cell_type": "code",
   "execution_count": 146,
   "metadata": {
    "colab": {
     "base_uri": "https://localhost:8080/"
    },
    "id": "akoyNPzFJ1Ez",
    "outputId": "0dc3e452-cd55-4f34-bb46-3d25fef2c773"
   },
   "outputs": [
    {
     "data": {
      "text/plain": [
       "1"
      ]
     },
     "execution_count": 146,
     "metadata": {},
     "output_type": "execute_result"
    }
   ],
   "source": [
    "5 % 2 # this gives you reminder / technically called modulo (works the same for positives)"
   ]
  },
  {
   "cell_type": "code",
   "execution_count": null,
   "metadata": {
    "id": "6jo8PZW8yk67"
   },
   "outputs": [],
   "source": [
    "4%3"
   ]
  },
  {
   "cell_type": "code",
   "execution_count": null,
   "metadata": {
    "id": "5bYgoxkzyk67"
   },
   "outputs": [],
   "source": [
    "type(1)"
   ]
  },
  {
   "cell_type": "code",
   "execution_count": null,
   "metadata": {
    "id": "Nrua1v5Iyk67"
   },
   "outputs": [],
   "source": [
    "type(14.0)"
   ]
  },
  {
   "cell_type": "code",
   "execution_count": 147,
   "metadata": {
    "colab": {
     "base_uri": "https://localhost:8080/"
    },
    "id": "Y0Md1cP9yk67",
    "outputId": "d03c18b8-a819-4d70-a65c-dd10d03da6db"
   },
   "outputs": [
    {
     "data": {
      "text/plain": [
       "116415321826934814453125"
      ]
     },
     "execution_count": 147,
     "metadata": {},
     "output_type": "execute_result"
    }
   ],
   "source": [
    "5**33 # 5 to 33rd power"
   ]
  },
  {
   "cell_type": "code",
   "execution_count": 148,
   "metadata": {
    "colab": {
     "base_uri": "https://localhost:8080/"
    },
    "id": "6dx9JpjTyk67",
    "outputId": "c664046e-36e3-48f4-9efa-1e4ca543b488"
   },
   "outputs": [
    {
     "data": {
      "text/plain": [
       "92709068817830061978520606494193845859707401497097037749844778027824097442147966967457359038488841338006006032592594389655201"
      ]
     },
     "execution_count": 148,
     "metadata": {},
     "output_type": "execute_result"
    }
   ],
   "source": [
    "11**120 # no maximum anymore"
   ]
  },
  {
   "cell_type": "code",
   "execution_count": 149,
   "metadata": {
    "colab": {
     "base_uri": "https://localhost:8080/"
    },
    "id": "j7fL3jdHKc8Y",
    "outputId": "1862eda9-eae2-4309-8918-c8716d9c4760"
   },
   "outputs": [
    {
     "data": {
      "text/plain": [
       "10000000000000000000000000000000000000000000000000000000000000000000000000000000000000000000000000000"
      ]
     },
     "execution_count": 149,
     "metadata": {},
     "output_type": "execute_result"
    }
   ],
   "source": [
    "# Googol\n",
    "10**100"
   ]
  },
  {
   "cell_type": "code",
   "execution_count": 150,
   "metadata": {
    "colab": {
     "base_uri": "https://localhost:8080/"
    },
    "id": "5dFjqH73KiUe",
    "outputId": "89398ec3-3038-40e5-da51-5ee68d06a634"
   },
   "outputs": [
    {
     "data": {
      "text/plain": [
       "10000000000000000000000000000000000000000000000000000000000000000000000000000000000000000000000000000"
      ]
     },
     "execution_count": 150,
     "metadata": {},
     "output_type": "execute_result"
    }
   ],
   "source": [
    "big_num = 10**100\n",
    "big_num"
   ]
  },
  {
   "cell_type": "code",
   "execution_count": 151,
   "metadata": {
    "colab": {
     "base_uri": "https://localhost:8080/",
     "height": 35
    },
    "id": "DdimhJi_KqCa",
    "outputId": "df661a5a-6b4d-44b4-ef2b-9898b10c39d0"
   },
   "outputs": [
    {
     "data": {
      "application/vnd.google.colaboratory.intrinsic+json": {
       "type": "string"
      },
      "text/plain": [
       "'10000000000000000000000000000000000000000000000000000000000000000000000000000000000000000000000000000'"
      ]
     },
     "execution_count": 151,
     "metadata": {},
     "output_type": "execute_result"
    }
   ],
   "source": [
    "string_num = str(big_num) # we can convert anything to a string\n",
    "string_num"
   ]
  },
  {
   "cell_type": "code",
   "execution_count": 152,
   "metadata": {
    "colab": {
     "base_uri": "https://localhost:8080/"
    },
    "id": "ve_mv6y5Kwpp",
    "outputId": "31d6da5c-046a-4e53-f122-3c6ee35876e3"
   },
   "outputs": [
    {
     "data": {
      "text/plain": [
       "100"
      ]
     },
     "execution_count": 152,
     "metadata": {},
     "output_type": "execute_result"
    }
   ],
   "source": [
    "string_num.count(\"0\")"
   ]
  },
  {
   "cell_type": "markdown",
   "metadata": {
    "id": "94m41ooSyk67"
   },
   "source": [
    "## Flow Control <a class=\"anchor\" id=\"flow-control\">\n",
    "    \n",
    "[Back to Table of Contents](#toc)"
   ]
  },
  {
   "cell_type": "code",
   "execution_count": null,
   "metadata": {
    "id": "T7BtimQbyk67"
   },
   "outputs": [],
   "source": [
    "# With Flow Control we can tell our program/cells to choose different paths"
   ]
  },
  {
   "cell_type": "markdown",
   "metadata": {
    "id": "u8W4uJO1yk68"
   },
   "source": [
    "## Conditional operators \n",
    "\n",
    "`< > <= >= == != and or not`"
   ]
  },
  {
   "cell_type": "code",
   "execution_count": null,
   "metadata": {
    "id": "om2-RYt5yk68"
   },
   "outputs": [],
   "source": [
    "# What is truth in computer language?"
   ]
  },
  {
   "cell_type": "code",
   "execution_count": 153,
   "metadata": {
    "colab": {
     "base_uri": "https://localhost:8080/"
    },
    "id": "MONkq4S3yk68",
    "outputId": "0fbdb333-b5cc-4346-aff8-f92a493f820e"
   },
   "outputs": [
    {
     "data": {
      "text/plain": [
       "True"
      ]
     },
     "execution_count": 153,
     "metadata": {},
     "output_type": "execute_result"
    }
   ],
   "source": [
    "2*2 == 4"
   ]
  },
  {
   "cell_type": "code",
   "execution_count": 154,
   "metadata": {
    "colab": {
     "base_uri": "https://localhost:8080/"
    },
    "id": "osZweVjuyk68",
    "outputId": "b31a49bf-63df-4742-a98b-c4d7e21e42f2"
   },
   "outputs": [
    {
     "data": {
      "text/plain": [
       "False"
      ]
     },
     "execution_count": 154,
     "metadata": {},
     "output_type": "execute_result"
    }
   ],
   "source": [
    "5 > 7\n"
   ]
  },
  {
   "cell_type": "code",
   "execution_count": 155,
   "metadata": {
    "colab": {
     "base_uri": "https://localhost:8080/"
    },
    "id": "WtcIqTKqyk68",
    "outputId": "861bad64-5e8a-42fd-d7c7-ca64195e328c"
   },
   "outputs": [
    {
     "name": "stdout",
     "output_type": "stream",
     "text": [
      "True\n",
      "True\n"
     ]
    }
   ],
   "source": [
    "print(5 == int('5'))\n",
    "\n",
    "print(5 <= 6)"
   ]
  },
  {
   "cell_type": "code",
   "execution_count": 156,
   "metadata": {
    "colab": {
     "base_uri": "https://localhost:8080/"
    },
    "id": "RjVP_FTuyk68",
    "outputId": "79ddfd76-d9d4-4722-961d-bfdbdb37df89"
   },
   "outputs": [
    {
     "name": "stdout",
     "output_type": "stream",
     "text": [
      "True\n",
      "True\n",
      "False\n"
     ]
    }
   ],
   "source": [
    "print(5 <= 5)\n",
    "\n",
    "# check if 5 is NOT equal to 6\n",
    "print(5 != 6)\n",
    "\n",
    "print(5 != 5)\n"
   ]
  },
  {
   "cell_type": "code",
   "execution_count": 157,
   "metadata": {
    "colab": {
     "base_uri": "https://localhost:8080/"
    },
    "id": "dV-16LNayk68",
    "outputId": "9af7fc04-2f72-4992-ba80-e7f1ff21e1c9"
   },
   "outputs": [
    {
     "data": {
      "text/plain": [
       "True"
      ]
     },
     "execution_count": 157,
     "metadata": {},
     "output_type": "execute_result"
    }
   ],
   "source": [
    "# We check each letter from left side\n",
    "# on mismatch we check ASCII (UTF-8) tables for values\n",
    "# so called lexicographical ordering\n",
    "'VALDIS' < 'VOLDEMARS'"
   ]
  },
  {
   "cell_type": "code",
   "execution_count": 159,
   "metadata": {
    "colab": {
     "base_uri": "https://localhost:8080/"
    },
    "id": "xy9l-PiVLTkp",
    "outputId": "b2b5ff00-c16b-4529-f98a-59c3673f13e4"
   },
   "outputs": [
    {
     "data": {
      "text/plain": [
       "86"
      ]
     },
     "execution_count": 159,
     "metadata": {},
     "output_type": "execute_result"
    }
   ],
   "source": [
    "ord(\"V\")"
   ]
  },
  {
   "cell_type": "code",
   "execution_count": 162,
   "metadata": {
    "colab": {
     "base_uri": "https://localhost:8080/"
    },
    "id": "KoLh6BVELq6O",
    "outputId": "c55daaa6-f17b-44ae-eca3-4010d544cee8"
   },
   "outputs": [
    {
     "data": {
      "text/plain": [
       "65"
      ]
     },
     "execution_count": 162,
     "metadata": {},
     "output_type": "execute_result"
    }
   ],
   "source": [
    "ord(\"A\")"
   ]
  },
  {
   "cell_type": "code",
   "execution_count": 163,
   "metadata": {
    "colab": {
     "base_uri": "https://localhost:8080/"
    },
    "id": "RVmBCTTbLum5",
    "outputId": "3991017f-4c52-4510-902c-1ddf9482a4fb"
   },
   "outputs": [
    {
     "data": {
      "text/plain": [
       "79"
      ]
     },
     "execution_count": 163,
     "metadata": {},
     "output_type": "execute_result"
    }
   ],
   "source": [
    "ord(\"O\")"
   ]
  },
  {
   "cell_type": "code",
   "execution_count": 164,
   "metadata": {
    "colab": {
     "base_uri": "https://localhost:8080/"
    },
    "id": "AmklqPDEL1Bm",
    "outputId": "429dd1b3-2112-42d4-b797-f77df8d77c0d"
   },
   "outputs": [
    {
     "data": {
      "text/plain": [
       "False"
      ]
     },
     "execution_count": 164,
     "metadata": {},
     "output_type": "execute_result"
    }
   ],
   "source": [
    "'VāLDIS' < 'VOLDEMARS'"
   ]
  },
  {
   "cell_type": "code",
   "execution_count": 160,
   "metadata": {
    "colab": {
     "base_uri": "https://localhost:8080/"
    },
    "id": "Yfbm2hb2LcEq",
    "outputId": "c69c35b1-0451-4e1f-e9cf-1d64ed41582d"
   },
   "outputs": [
    {
     "data": {
      "text/plain": [
       "257"
      ]
     },
     "execution_count": 160,
     "metadata": {},
     "output_type": "execute_result"
    }
   ],
   "source": [
    "ord(\"ā\") # latvian long a"
   ]
  },
  {
   "cell_type": "code",
   "execution_count": 161,
   "metadata": {
    "colab": {
     "base_uri": "https://localhost:8080/"
    },
    "id": "LBrFsFhLyk68",
    "outputId": "9de05aff-33cb-4d46-99f8-c2405b50eb92"
   },
   "outputs": [
    {
     "data": {
      "text/plain": [
       "True"
      ]
     },
     "execution_count": 161,
     "metadata": {},
     "output_type": "execute_result"
    }
   ],
   "source": [
    "len('VALDIS') < len('VOLDEMARS')"
   ]
  },
  {
   "cell_type": "code",
   "execution_count": 165,
   "metadata": {
    "colab": {
     "base_uri": "https://localhost:8080/"
    },
    "id": "wNB92r86yk68",
    "outputId": "3dad9c68-65a9-4d0a-cab7-918dd3c1bde6"
   },
   "outputs": [
    {
     "data": {
      "text/plain": [
       "True"
      ]
     },
     "execution_count": 165,
     "metadata": {},
     "output_type": "execute_result"
    }
   ],
   "source": [
    "True and True"
   ]
  },
  {
   "cell_type": "code",
   "execution_count": 166,
   "metadata": {
    "colab": {
     "base_uri": "https://localhost:8080/"
    },
    "id": "PDSDoyhtyk69",
    "outputId": "b8265154-50f1-4348-d517-217fe0d051c8"
   },
   "outputs": [
    {
     "data": {
      "text/plain": [
       "True"
      ]
     },
     "execution_count": 166,
     "metadata": {},
     "output_type": "execute_result"
    }
   ],
   "source": [
    "True or False"
   ]
  },
  {
   "cell_type": "code",
   "execution_count": 167,
   "metadata": {
    "colab": {
     "base_uri": "https://localhost:8080/"
    },
    "id": "_yRvWtvsyk69",
    "outputId": "577a9ad1-b628-4ca1-c701-78d9b8a666e9"
   },
   "outputs": [
    {
     "data": {
      "text/plain": [
       "False"
      ]
     },
     "execution_count": 167,
     "metadata": {},
     "output_type": "execute_result"
    }
   ],
   "source": [
    "not True"
   ]
  },
  {
   "cell_type": "code",
   "execution_count": 168,
   "metadata": {
    "colab": {
     "base_uri": "https://localhost:8080/"
    },
    "id": "iRQiRFKhMdOA",
    "outputId": "ac09e8fb-3318-4f60-9905-c9ce9e4f4104"
   },
   "outputs": [
    {
     "data": {
      "text/plain": [
       "True"
      ]
     },
     "execution_count": 168,
     "metadata": {},
     "output_type": "execute_result"
    }
   ],
   "source": [
    "\"AL\" in \"VALDIS\""
   ]
  },
  {
   "cell_type": "markdown",
   "metadata": {
    "id": "8Lh_uafdyk69"
   },
   "source": [
    "## If Statement"
   ]
  },
  {
   "cell_type": "code",
   "execution_count": 170,
   "metadata": {
    "colab": {
     "base_uri": "https://localhost:8080/"
    },
    "id": "1VFw0D6Yyk69",
    "outputId": "7e5e1c9e-8bfb-4269-83dc-3ebd90755045"
   },
   "outputs": [
    {
     "name": "stdout",
     "output_type": "stream",
     "text": [
      "Always prints\n"
     ]
    }
   ],
   "source": [
    "## Conditional execution\n",
    "# if 4 is larger than 5 then do something\n",
    "if 4 > 5:\n",
    "    print(\"4 is larger than 5 wow!\")\n",
    "    print(\"Still inside if statement\")\n",
    "# now I am out of if\n",
    "print(\"Always prints\")"
   ]
  },
  {
   "cell_type": "code",
   "execution_count": 171,
   "metadata": {
    "colab": {
     "base_uri": "https://localhost:8080/"
    },
    "id": "ff_Wgf1kyk69",
    "outputId": "3c2d007e-163c-4782-ed23-c7c22f1e7a7d"
   },
   "outputs": [
    {
     "name": "stdout",
     "output_type": "stream",
     "text": [
      "hello\n",
      "hello\n",
      "hello thats not magic\n"
     ]
    }
   ],
   "source": [
    "if 5 >= 5:\n",
    "    print(\"hello\")\n",
    "if 5 <= 5:\n",
    "    print(\"hello\")\n",
    "if 5 == 6:\n",
    "    print(\"hello thats magic\")\n",
    "if 5 != 6:\n",
    "    print(\"hello thats not magic\")"
   ]
  },
  {
   "cell_type": "code",
   "execution_count": 172,
   "metadata": {
    "colab": {
     "base_uri": "https://localhost:8080/"
    },
    "id": "mjfeVd-9NE-b",
    "outputId": "52eaa3c2-fdff-49d7-8a8b-4272abd94897"
   },
   "outputs": [
    {
     "data": {
      "text/plain": [
       "True"
      ]
     },
     "execution_count": 172,
     "metadata": {},
     "output_type": "execute_result"
    }
   ],
   "source": [
    "\"Valdis\" != \"Uldis\" # we check for inequality"
   ]
  },
  {
   "cell_type": "code",
   "execution_count": 173,
   "metadata": {
    "colab": {
     "base_uri": "https://localhost:8080/"
    },
    "id": "kw3qO4D8NKp1",
    "outputId": "7932199e-3926-4b56-eeb4-3acce727d98d"
   },
   "outputs": [
    {
     "data": {
      "text/plain": [
       "True"
      ]
     },
     "execution_count": 173,
     "metadata": {},
     "output_type": "execute_result"
    }
   ],
   "source": [
    "# same as\n",
    "not \"Valdis\" == \"Uldis\" # if you are not sure of precedence you can but parenthesis but here we did not need"
   ]
  },
  {
   "cell_type": "code",
   "execution_count": 177,
   "metadata": {
    "colab": {
     "base_uri": "https://localhost:8080/"
    },
    "id": "07vTwFUXyk69",
    "outputId": "fc2035d8-ea47-4ac5-8ab4-6685c81d87ad"
   },
   "outputs": [
    {
     "name": "stdout",
     "output_type": "stream",
     "text": [
      "Do one thing if if is True\n",
      "DO more things if if is True\n",
      "Also do when if is True\n",
      "Do this always\n"
     ]
    }
   ],
   "source": [
    "if 2*2 == 4:\n",
    "    print(\"Do one thing if if is True\")\n",
    "    print(\"DO more things if if is True\")\n",
    "    # we can keep adding more things here\n",
    "    print(\"Also do when if is True\")\n",
    "print(\"Do this always\")"
   ]
  },
  {
   "cell_type": "code",
   "execution_count": 182,
   "metadata": {
    "colab": {
     "base_uri": "https://localhost:8080/",
     "height": 545
    },
    "id": "dpvM7gpDyk69",
    "outputId": "9d6e7355-faae-4107-ae17-78b262926720"
   },
   "outputs": [
    {
     "ename": "KeyboardInterrupt",
     "evalue": "ignored",
     "output_type": "error",
     "traceback": [
      "\u001b[0;31m---------------------------------------------------------------------------\u001b[0m",
      "\u001b[0;31mKeyboardInterrupt\u001b[0m                         Traceback (most recent call last)",
      "\u001b[0;32m/usr/local/lib/python3.7/dist-packages/ipykernel/kernelbase.py\u001b[0m in \u001b[0;36m_input_request\u001b[0;34m(self, prompt, ident, parent, password)\u001b[0m\n\u001b[1;32m    728\u001b[0m             \u001b[0;32mtry\u001b[0m\u001b[0;34m:\u001b[0m\u001b[0;34m\u001b[0m\u001b[0;34m\u001b[0m\u001b[0m\n\u001b[0;32m--> 729\u001b[0;31m                 \u001b[0mident\u001b[0m\u001b[0;34m,\u001b[0m \u001b[0mreply\u001b[0m \u001b[0;34m=\u001b[0m \u001b[0mself\u001b[0m\u001b[0;34m.\u001b[0m\u001b[0msession\u001b[0m\u001b[0;34m.\u001b[0m\u001b[0mrecv\u001b[0m\u001b[0;34m(\u001b[0m\u001b[0mself\u001b[0m\u001b[0;34m.\u001b[0m\u001b[0mstdin_socket\u001b[0m\u001b[0;34m,\u001b[0m \u001b[0;36m0\u001b[0m\u001b[0;34m)\u001b[0m\u001b[0;34m\u001b[0m\u001b[0;34m\u001b[0m\u001b[0m\n\u001b[0m\u001b[1;32m    730\u001b[0m             \u001b[0;32mexcept\u001b[0m \u001b[0mException\u001b[0m\u001b[0;34m:\u001b[0m\u001b[0;34m\u001b[0m\u001b[0;34m\u001b[0m\u001b[0m\n",
      "\u001b[0;32m/usr/local/lib/python3.7/dist-packages/jupyter_client/session.py\u001b[0m in \u001b[0;36mrecv\u001b[0;34m(self, socket, mode, content, copy)\u001b[0m\n\u001b[1;32m    802\u001b[0m         \u001b[0;32mtry\u001b[0m\u001b[0;34m:\u001b[0m\u001b[0;34m\u001b[0m\u001b[0;34m\u001b[0m\u001b[0m\n\u001b[0;32m--> 803\u001b[0;31m             \u001b[0mmsg_list\u001b[0m \u001b[0;34m=\u001b[0m \u001b[0msocket\u001b[0m\u001b[0;34m.\u001b[0m\u001b[0mrecv_multipart\u001b[0m\u001b[0;34m(\u001b[0m\u001b[0mmode\u001b[0m\u001b[0;34m,\u001b[0m \u001b[0mcopy\u001b[0m\u001b[0;34m=\u001b[0m\u001b[0mcopy\u001b[0m\u001b[0;34m)\u001b[0m\u001b[0;34m\u001b[0m\u001b[0;34m\u001b[0m\u001b[0m\n\u001b[0m\u001b[1;32m    804\u001b[0m         \u001b[0;32mexcept\u001b[0m \u001b[0mzmq\u001b[0m\u001b[0;34m.\u001b[0m\u001b[0mZMQError\u001b[0m \u001b[0;32mas\u001b[0m \u001b[0me\u001b[0m\u001b[0;34m:\u001b[0m\u001b[0;34m\u001b[0m\u001b[0;34m\u001b[0m\u001b[0m\n",
      "\u001b[0;32m/usr/local/lib/python3.7/dist-packages/zmq/sugar/socket.py\u001b[0m in \u001b[0;36mrecv_multipart\u001b[0;34m(self, flags, copy, track)\u001b[0m\n\u001b[1;32m    726\u001b[0m         \"\"\"\n\u001b[0;32m--> 727\u001b[0;31m         \u001b[0mparts\u001b[0m \u001b[0;34m=\u001b[0m \u001b[0;34m[\u001b[0m\u001b[0mself\u001b[0m\u001b[0;34m.\u001b[0m\u001b[0mrecv\u001b[0m\u001b[0;34m(\u001b[0m\u001b[0mflags\u001b[0m\u001b[0;34m,\u001b[0m \u001b[0mcopy\u001b[0m\u001b[0;34m=\u001b[0m\u001b[0mcopy\u001b[0m\u001b[0;34m,\u001b[0m \u001b[0mtrack\u001b[0m\u001b[0;34m=\u001b[0m\u001b[0mtrack\u001b[0m\u001b[0;34m)\u001b[0m\u001b[0;34m]\u001b[0m\u001b[0;34m\u001b[0m\u001b[0;34m\u001b[0m\u001b[0m\n\u001b[0m\u001b[1;32m    728\u001b[0m         \u001b[0;31m# have first part already, only loop while more to receive\u001b[0m\u001b[0;34m\u001b[0m\u001b[0;34m\u001b[0m\u001b[0;34m\u001b[0m\u001b[0m\n",
      "\u001b[0;32mzmq/backend/cython/socket.pyx\u001b[0m in \u001b[0;36mzmq.backend.cython.socket.Socket.recv\u001b[0;34m()\u001b[0m\n",
      "\u001b[0;32mzmq/backend/cython/socket.pyx\u001b[0m in \u001b[0;36mzmq.backend.cython.socket.Socket.recv\u001b[0;34m()\u001b[0m\n",
      "\u001b[0;32mzmq/backend/cython/socket.pyx\u001b[0m in \u001b[0;36mzmq.backend.cython.socket._recv_copy\u001b[0;34m()\u001b[0m\n",
      "\u001b[0;32m/usr/local/lib/python3.7/dist-packages/zmq/backend/cython/checkrc.pxd\u001b[0m in \u001b[0;36mzmq.backend.cython.checkrc._check_rc\u001b[0;34m()\u001b[0m\n",
      "\u001b[0;31mKeyboardInterrupt\u001b[0m: ",
      "\nDuring handling of the above exception, another exception occurred:\n",
      "\u001b[0;31mKeyboardInterrupt\u001b[0m                         Traceback (most recent call last)",
      "\u001b[0;32m<ipython-input-182-0becec5e32e7>\u001b[0m in \u001b[0;36m<module>\u001b[0;34m()\u001b[0m\n\u001b[0;32m----> 1\u001b[0;31m \u001b[0mc\u001b[0m \u001b[0;34m=\u001b[0m \u001b[0mfloat\u001b[0m\u001b[0;34m(\u001b[0m\u001b[0minput\u001b[0m\u001b[0;34m(\u001b[0m\u001b[0;34m\"Enter  temperature in Celsius \"\u001b[0m\u001b[0;34m)\u001b[0m\u001b[0;34m)\u001b[0m\u001b[0;34m\u001b[0m\u001b[0;34m\u001b[0m\u001b[0m\n\u001b[0m\u001b[1;32m      2\u001b[0m \u001b[0mf\u001b[0m \u001b[0;34m=\u001b[0m \u001b[0mc\u001b[0m \u001b[0;34m*\u001b[0m \u001b[0;36m9\u001b[0m\u001b[0;34m/\u001b[0m\u001b[0;36m5\u001b[0m \u001b[0;34m+\u001b[0m \u001b[0;36m32\u001b[0m\u001b[0;34m\u001b[0m\u001b[0;34m\u001b[0m\u001b[0m\n\u001b[1;32m      3\u001b[0m \u001b[0mprint\u001b[0m\u001b[0;34m(\u001b[0m\u001b[0;34m\"Farenheit Temperature is\"\u001b[0m\u001b[0;34m,\u001b[0m \u001b[0mf\u001b[0m\u001b[0;34m,\u001b[0m \u001b[0mround\u001b[0m\u001b[0;34m(\u001b[0m\u001b[0mf\u001b[0m\u001b[0;34m,\u001b[0m \u001b[0;36m2\u001b[0m\u001b[0;34m)\u001b[0m\u001b[0;34m)\u001b[0m \u001b[0;31m# we can round numbers up, instead of 2 you can use the required number of precision\u001b[0m\u001b[0;34m\u001b[0m\u001b[0;34m\u001b[0m\u001b[0m\n\u001b[1;32m      4\u001b[0m \u001b[0;32mif\u001b[0m \u001b[0mf\u001b[0m \u001b[0;34m>\u001b[0m \u001b[0;36m100\u001b[0m\u001b[0;34m:\u001b[0m\u001b[0;34m\u001b[0m\u001b[0;34m\u001b[0m\u001b[0m\n\u001b[1;32m      5\u001b[0m     \u001b[0mprint\u001b[0m\u001b[0;34m(\u001b[0m\u001b[0;34m\"You are too hot, find a doctor?\"\u001b[0m\u001b[0;34m)\u001b[0m\u001b[0;34m\u001b[0m\u001b[0;34m\u001b[0m\u001b[0m\n",
      "\u001b[0;32m/usr/local/lib/python3.7/dist-packages/ipykernel/kernelbase.py\u001b[0m in \u001b[0;36mraw_input\u001b[0;34m(self, prompt)\u001b[0m\n\u001b[1;32m    702\u001b[0m             \u001b[0mself\u001b[0m\u001b[0;34m.\u001b[0m\u001b[0m_parent_ident\u001b[0m\u001b[0;34m,\u001b[0m\u001b[0;34m\u001b[0m\u001b[0;34m\u001b[0m\u001b[0m\n\u001b[1;32m    703\u001b[0m             \u001b[0mself\u001b[0m\u001b[0;34m.\u001b[0m\u001b[0m_parent_header\u001b[0m\u001b[0;34m,\u001b[0m\u001b[0;34m\u001b[0m\u001b[0;34m\u001b[0m\u001b[0m\n\u001b[0;32m--> 704\u001b[0;31m             \u001b[0mpassword\u001b[0m\u001b[0;34m=\u001b[0m\u001b[0;32mFalse\u001b[0m\u001b[0;34m,\u001b[0m\u001b[0;34m\u001b[0m\u001b[0;34m\u001b[0m\u001b[0m\n\u001b[0m\u001b[1;32m    705\u001b[0m         )\n\u001b[1;32m    706\u001b[0m \u001b[0;34m\u001b[0m\u001b[0m\n",
      "\u001b[0;32m/usr/local/lib/python3.7/dist-packages/ipykernel/kernelbase.py\u001b[0m in \u001b[0;36m_input_request\u001b[0;34m(self, prompt, ident, parent, password)\u001b[0m\n\u001b[1;32m    732\u001b[0m             \u001b[0;32mexcept\u001b[0m \u001b[0mKeyboardInterrupt\u001b[0m\u001b[0;34m:\u001b[0m\u001b[0;34m\u001b[0m\u001b[0;34m\u001b[0m\u001b[0m\n\u001b[1;32m    733\u001b[0m                 \u001b[0;31m# re-raise KeyboardInterrupt, to truncate traceback\u001b[0m\u001b[0;34m\u001b[0m\u001b[0;34m\u001b[0m\u001b[0;34m\u001b[0m\u001b[0m\n\u001b[0;32m--> 734\u001b[0;31m                 \u001b[0;32mraise\u001b[0m \u001b[0mKeyboardInterrupt\u001b[0m\u001b[0;34m\u001b[0m\u001b[0;34m\u001b[0m\u001b[0m\n\u001b[0m\u001b[1;32m    735\u001b[0m             \u001b[0;32melse\u001b[0m\u001b[0;34m:\u001b[0m\u001b[0;34m\u001b[0m\u001b[0;34m\u001b[0m\u001b[0m\n\u001b[1;32m    736\u001b[0m                 \u001b[0;32mbreak\u001b[0m\u001b[0;34m\u001b[0m\u001b[0;34m\u001b[0m\u001b[0m\n",
      "\u001b[0;31mKeyboardInterrupt\u001b[0m: "
     ]
    }
   ],
   "source": [
    "c = float(input(\"Enter  temperature in Celsius \"))\n",
    "f = c * 9/5 + 32\n",
    "print(\"Farenheit Temperature is\", f, round(f, 2)) # we can round numbers up, instead of 2 you can use the required number of precision\n",
    "if f > 100:\n",
    "    print(\"You are too hot, find a doctor?\")"
   ]
  },
  {
   "cell_type": "code",
   "execution_count": null,
   "metadata": {
    "id": "y0WBr_Ilyk69"
   },
   "outputs": [],
   "source": [
    "# Try reversing the above program to create a Farenheit to Celsius converter"
   ]
  },
  {
   "cell_type": "code",
   "execution_count": 189,
   "metadata": {
    "colab": {
     "base_uri": "https://localhost:8080/"
    },
    "id": "bwQ6KgAJyk6-",
    "outputId": "eb5fbfd1-5384-4cd7-d227-8d69d40bfe46"
   },
   "outputs": [
    {
     "name": "stdout",
     "output_type": "stream",
     "text": [
      "a is larger than 5\n"
     ]
    }
   ],
   "source": [
    "a = 13\n",
    "# so if and else here are part of the same statement\n",
    "if a > 5:\n",
    "    print('a is larger than 5')\n",
    "    # do more stuff\n",
    "else:\n",
    "    print('a is NOT larger than 5')\n",
    "    # do more stuff if a is not larger than 5"
   ]
  },
  {
   "cell_type": "code",
   "execution_count": 192,
   "metadata": {
    "colab": {
     "base_uri": "https://localhost:8080/"
    },
    "id": "jn3qWMZtyk6-",
    "outputId": "494c76e8-09e2-48d8-93f2-27591923271e"
   },
   "outputs": [
    {
     "name": "stdout",
     "output_type": "stream",
     "text": [
      "Enter an integer please! 42\n",
      "That is the answer to everything!\n",
      "Your number is 42\n"
     ]
    }
   ],
   "source": [
    "#elif comes from else if\n",
    "x = int(input(\"Enter an integer please! \"))\n",
    "if x > 42:\n",
    "    print(\"Too ambitious an answer!\")\n",
    "elif x < 42:\n",
    "    print(\"You dream too little!\")\n",
    "else: # only 42 remains here\n",
    "    print(\"That is the answer to everything!\")\n",
    "#These lines below will execute always\n",
    "print('Your number is', x)"
   ]
  },
  {
   "cell_type": "markdown",
   "metadata": {
    "id": "QtrFl0dByk6-"
   },
   "source": [
    "## Loops"
   ]
  },
  {
   "cell_type": "code",
   "execution_count": null,
   "metadata": {
    "id": "nMuqut4Fyk6-"
   },
   "outputs": [],
   "source": [
    "# How would be perform the same/similar action multiple times?"
   ]
  },
  {
   "cell_type": "code",
   "execution_count": 194,
   "metadata": {
    "colab": {
     "base_uri": "https://localhost:8080/"
    },
    "id": "4lBUdvm7yk6-",
    "outputId": "11f44c44-096d-4e5d-ac0b-638b7215300e"
   },
   "outputs": [
    {
     "name": "stdout",
     "output_type": "stream",
     "text": [
      "Alice did \n",
      "talk\n",
      "i is  0\n",
      "talk\n",
      "i is  1\n",
      "talk\n",
      "i is  2\n",
      "talk\n",
      "i is  3\n",
      "talk\n",
      "i is  4\n"
     ]
    }
   ],
   "source": [
    "i = 0\n",
    "print(\"Alice did \")\n",
    "while i < 5:\n",
    "    print(\"talk\")\n",
    "    print(\"i is \", i)\n",
    "    i += 1 # same as i = i + 1"
   ]
  },
  {
   "cell_type": "code",
   "execution_count": 195,
   "metadata": {
    "colab": {
     "base_uri": "https://localhost:8080/"
    },
    "id": "gVUkUAQFQQlo",
    "outputId": "2cf7aa42-c29f-4bd0-dda3-2b22f157e4aa"
   },
   "outputs": [
    {
     "data": {
      "text/plain": [
       "5"
      ]
     },
     "execution_count": 195,
     "metadata": {},
     "output_type": "execute_result"
    }
   ],
   "source": [
    "i"
   ]
  },
  {
   "cell_type": "code",
   "execution_count": 196,
   "metadata": {
    "colab": {
     "base_uri": "https://localhost:8080/",
     "height": 1000
    },
    "id": "niBTEsgDQKwO",
    "outputId": "61122ef8-4a5e-4c42-b3bd-c00278242289"
   },
   "outputs": [
    {
     "name": "stdout",
     "output_type": "stream",
     "text": [
      "\u001b[1;30;43mStreaming output truncated to the last 5000 lines.\u001b[0m\n",
      "Hmm\n",
      "Hmm\n",
      "Hmm\n",
      "Hmm\n",
      "Hmm\n",
      "Hmm\n",
      "Hmm\n",
      "Hmm\n",
      "Hmm\n",
      "Hmm\n",
      "Hmm\n",
      "Hmm\n",
      "Hmm\n",
      "Hmm\n",
      "Hmm\n",
      "Hmm\n",
      "Hmm\n",
      "Hmm\n",
      "Hmm\n",
      "Hmm\n",
      "Hmm\n",
      "Hmm\n",
      "Hmm\n",
      "Hmm\n",
      "Hmm\n",
      "Hmm\n",
      "Hmm\n",
      "Hmm\n",
      "Hmm\n",
      "Hmm\n",
      "Hmm\n",
      "Hmm\n",
      "Hmm\n",
      "Hmm\n",
      "Hmm\n",
      "Hmm\n",
      "Hmm\n",
      "Hmm\n",
      "Hmm\n",
      "Hmm\n",
      "Hmm\n",
      "Hmm\n",
      "Hmm\n",
      "Hmm\n",
      "Hmm\n",
      "Hmm\n",
      "Hmm\n",
      "Hmm\n",
      "Hmm\n",
      "Hmm\n",
      "Hmm\n",
      "Hmm\n",
      "Hmm\n",
      "Hmm\n",
      "Hmm\n",
      "Hmm\n",
      "Hmm\n",
      "Hmm\n",
      "Hmm\n",
      "Hmm\n",
      "Hmm\n",
      "Hmm\n",
      "Hmm\n",
      "Hmm\n",
      "Hmm\n",
      "Hmm\n",
      "Hmm\n",
      "Hmm\n",
      "Hmm\n",
      "Hmm\n",
      "Hmm\n",
      "Hmm\n",
      "Hmm\n",
      "Hmm\n",
      "Hmm\n",
      "Hmm\n",
      "Hmm\n",
      "Hmm\n",
      "Hmm\n",
      "Hmm\n",
      "Hmm\n",
      "Hmm\n",
      "Hmm\n",
      "Hmm\n",
      "Hmm\n",
      "Hmm\n",
      "Hmm\n",
      "Hmm\n",
      "Hmm\n",
      "Hmm\n",
      "Hmm\n",
      "Hmm\n",
      "Hmm\n",
      "Hmm\n",
      "Hmm\n",
      "Hmm\n",
      "Hmm\n",
      "Hmm\n",
      "Hmm\n",
      "Hmm\n",
      "Hmm\n",
      "Hmm\n",
      "Hmm\n",
      "Hmm\n",
      "Hmm\n",
      "Hmm\n",
      "Hmm\n",
      "Hmm\n",
      "Hmm\n",
      "Hmm\n",
      "Hmm\n",
      "Hmm\n",
      "Hmm\n",
      "Hmm\n",
      "Hmm\n",
      "Hmm\n",
      "Hmm\n",
      "Hmm\n",
      "Hmm\n",
      "Hmm\n",
      "Hmm\n",
      "Hmm\n",
      "Hmm\n",
      "Hmm\n",
      "Hmm\n",
      "Hmm\n",
      "Hmm\n",
      "Hmm\n",
      "Hmm\n",
      "Hmm\n",
      "Hmm\n",
      "Hmm\n",
      "Hmm\n",
      "Hmm\n",
      "Hmm\n",
      "Hmm\n",
      "Hmm\n",
      "Hmm\n",
      "Hmm\n",
      "Hmm\n",
      "Hmm\n",
      "Hmm\n",
      "Hmm\n",
      "Hmm\n",
      "Hmm\n",
      "Hmm\n",
      "Hmm\n",
      "Hmm\n",
      "Hmm\n",
      "Hmm\n",
      "Hmm\n",
      "Hmm\n",
      "Hmm\n",
      "Hmm\n",
      "Hmm\n",
      "Hmm\n",
      "Hmm\n",
      "Hmm\n",
      "Hmm\n",
      "Hmm\n",
      "Hmm\n",
      "Hmm\n",
      "Hmm\n",
      "Hmm\n",
      "Hmm\n",
      "Hmm\n",
      "Hmm\n",
      "Hmm\n",
      "Hmm\n",
      "Hmm\n",
      "Hmm\n",
      "Hmm\n",
      "Hmm\n",
      "Hmm\n",
      "Hmm\n",
      "Hmm\n",
      "Hmm\n",
      "Hmm\n",
      "Hmm\n",
      "Hmm\n",
      "Hmm\n",
      "Hmm\n",
      "Hmm\n",
      "Hmm\n",
      "Hmm\n",
      "Hmm\n",
      "Hmm\n",
      "Hmm\n",
      "Hmm\n",
      "Hmm\n",
      "Hmm\n",
      "Hmm\n",
      "Hmm\n",
      "Hmm\n",
      "Hmm\n",
      "Hmm\n",
      "Hmm\n",
      "Hmm\n",
      "Hmm\n",
      "Hmm\n",
      "Hmm\n",
      "Hmm\n",
      "Hmm\n",
      "Hmm\n",
      "Hmm\n",
      "Hmm\n",
      "Hmm\n",
      "Hmm\n",
      "Hmm\n",
      "Hmm\n",
      "Hmm\n",
      "Hmm\n",
      "Hmm\n",
      "Hmm\n",
      "Hmm\n",
      "Hmm\n",
      "Hmm\n",
      "Hmm\n",
      "Hmm\n",
      "Hmm\n",
      "Hmm\n",
      "Hmm\n",
      "Hmm\n",
      "Hmm\n",
      "Hmm\n",
      "Hmm\n",
      "Hmm\n",
      "Hmm\n",
      "Hmm\n",
      "Hmm\n",
      "Hmm\n",
      "Hmm\n",
      "Hmm\n",
      "Hmm\n",
      "Hmm\n",
      "Hmm\n",
      "Hmm\n",
      "Hmm\n",
      "Hmm\n",
      "Hmm\n",
      "Hmm\n",
      "Hmm\n",
      "Hmm\n",
      "Hmm\n",
      "Hmm\n",
      "Hmm\n",
      "Hmm\n",
      "Hmm\n",
      "Hmm\n",
      "Hmm\n",
      "Hmm\n",
      "Hmm\n",
      "Hmm\n",
      "Hmm\n",
      "Hmm\n",
      "Hmm\n",
      "Hmm\n",
      "Hmm\n",
      "Hmm\n",
      "Hmm\n",
      "Hmm\n",
      "Hmm\n",
      "Hmm\n",
      "Hmm\n",
      "Hmm\n",
      "Hmm\n",
      "Hmm\n",
      "Hmm\n",
      "Hmm\n",
      "Hmm\n",
      "Hmm\n",
      "Hmm\n",
      "Hmm\n",
      "Hmm\n",
      "Hmm\n",
      "Hmm\n",
      "Hmm\n",
      "Hmm\n",
      "Hmm\n",
      "Hmm\n",
      "Hmm\n",
      "Hmm\n",
      "Hmm\n",
      "Hmm\n",
      "Hmm\n",
      "Hmm\n",
      "Hmm\n",
      "Hmm\n",
      "Hmm\n",
      "Hmm\n",
      "Hmm\n",
      "Hmm\n",
      "Hmm\n",
      "Hmm\n",
      "Hmm\n",
      "Hmm\n",
      "Hmm\n",
      "Hmm\n",
      "Hmm\n",
      "Hmm\n",
      "Hmm\n",
      "Hmm\n",
      "Hmm\n",
      "Hmm\n",
      "Hmm\n",
      "Hmm\n",
      "Hmm\n",
      "Hmm\n",
      "Hmm\n",
      "Hmm\n",
      "Hmm\n",
      "Hmm\n",
      "Hmm\n",
      "Hmm\n",
      "Hmm\n",
      "Hmm\n",
      "Hmm\n",
      "Hmm\n",
      "Hmm\n",
      "Hmm\n",
      "Hmm\n",
      "Hmm\n",
      "Hmm\n",
      "Hmm\n",
      "Hmm\n",
      "Hmm\n",
      "Hmm\n",
      "Hmm\n",
      "Hmm\n",
      "Hmm\n",
      "Hmm\n",
      "Hmm\n",
      "Hmm\n",
      "Hmm\n",
      "Hmm\n",
      "Hmm\n",
      "Hmm\n",
      "Hmm\n",
      "Hmm\n",
      "Hmm\n",
      "Hmm\n",
      "Hmm\n",
      "Hmm\n",
      "Hmm\n",
      "Hmm\n",
      "Hmm\n",
      "Hmm\n",
      "Hmm\n",
      "Hmm\n",
      "Hmm\n",
      "Hmm\n",
      "Hmm\n",
      "Hmm\n",
      "Hmm\n",
      "Hmm\n",
      "Hmm\n",
      "Hmm\n",
      "Hmm\n",
      "Hmm\n",
      "Hmm\n",
      "Hmm\n",
      "Hmm\n",
      "Hmm\n",
      "Hmm\n",
      "Hmm\n",
      "Hmm\n",
      "Hmm\n",
      "Hmm\n",
      "Hmm\n",
      "Hmm\n",
      "Hmm\n",
      "Hmm\n",
      "Hmm\n",
      "Hmm\n",
      "Hmm\n",
      "Hmm\n",
      "Hmm\n",
      "Hmm\n",
      "Hmm\n",
      "Hmm\n",
      "Hmm\n",
      "Hmm\n",
      "Hmm\n",
      "Hmm\n",
      "Hmm\n",
      "Hmm\n",
      "Hmm\n",
      "Hmm\n",
      "Hmm\n",
      "Hmm\n",
      "Hmm\n",
      "Hmm\n",
      "Hmm\n",
      "Hmm\n",
      "Hmm\n",
      "Hmm\n",
      "Hmm\n",
      "Hmm\n",
      "Hmm\n",
      "Hmm\n",
      "Hmm\n",
      "Hmm\n",
      "Hmm\n",
      "Hmm\n",
      "Hmm\n",
      "Hmm\n",
      "Hmm\n",
      "Hmm\n",
      "Hmm\n",
      "Hmm\n",
      "Hmm\n",
      "Hmm\n",
      "Hmm\n",
      "Hmm\n",
      "Hmm\n",
      "Hmm\n",
      "Hmm\n",
      "Hmm\n",
      "Hmm\n",
      "Hmm\n",
      "Hmm\n",
      "Hmm\n",
      "Hmm\n",
      "Hmm\n",
      "Hmm\n",
      "Hmm\n",
      "Hmm\n",
      "Hmm\n",
      "Hmm\n",
      "Hmm\n",
      "Hmm\n",
      "Hmm\n",
      "Hmm\n",
      "Hmm\n",
      "Hmm\n",
      "Hmm\n",
      "Hmm\n",
      "Hmm\n",
      "Hmm\n",
      "Hmm\n",
      "Hmm\n",
      "Hmm\n",
      "Hmm\n",
      "Hmm\n",
      "Hmm\n",
      "Hmm\n",
      "Hmm\n",
      "Hmm\n",
      "Hmm\n",
      "Hmm\n",
      "Hmm\n",
      "Hmm\n",
      "Hmm\n",
      "Hmm\n",
      "Hmm\n",
      "Hmm\n",
      "Hmm\n",
      "Hmm\n",
      "Hmm\n",
      "Hmm\n",
      "Hmm\n",
      "Hmm\n",
      "Hmm\n",
      "Hmm\n",
      "Hmm\n",
      "Hmm\n",
      "Hmm\n",
      "Hmm\n",
      "Hmm\n",
      "Hmm\n",
      "Hmm\n",
      "Hmm\n",
      "Hmm\n",
      "Hmm\n",
      "Hmm\n",
      "Hmm\n",
      "Hmm\n",
      "Hmm\n",
      "Hmm\n",
      "Hmm\n",
      "Hmm\n",
      "Hmm\n",
      "Hmm\n",
      "Hmm\n",
      "Hmm\n",
      "Hmm\n",
      "Hmm\n",
      "Hmm\n",
      "Hmm\n",
      "Hmm\n",
      "Hmm\n",
      "Hmm\n",
      "Hmm\n",
      "Hmm\n",
      "Hmm\n",
      "Hmm\n",
      "Hmm\n",
      "Hmm\n",
      "Hmm\n",
      "Hmm\n",
      "Hmm\n",
      "Hmm\n",
      "Hmm\n",
      "Hmm\n",
      "Hmm\n",
      "Hmm\n",
      "Hmm\n",
      "Hmm\n",
      "Hmm\n",
      "Hmm\n",
      "Hmm\n",
      "Hmm\n",
      "Hmm\n",
      "Hmm\n",
      "Hmm\n",
      "Hmm\n",
      "Hmm\n",
      "Hmm\n",
      "Hmm\n",
      "Hmm\n",
      "Hmm\n",
      "Hmm\n",
      "Hmm\n",
      "Hmm\n",
      "Hmm\n",
      "Hmm\n",
      "Hmm\n",
      "Hmm\n",
      "Hmm\n",
      "Hmm\n",
      "Hmm\n",
      "Hmm\n",
      "Hmm\n",
      "Hmm\n",
      "Hmm\n",
      "Hmm\n",
      "Hmm\n",
      "Hmm\n",
      "Hmm\n",
      "Hmm\n",
      "Hmm\n",
      "Hmm\n",
      "Hmm\n",
      "Hmm\n",
      "Hmm\n",
      "Hmm\n",
      "Hmm\n",
      "Hmm\n",
      "Hmm\n",
      "Hmm\n",
      "Hmm\n",
      "Hmm\n",
      "Hmm\n",
      "Hmm\n",
      "Hmm\n",
      "Hmm\n",
      "Hmm\n",
      "Hmm\n",
      "Hmm\n",
      "Hmm\n",
      "Hmm\n",
      "Hmm\n",
      "Hmm\n",
      "Hmm\n",
      "Hmm\n",
      "Hmm\n",
      "Hmm\n",
      "Hmm\n",
      "Hmm\n",
      "Hmm\n",
      "Hmm\n",
      "Hmm\n",
      "Hmm\n",
      "Hmm\n",
      "Hmm\n",
      "Hmm\n",
      "Hmm\n",
      "Hmm\n",
      "Hmm\n",
      "Hmm\n",
      "Hmm\n",
      "Hmm\n",
      "Hmm\n",
      "Hmm\n",
      "Hmm\n",
      "Hmm\n",
      "Hmm\n",
      "Hmm\n",
      "Hmm\n",
      "Hmm\n",
      "Hmm\n",
      "Hmm\n",
      "Hmm\n",
      "Hmm\n",
      "Hmm\n",
      "Hmm\n",
      "Hmm\n",
      "Hmm\n",
      "Hmm\n",
      "Hmm\n",
      "Hmm\n",
      "Hmm\n",
      "Hmm\n",
      "Hmm\n",
      "Hmm\n",
      "Hmm\n",
      "Hmm\n",
      "Hmm\n",
      "Hmm\n",
      "Hmm\n",
      "Hmm\n",
      "Hmm\n",
      "Hmm\n",
      "Hmm\n",
      "Hmm\n",
      "Hmm\n",
      "Hmm\n",
      "Hmm\n",
      "Hmm\n",
      "Hmm\n",
      "Hmm\n",
      "Hmm\n",
      "Hmm\n",
      "Hmm\n",
      "Hmm\n",
      "Hmm\n",
      "Hmm\n",
      "Hmm\n",
      "Hmm\n",
      "Hmm\n",
      "Hmm\n",
      "Hmm\n",
      "Hmm\n",
      "Hmm\n",
      "Hmm\n",
      "Hmm\n",
      "Hmm\n",
      "Hmm\n",
      "Hmm\n",
      "Hmm\n",
      "Hmm\n",
      "Hmm\n",
      "Hmm\n",
      "Hmm\n",
      "Hmm\n",
      "Hmm\n",
      "Hmm\n",
      "Hmm\n",
      "Hmm\n",
      "Hmm\n",
      "Hmm\n",
      "Hmm\n",
      "Hmm\n",
      "Hmm\n",
      "Hmm\n",
      "Hmm\n",
      "Hmm\n",
      "Hmm\n",
      "Hmm\n",
      "Hmm\n",
      "Hmm\n",
      "Hmm\n",
      "Hmm\n",
      "Hmm\n",
      "Hmm\n",
      "Hmm\n",
      "Hmm\n",
      "Hmm\n",
      "Hmm\n",
      "Hmm\n",
      "Hmm\n",
      "Hmm\n",
      "Hmm\n",
      "Hmm\n",
      "Hmm\n",
      "Hmm\n",
      "Hmm\n",
      "Hmm\n",
      "Hmm\n",
      "Hmm\n",
      "Hmm\n",
      "Hmm\n",
      "Hmm\n",
      "Hmm\n",
      "Hmm\n",
      "Hmm\n",
      "Hmm\n",
      "Hmm\n",
      "Hmm\n",
      "Hmm\n",
      "Hmm\n",
      "Hmm\n",
      "Hmm\n",
      "Hmm\n",
      "Hmm\n",
      "Hmm\n",
      "Hmm\n",
      "Hmm\n",
      "Hmm\n",
      "Hmm\n",
      "Hmm\n",
      "Hmm\n",
      "Hmm\n",
      "Hmm\n",
      "Hmm\n",
      "Hmm\n",
      "Hmm\n",
      "Hmm\n",
      "Hmm\n",
      "Hmm\n",
      "Hmm\n",
      "Hmm\n",
      "Hmm\n",
      "Hmm\n",
      "Hmm\n",
      "Hmm\n",
      "Hmm\n",
      "Hmm\n",
      "Hmm\n",
      "Hmm\n",
      "Hmm\n",
      "Hmm\n",
      "Hmm\n",
      "Hmm\n",
      "Hmm\n",
      "Hmm\n",
      "Hmm\n",
      "Hmm\n",
      "Hmm\n",
      "Hmm\n",
      "Hmm\n",
      "Hmm\n",
      "Hmm\n",
      "Hmm\n",
      "Hmm\n",
      "Hmm\n",
      "Hmm\n",
      "Hmm\n",
      "Hmm\n",
      "Hmm\n",
      "Hmm\n",
      "Hmm\n",
      "Hmm\n",
      "Hmm\n",
      "Hmm\n",
      "Hmm\n",
      "Hmm\n",
      "Hmm\n",
      "Hmm\n",
      "Hmm\n",
      "Hmm\n",
      "Hmm\n",
      "Hmm\n",
      "Hmm\n",
      "Hmm\n",
      "Hmm\n",
      "Hmm\n",
      "Hmm\n",
      "Hmm\n",
      "Hmm\n",
      "Hmm\n",
      "Hmm\n",
      "Hmm\n",
      "Hmm\n",
      "Hmm\n",
      "Hmm\n",
      "Hmm\n",
      "Hmm\n",
      "Hmm\n",
      "Hmm\n",
      "Hmm\n",
      "Hmm\n",
      "Hmm\n",
      "Hmm\n",
      "Hmm\n",
      "Hmm\n",
      "Hmm\n",
      "Hmm\n",
      "Hmm\n",
      "Hmm\n",
      "Hmm\n",
      "Hmm\n",
      "Hmm\n",
      "Hmm\n",
      "Hmm\n",
      "Hmm\n",
      "Hmm\n",
      "Hmm\n",
      "Hmm\n",
      "Hmm\n",
      "Hmm\n",
      "Hmm\n",
      "Hmm\n",
      "Hmm\n",
      "Hmm\n",
      "Hmm\n",
      "Hmm\n",
      "Hmm\n",
      "Hmm\n",
      "Hmm\n",
      "Hmm\n",
      "Hmm\n",
      "Hmm\n",
      "Hmm\n",
      "Hmm\n",
      "Hmm\n",
      "Hmm\n",
      "Hmm\n",
      "Hmm\n",
      "Hmm\n",
      "Hmm\n",
      "Hmm\n",
      "Hmm\n",
      "Hmm\n",
      "Hmm\n",
      "Hmm\n",
      "Hmm\n",
      "Hmm\n",
      "Hmm\n",
      "Hmm\n",
      "Hmm\n",
      "Hmm\n",
      "Hmm\n",
      "Hmm\n",
      "Hmm\n",
      "Hmm\n",
      "Hmm\n",
      "Hmm\n",
      "Hmm\n",
      "Hmm\n",
      "Hmm\n",
      "Hmm\n",
      "Hmm\n",
      "Hmm\n",
      "Hmm\n",
      "Hmm\n",
      "Hmm\n",
      "Hmm\n",
      "Hmm\n",
      "Hmm\n",
      "Hmm\n",
      "Hmm\n",
      "Hmm\n",
      "Hmm\n",
      "Hmm\n",
      "Hmm\n",
      "Hmm\n",
      "Hmm\n",
      "Hmm\n",
      "Hmm\n",
      "Hmm\n",
      "Hmm\n",
      "Hmm\n",
      "Hmm\n",
      "Hmm\n",
      "Hmm\n",
      "Hmm\n",
      "Hmm\n",
      "Hmm\n",
      "Hmm\n",
      "Hmm\n",
      "Hmm\n",
      "Hmm\n",
      "Hmm\n",
      "Hmm\n",
      "Hmm\n",
      "Hmm\n",
      "Hmm\n",
      "Hmm\n",
      "Hmm\n",
      "Hmm\n",
      "Hmm\n",
      "Hmm\n",
      "Hmm\n",
      "Hmm\n",
      "Hmm\n",
      "Hmm\n",
      "Hmm\n",
      "Hmm\n",
      "Hmm\n",
      "Hmm\n",
      "Hmm\n",
      "Hmm\n",
      "Hmm\n",
      "Hmm\n",
      "Hmm\n",
      "Hmm\n",
      "Hmm\n",
      "Hmm\n",
      "Hmm\n",
      "Hmm\n",
      "Hmm\n",
      "Hmm\n",
      "Hmm\n",
      "Hmm\n",
      "Hmm\n",
      "Hmm\n",
      "Hmm\n",
      "Hmm\n",
      "Hmm\n",
      "Hmm\n",
      "Hmm\n",
      "Hmm\n",
      "Hmm\n",
      "Hmm\n",
      "Hmm\n",
      "Hmm\n",
      "Hmm\n",
      "Hmm\n",
      "Hmm\n",
      "Hmm\n",
      "Hmm\n",
      "Hmm\n",
      "Hmm\n",
      "Hmm\n",
      "Hmm\n",
      "Hmm\n",
      "Hmm\n",
      "Hmm\n",
      "Hmm\n",
      "Hmm\n",
      "Hmm\n",
      "Hmm\n",
      "Hmm\n",
      "Hmm\n",
      "Hmm\n",
      "Hmm\n",
      "Hmm\n",
      "Hmm\n",
      "Hmm\n",
      "Hmm\n",
      "Hmm\n",
      "Hmm\n",
      "Hmm\n",
      "Hmm\n",
      "Hmm\n",
      "Hmm\n",
      "Hmm\n",
      "Hmm\n",
      "Hmm\n",
      "Hmm\n",
      "Hmm\n",
      "Hmm\n",
      "Hmm\n",
      "Hmm\n",
      "Hmm\n",
      "Hmm\n",
      "Hmm\n",
      "Hmm\n",
      "Hmm\n",
      "Hmm\n",
      "Hmm\n",
      "Hmm\n",
      "Hmm\n",
      "Hmm\n",
      "Hmm\n",
      "Hmm\n",
      "Hmm\n",
      "Hmm\n",
      "Hmm\n",
      "Hmm\n",
      "Hmm\n",
      "Hmm\n",
      "Hmm\n",
      "Hmm\n",
      "Hmm\n",
      "Hmm\n",
      "Hmm\n",
      "Hmm\n",
      "Hmm\n",
      "Hmm\n",
      "Hmm\n",
      "Hmm\n",
      "Hmm\n",
      "Hmm\n",
      "Hmm\n",
      "Hmm\n",
      "Hmm\n",
      "Hmm\n",
      "Hmm\n",
      "Hmm\n",
      "Hmm\n",
      "Hmm\n",
      "Hmm\n",
      "Hmm\n",
      "Hmm\n",
      "Hmm\n",
      "Hmm\n",
      "Hmm\n",
      "Hmm\n",
      "Hmm\n",
      "Hmm\n",
      "Hmm\n",
      "Hmm\n",
      "Hmm\n",
      "Hmm\n",
      "Hmm\n",
      "Hmm\n",
      "Hmm\n",
      "Hmm\n",
      "Hmm\n",
      "Hmm\n",
      "Hmm\n",
      "Hmm\n",
      "Hmm\n",
      "Hmm\n",
      "Hmm\n",
      "Hmm\n",
      "Hmm\n",
      "Hmm\n",
      "Hmm\n",
      "Hmm\n",
      "Hmm\n",
      "Hmm\n",
      "Hmm\n",
      "Hmm\n",
      "Hmm\n",
      "Hmm\n",
      "Hmm\n",
      "Hmm\n",
      "Hmm\n",
      "Hmm\n",
      "Hmm\n",
      "Hmm\n",
      "Hmm\n",
      "Hmm\n",
      "Hmm\n",
      "Hmm\n",
      "Hmm\n",
      "Hmm\n",
      "Hmm\n",
      "Hmm\n",
      "Hmm\n",
      "Hmm\n",
      "Hmm\n",
      "Hmm\n",
      "Hmm\n",
      "Hmm\n",
      "Hmm\n",
      "Hmm\n",
      "Hmm\n",
      "Hmm\n",
      "Hmm\n",
      "Hmm\n",
      "Hmm\n",
      "Hmm\n",
      "Hmm\n",
      "Hmm\n",
      "Hmm\n",
      "Hmm\n",
      "Hmm\n",
      "Hmm\n",
      "Hmm\n",
      "Hmm\n",
      "Hmm\n",
      "Hmm\n",
      "Hmm\n",
      "Hmm\n",
      "Hmm\n",
      "Hmm\n",
      "Hmm\n",
      "Hmm\n",
      "Hmm\n",
      "Hmm\n",
      "Hmm\n",
      "Hmm\n",
      "Hmm\n",
      "Hmm\n",
      "Hmm\n",
      "Hmm\n",
      "Hmm\n",
      "Hmm\n",
      "Hmm\n",
      "Hmm\n",
      "Hmm\n",
      "Hmm\n",
      "Hmm\n",
      "Hmm\n",
      "Hmm\n",
      "Hmm\n",
      "Hmm\n",
      "Hmm\n",
      "Hmm\n",
      "Hmm\n",
      "Hmm\n",
      "Hmm\n",
      "Hmm\n",
      "Hmm\n",
      "Hmm\n",
      "Hmm\n",
      "Hmm\n",
      "Hmm\n",
      "Hmm\n",
      "Hmm\n",
      "Hmm\n",
      "Hmm\n",
      "Hmm\n",
      "Hmm\n",
      "Hmm\n",
      "Hmm\n",
      "Hmm\n",
      "Hmm\n",
      "Hmm\n",
      "Hmm\n",
      "Hmm\n",
      "Hmm\n",
      "Hmm\n",
      "Hmm\n",
      "Hmm\n",
      "Hmm\n",
      "Hmm\n",
      "Hmm\n",
      "Hmm\n",
      "Hmm\n",
      "Hmm\n",
      "Hmm\n",
      "Hmm\n",
      "Hmm\n",
      "Hmm\n",
      "Hmm\n",
      "Hmm\n",
      "Hmm\n",
      "Hmm\n",
      "Hmm\n",
      "Hmm\n",
      "Hmm\n",
      "Hmm\n",
      "Hmm\n",
      "Hmm\n",
      "Hmm\n",
      "Hmm\n",
      "Hmm\n",
      "Hmm\n",
      "Hmm\n",
      "Hmm\n",
      "Hmm\n",
      "Hmm\n",
      "Hmm\n",
      "Hmm\n",
      "Hmm\n",
      "Hmm\n",
      "Hmm\n",
      "Hmm\n",
      "Hmm\n",
      "Hmm\n",
      "Hmm\n",
      "Hmm\n",
      "Hmm\n",
      "Hmm\n",
      "Hmm\n",
      "Hmm\n",
      "Hmm\n",
      "Hmm\n",
      "Hmm\n",
      "Hmm\n",
      "Hmm\n",
      "Hmm\n",
      "Hmm\n",
      "Hmm\n",
      "Hmm\n",
      "Hmm\n",
      "Hmm\n",
      "Hmm\n",
      "Hmm\n",
      "Hmm\n",
      "Hmm\n",
      "Hmm\n",
      "Hmm\n",
      "Hmm\n",
      "Hmm\n",
      "Hmm\n",
      "Hmm\n",
      "Hmm\n",
      "Hmm\n",
      "Hmm\n",
      "Hmm\n",
      "Hmm\n",
      "Hmm\n",
      "Hmm\n",
      "Hmm\n",
      "Hmm\n",
      "Hmm\n",
      "Hmm\n",
      "Hmm\n",
      "Hmm\n",
      "Hmm\n",
      "Hmm\n",
      "Hmm\n",
      "Hmm\n",
      "Hmm\n",
      "Hmm\n",
      "Hmm\n",
      "Hmm\n",
      "Hmm\n",
      "Hmm\n",
      "Hmm\n",
      "Hmm\n",
      "Hmm\n",
      "Hmm\n",
      "Hmm\n",
      "Hmm\n",
      "Hmm\n",
      "Hmm\n",
      "Hmm\n",
      "Hmm\n",
      "Hmm\n",
      "Hmm\n",
      "Hmm\n",
      "Hmm\n",
      "Hmm\n",
      "Hmm\n",
      "Hmm\n",
      "Hmm\n",
      "Hmm\n",
      "Hmm\n",
      "Hmm\n",
      "Hmm\n",
      "Hmm\n",
      "Hmm\n",
      "Hmm\n",
      "Hmm\n",
      "Hmm\n",
      "Hmm\n",
      "Hmm\n",
      "Hmm\n",
      "Hmm\n",
      "Hmm\n",
      "Hmm\n",
      "Hmm\n",
      "Hmm\n",
      "Hmm\n",
      "Hmm\n",
      "Hmm\n",
      "Hmm\n",
      "Hmm\n",
      "Hmm\n",
      "Hmm\n",
      "Hmm\n",
      "Hmm\n",
      "Hmm\n",
      "Hmm\n",
      "Hmm\n",
      "Hmm\n",
      "Hmm\n",
      "Hmm\n",
      "Hmm\n",
      "Hmm\n",
      "Hmm\n",
      "Hmm\n",
      "Hmm\n",
      "Hmm\n",
      "Hmm\n",
      "Hmm\n",
      "Hmm\n",
      "Hmm\n",
      "Hmm\n",
      "Hmm\n",
      "Hmm\n",
      "Hmm\n",
      "Hmm\n",
      "Hmm\n",
      "Hmm\n",
      "Hmm\n",
      "Hmm\n",
      "Hmm\n",
      "Hmm\n",
      "Hmm\n",
      "Hmm\n",
      "Hmm\n",
      "Hmm\n",
      "Hmm\n",
      "Hmm\n",
      "Hmm\n",
      "Hmm\n",
      "Hmm\n",
      "Hmm\n",
      "Hmm\n",
      "Hmm\n",
      "Hmm\n",
      "Hmm\n",
      "Hmm\n",
      "Hmm\n",
      "Hmm\n",
      "Hmm\n",
      "Hmm\n",
      "Hmm\n",
      "Hmm\n",
      "Hmm\n",
      "Hmm\n",
      "Hmm\n",
      "Hmm\n",
      "Hmm\n",
      "Hmm\n",
      "Hmm\n",
      "Hmm\n",
      "Hmm\n",
      "Hmm\n",
      "Hmm\n",
      "Hmm\n",
      "Hmm\n",
      "Hmm\n",
      "Hmm\n",
      "Hmm\n",
      "Hmm\n",
      "Hmm\n",
      "Hmm\n",
      "Hmm\n",
      "Hmm\n",
      "Hmm\n",
      "Hmm\n",
      "Hmm\n",
      "Hmm\n",
      "Hmm\n",
      "Hmm\n",
      "Hmm\n",
      "Hmm\n",
      "Hmm\n",
      "Hmm\n",
      "Hmm\n",
      "Hmm\n",
      "Hmm\n",
      "Hmm\n",
      "Hmm\n",
      "Hmm\n",
      "Hmm\n",
      "Hmm\n",
      "Hmm\n",
      "Hmm\n",
      "Hmm\n",
      "Hmm\n",
      "Hmm\n",
      "Hmm\n",
      "Hmm\n",
      "Hmm\n",
      "Hmm\n",
      "Hmm\n",
      "Hmm\n",
      "Hmm\n",
      "Hmm\n",
      "Hmm\n",
      "Hmm\n",
      "Hmm\n",
      "Hmm\n",
      "Hmm\n",
      "Hmm\n",
      "Hmm\n",
      "Hmm\n",
      "Hmm\n",
      "Hmm\n",
      "Hmm\n",
      "Hmm\n",
      "Hmm\n",
      "Hmm\n",
      "Hmm\n",
      "Hmm\n",
      "Hmm\n",
      "Hmm\n",
      "Hmm\n",
      "Hmm\n",
      "Hmm\n",
      "Hmm\n",
      "Hmm\n",
      "Hmm\n",
      "Hmm\n",
      "Hmm\n",
      "Hmm\n",
      "Hmm\n",
      "Hmm\n",
      "Hmm\n",
      "Hmm\n",
      "Hmm\n",
      "Hmm\n",
      "Hmm\n",
      "Hmm\n",
      "Hmm\n",
      "Hmm\n",
      "Hmm\n",
      "Hmm\n",
      "Hmm\n",
      "Hmm\n",
      "Hmm\n",
      "Hmm\n",
      "Hmm\n",
      "Hmm\n",
      "Hmm\n",
      "Hmm\n",
      "Hmm\n",
      "Hmm\n",
      "Hmm\n",
      "Hmm\n",
      "Hmm\n",
      "Hmm\n",
      "Hmm\n",
      "Hmm\n",
      "Hmm\n",
      "Hmm\n",
      "Hmm\n",
      "Hmm\n",
      "Hmm\n",
      "Hmm\n",
      "Hmm\n",
      "Hmm\n",
      "Hmm\n",
      "Hmm\n",
      "Hmm\n",
      "Hmm\n",
      "Hmm\n",
      "Hmm\n",
      "Hmm\n",
      "Hmm\n",
      "Hmm\n",
      "Hmm\n",
      "Hmm\n",
      "Hmm\n",
      "Hmm\n",
      "Hmm\n",
      "Hmm\n",
      "Hmm\n",
      "Hmm\n",
      "Hmm\n",
      "Hmm\n",
      "Hmm\n",
      "Hmm\n",
      "Hmm\n",
      "Hmm\n",
      "Hmm\n",
      "Hmm\n",
      "Hmm\n",
      "Hmm\n",
      "Hmm\n",
      "Hmm\n",
      "Hmm\n",
      "Hmm\n",
      "Hmm\n",
      "Hmm\n",
      "Hmm\n",
      "Hmm\n",
      "Hmm\n",
      "Hmm\n",
      "Hmm\n",
      "Hmm\n",
      "Hmm\n",
      "Hmm\n",
      "Hmm\n",
      "Hmm\n",
      "Hmm\n",
      "Hmm\n",
      "Hmm\n",
      "Hmm\n",
      "Hmm\n",
      "Hmm\n",
      "Hmm\n",
      "Hmm\n",
      "Hmm\n",
      "Hmm\n",
      "Hmm\n",
      "Hmm\n",
      "Hmm\n",
      "Hmm\n",
      "Hmm\n",
      "Hmm\n",
      "Hmm\n",
      "Hmm\n",
      "Hmm\n",
      "Hmm\n",
      "Hmm\n",
      "Hmm\n",
      "Hmm\n",
      "Hmm\n",
      "Hmm\n",
      "Hmm\n",
      "Hmm\n",
      "Hmm\n",
      "Hmm\n",
      "Hmm\n",
      "Hmm\n",
      "Hmm\n",
      "Hmm\n",
      "Hmm\n",
      "Hmm\n",
      "Hmm\n",
      "Hmm\n",
      "Hmm\n",
      "Hmm\n",
      "Hmm\n",
      "Hmm\n",
      "Hmm\n",
      "Hmm\n",
      "Hmm\n",
      "Hmm\n",
      "Hmm\n",
      "Hmm\n",
      "Hmm\n",
      "Hmm\n",
      "Hmm\n",
      "Hmm\n",
      "Hmm\n",
      "Hmm\n",
      "Hmm\n",
      "Hmm\n",
      "Hmm\n",
      "Hmm\n",
      "Hmm\n",
      "Hmm\n",
      "Hmm\n",
      "Hmm\n",
      "Hmm\n",
      "Hmm\n",
      "Hmm\n",
      "Hmm\n",
      "Hmm\n",
      "Hmm\n",
      "Hmm\n",
      "Hmm\n",
      "Hmm\n",
      "Hmm\n",
      "Hmm\n",
      "Hmm\n",
      "Hmm\n",
      "Hmm\n",
      "Hmm\n",
      "Hmm\n",
      "Hmm\n",
      "Hmm\n",
      "Hmm\n",
      "Hmm\n",
      "Hmm\n",
      "Hmm\n",
      "Hmm\n",
      "Hmm\n",
      "Hmm\n",
      "Hmm\n",
      "Hmm\n",
      "Hmm\n",
      "Hmm\n",
      "Hmm\n",
      "Hmm\n",
      "Hmm\n",
      "Hmm\n",
      "Hmm\n",
      "Hmm\n",
      "Hmm\n",
      "Hmm\n",
      "Hmm\n",
      "Hmm\n",
      "Hmm\n",
      "Hmm\n",
      "Hmm\n",
      "Hmm\n",
      "Hmm\n",
      "Hmm\n",
      "Hmm\n",
      "Hmm\n",
      "Hmm\n",
      "Hmm\n",
      "Hmm\n",
      "Hmm\n",
      "Hmm\n",
      "Hmm\n",
      "Hmm\n",
      "Hmm\n",
      "Hmm\n",
      "Hmm\n",
      "Hmm\n",
      "Hmm\n",
      "Hmm\n",
      "Hmm\n",
      "Hmm\n",
      "Hmm\n",
      "Hmm\n",
      "Hmm\n",
      "Hmm\n",
      "Hmm\n",
      "Hmm\n",
      "Hmm\n",
      "Hmm\n",
      "Hmm\n",
      "Hmm\n",
      "Hmm\n",
      "Hmm\n",
      "Hmm\n",
      "Hmm\n",
      "Hmm\n",
      "Hmm\n",
      "Hmm\n",
      "Hmm\n",
      "Hmm\n",
      "Hmm\n",
      "Hmm\n",
      "Hmm\n",
      "Hmm\n",
      "Hmm\n",
      "Hmm\n",
      "Hmm\n",
      "Hmm\n",
      "Hmm\n",
      "Hmm\n",
      "Hmm\n",
      "Hmm\n",
      "Hmm\n",
      "Hmm\n",
      "Hmm\n",
      "Hmm\n",
      "Hmm\n",
      "Hmm\n",
      "Hmm\n",
      "Hmm\n",
      "Hmm\n",
      "Hmm\n",
      "Hmm\n",
      "Hmm\n",
      "Hmm\n",
      "Hmm\n",
      "Hmm\n",
      "Hmm\n",
      "Hmm\n",
      "Hmm\n",
      "Hmm\n",
      "Hmm\n",
      "Hmm\n",
      "Hmm\n",
      "Hmm\n",
      "Hmm\n",
      "Hmm\n",
      "Hmm\n",
      "Hmm\n",
      "Hmm\n",
      "Hmm\n",
      "Hmm\n",
      "Hmm\n",
      "Hmm\n",
      "Hmm\n",
      "Hmm\n",
      "Hmm\n",
      "Hmm\n",
      "Hmm\n",
      "Hmm\n",
      "Hmm\n",
      "Hmm\n",
      "Hmm\n",
      "Hmm\n",
      "Hmm\n",
      "Hmm\n",
      "Hmm\n",
      "Hmm\n",
      "Hmm\n",
      "Hmm\n",
      "Hmm\n",
      "Hmm\n",
      "Hmm\n",
      "Hmm\n",
      "Hmm\n",
      "Hmm\n",
      "Hmm\n",
      "Hmm\n",
      "Hmm\n",
      "Hmm\n",
      "Hmm\n",
      "Hmm\n",
      "Hmm\n",
      "Hmm\n",
      "Hmm\n",
      "Hmm\n",
      "Hmm\n",
      "Hmm\n",
      "Hmm\n",
      "Hmm\n",
      "Hmm\n",
      "Hmm\n",
      "Hmm\n",
      "Hmm\n",
      "Hmm\n",
      "Hmm\n",
      "Hmm\n",
      "Hmm\n",
      "Hmm\n",
      "Hmm\n",
      "Hmm\n",
      "Hmm\n",
      "Hmm\n",
      "Hmm\n",
      "Hmm\n",
      "Hmm\n",
      "Hmm\n",
      "Hmm\n",
      "Hmm\n",
      "Hmm\n",
      "Hmm\n",
      "Hmm\n",
      "Hmm\n",
      "Hmm\n",
      "Hmm\n",
      "Hmm\n",
      "Hmm\n",
      "Hmm\n",
      "Hmm\n",
      "Hmm\n",
      "Hmm\n",
      "Hmm\n",
      "Hmm\n",
      "Hmm\n",
      "Hmm\n",
      "Hmm\n",
      "Hmm\n",
      "Hmm\n",
      "Hmm\n",
      "Hmm\n",
      "Hmm\n",
      "Hmm\n",
      "Hmm\n",
      "Hmm\n",
      "Hmm\n",
      "Hmm\n",
      "Hmm\n",
      "Hmm\n",
      "Hmm\n",
      "Hmm\n",
      "Hmm\n",
      "Hmm\n",
      "Hmm\n",
      "Hmm\n",
      "Hmm\n",
      "Hmm\n",
      "Hmm\n",
      "Hmm\n",
      "Hmm\n",
      "Hmm\n",
      "Hmm\n",
      "Hmm\n",
      "Hmm\n",
      "Hmm\n",
      "Hmm\n",
      "Hmm\n",
      "Hmm\n",
      "Hmm\n",
      "Hmm\n",
      "Hmm\n",
      "Hmm\n",
      "Hmm\n",
      "Hmm\n",
      "Hmm\n",
      "Hmm\n",
      "Hmm\n",
      "Hmm\n",
      "Hmm\n",
      "Hmm\n",
      "Hmm\n",
      "Hmm\n",
      "Hmm\n",
      "Hmm\n",
      "Hmm\n",
      "Hmm\n",
      "Hmm\n",
      "Hmm\n",
      "Hmm\n",
      "Hmm\n",
      "Hmm\n",
      "Hmm\n",
      "Hmm\n",
      "Hmm\n",
      "Hmm\n",
      "Hmm\n",
      "Hmm\n",
      "Hmm\n",
      "Hmm\n",
      "Hmm\n",
      "Hmm\n",
      "Hmm\n",
      "Hmm\n",
      "Hmm\n",
      "Hmm\n",
      "Hmm\n",
      "Hmm\n",
      "Hmm\n",
      "Hmm\n",
      "Hmm\n",
      "Hmm\n",
      "Hmm\n",
      "Hmm\n",
      "Hmm\n",
      "Hmm\n",
      "Hmm\n",
      "Hmm\n",
      "Hmm\n",
      "Hmm\n",
      "Hmm\n",
      "Hmm\n",
      "Hmm\n",
      "Hmm\n",
      "Hmm\n",
      "Hmm\n",
      "Hmm\n",
      "Hmm\n",
      "Hmm\n",
      "Hmm\n",
      "Hmm\n",
      "Hmm\n",
      "Hmm\n",
      "Hmm\n",
      "Hmm\n",
      "Hmm\n",
      "Hmm\n",
      "Hmm\n",
      "Hmm\n",
      "Hmm\n",
      "Hmm\n",
      "Hmm\n",
      "Hmm\n",
      "Hmm\n",
      "Hmm\n",
      "Hmm\n",
      "Hmm\n",
      "Hmm\n",
      "Hmm\n",
      "Hmm\n",
      "Hmm\n",
      "Hmm\n",
      "Hmm\n",
      "Hmm\n",
      "Hmm\n",
      "Hmm\n",
      "Hmm\n",
      "Hmm\n",
      "Hmm\n",
      "Hmm\n",
      "Hmm\n",
      "Hmm\n",
      "Hmm\n",
      "Hmm\n",
      "Hmm\n",
      "Hmm\n",
      "Hmm\n",
      "Hmm\n",
      "Hmm\n",
      "Hmm\n",
      "Hmm\n",
      "Hmm\n",
      "Hmm\n",
      "Hmm\n",
      "Hmm\n",
      "Hmm\n",
      "Hmm\n",
      "Hmm\n",
      "Hmm\n",
      "Hmm\n",
      "Hmm\n",
      "Hmm\n",
      "Hmm\n",
      "Hmm\n",
      "Hmm\n",
      "Hmm\n",
      "Hmm\n",
      "Hmm\n",
      "Hmm\n",
      "Hmm\n",
      "Hmm\n",
      "Hmm\n",
      "Hmm\n",
      "Hmm\n",
      "Hmm\n",
      "Hmm\n",
      "Hmm\n",
      "Hmm\n",
      "Hmm\n",
      "Hmm\n",
      "Hmm\n",
      "Hmm\n",
      "Hmm\n",
      "Hmm\n",
      "Hmm\n",
      "Hmm\n",
      "Hmm\n",
      "Hmm\n",
      "Hmm\n",
      "Hmm\n",
      "Hmm\n",
      "Hmm\n",
      "Hmm\n",
      "Hmm\n",
      "Hmm\n",
      "Hmm\n",
      "Hmm\n",
      "Hmm\n",
      "Hmm\n",
      "Hmm\n",
      "Hmm\n",
      "Hmm\n",
      "Hmm\n",
      "Hmm\n",
      "Hmm\n",
      "Hmm\n",
      "Hmm\n",
      "Hmm\n",
      "Hmm\n",
      "Hmm\n",
      "Hmm\n",
      "Hmm\n",
      "Hmm\n",
      "Hmm\n",
      "Hmm\n",
      "Hmm\n",
      "Hmm\n",
      "Hmm\n",
      "Hmm\n",
      "Hmm\n",
      "Hmm\n",
      "Hmm\n",
      "Hmm\n",
      "Hmm\n",
      "Hmm\n",
      "Hmm\n",
      "Hmm\n",
      "Hmm\n",
      "Hmm\n",
      "Hmm\n",
      "Hmm\n",
      "Hmm\n",
      "Hmm\n",
      "Hmm\n",
      "Hmm\n",
      "Hmm\n",
      "Hmm\n",
      "Hmm\n",
      "Hmm\n",
      "Hmm\n",
      "Hmm\n",
      "Hmm\n",
      "Hmm\n",
      "Hmm\n",
      "Hmm\n",
      "Hmm\n",
      "Hmm\n",
      "Hmm\n",
      "Hmm\n",
      "Hmm\n",
      "Hmm\n",
      "Hmm\n",
      "Hmm\n",
      "Hmm\n",
      "Hmm\n",
      "Hmm\n",
      "Hmm\n",
      "Hmm\n",
      "Hmm\n",
      "Hmm\n",
      "Hmm\n",
      "Hmm\n",
      "Hmm\n",
      "Hmm\n",
      "Hmm\n",
      "Hmm\n",
      "Hmm\n",
      "Hmm\n",
      "Hmm\n",
      "Hmm\n",
      "Hmm\n",
      "Hmm\n",
      "Hmm\n",
      "Hmm\n",
      "Hmm\n",
      "Hmm\n",
      "Hmm\n",
      "Hmm\n",
      "Hmm\n",
      "Hmm\n",
      "Hmm\n",
      "Hmm\n",
      "Hmm\n",
      "Hmm\n",
      "Hmm\n",
      "Hmm\n",
      "Hmm\n",
      "Hmm\n",
      "Hmm\n",
      "Hmm\n",
      "Hmm\n",
      "Hmm\n",
      "Hmm\n",
      "Hmm\n",
      "Hmm\n",
      "Hmm\n",
      "Hmm\n",
      "Hmm\n",
      "Hmm\n",
      "Hmm\n",
      "Hmm\n",
      "Hmm\n",
      "Hmm\n",
      "Hmm\n",
      "Hmm\n",
      "Hmm\n",
      "Hmm\n",
      "Hmm\n",
      "Hmm\n",
      "Hmm\n",
      "Hmm\n",
      "Hmm\n",
      "Hmm\n",
      "Hmm\n",
      "Hmm\n",
      "Hmm\n",
      "Hmm\n",
      "Hmm\n",
      "Hmm\n",
      "Hmm\n",
      "Hmm\n",
      "Hmm\n",
      "Hmm\n",
      "Hmm\n",
      "Hmm\n",
      "Hmm\n",
      "Hmm\n",
      "Hmm\n",
      "Hmm\n",
      "Hmm\n",
      "Hmm\n",
      "Hmm\n",
      "Hmm\n",
      "Hmm\n",
      "Hmm\n",
      "Hmm\n",
      "Hmm\n",
      "Hmm\n",
      "Hmm\n",
      "Hmm\n",
      "Hmm\n",
      "Hmm\n",
      "Hmm\n",
      "Hmm\n",
      "Hmm\n",
      "Hmm\n",
      "Hmm\n",
      "Hmm\n",
      "Hmm\n",
      "Hmm\n",
      "Hmm\n",
      "Hmm\n",
      "Hmm\n",
      "Hmm\n",
      "Hmm\n",
      "Hmm\n",
      "Hmm\n",
      "Hmm\n",
      "Hmm\n",
      "Hmm\n",
      "Hmm\n",
      "Hmm\n",
      "Hmm\n",
      "Hmm\n",
      "Hmm\n",
      "Hmm\n",
      "Hmm\n",
      "Hmm\n",
      "Hmm\n",
      "Hmm\n",
      "Hmm\n",
      "Hmm\n",
      "Hmm\n",
      "Hmm\n",
      "Hmm\n",
      "Hmm\n",
      "Hmm\n",
      "Hmm\n",
      "Hmm\n",
      "Hmm\n",
      "Hmm\n",
      "Hmm\n",
      "Hmm\n",
      "Hmm\n",
      "Hmm\n",
      "Hmm\n",
      "Hmm\n",
      "Hmm\n",
      "Hmm\n",
      "Hmm\n",
      "Hmm\n",
      "Hmm\n",
      "Hmm\n",
      "Hmm\n",
      "Hmm\n",
      "Hmm\n",
      "Hmm\n",
      "Hmm\n",
      "Hmm\n",
      "Hmm\n",
      "Hmm\n",
      "Hmm\n",
      "Hmm\n",
      "Hmm\n",
      "Hmm\n",
      "Hmm\n",
      "Hmm\n",
      "Hmm\n",
      "Hmm\n",
      "Hmm\n",
      "Hmm\n",
      "Hmm\n",
      "Hmm\n",
      "Hmm\n",
      "Hmm\n",
      "Hmm\n",
      "Hmm\n",
      "Hmm\n",
      "Hmm\n",
      "Hmm\n",
      "Hmm\n",
      "Hmm\n",
      "Hmm\n",
      "Hmm\n",
      "Hmm\n",
      "Hmm\n",
      "Hmm\n",
      "Hmm\n",
      "Hmm\n",
      "Hmm\n",
      "Hmm\n",
      "Hmm\n",
      "Hmm\n",
      "Hmm\n",
      "Hmm\n",
      "Hmm\n",
      "Hmm\n",
      "Hmm\n",
      "Hmm\n",
      "Hmm\n",
      "Hmm\n",
      "Hmm\n",
      "Hmm\n",
      "Hmm\n",
      "Hmm\n",
      "Hmm\n",
      "Hmm\n",
      "Hmm\n",
      "Hmm\n",
      "Hmm\n",
      "Hmm\n",
      "Hmm\n",
      "Hmm\n",
      "Hmm\n",
      "Hmm\n",
      "Hmm\n",
      "Hmm\n",
      "Hmm\n",
      "Hmm\n",
      "Hmm\n",
      "Hmm\n",
      "Hmm\n",
      "Hmm\n",
      "Hmm\n",
      "Hmm\n",
      "Hmm\n",
      "Hmm\n",
      "Hmm\n",
      "Hmm\n",
      "Hmm\n",
      "Hmm\n",
      "Hmm\n",
      "Hmm\n",
      "Hmm\n",
      "Hmm\n",
      "Hmm\n",
      "Hmm\n",
      "Hmm\n",
      "Hmm\n",
      "Hmm\n",
      "Hmm\n",
      "Hmm\n",
      "Hmm\n",
      "Hmm\n",
      "Hmm\n",
      "Hmm\n",
      "Hmm\n",
      "Hmm\n",
      "Hmm\n",
      "Hmm\n",
      "Hmm\n",
      "Hmm\n",
      "Hmm\n",
      "Hmm\n",
      "Hmm\n",
      "Hmm\n",
      "Hmm\n",
      "Hmm\n",
      "Hmm\n",
      "Hmm\n",
      "Hmm\n",
      "Hmm\n",
      "Hmm\n",
      "Hmm\n",
      "Hmm\n",
      "Hmm\n",
      "Hmm\n",
      "Hmm\n",
      "Hmm\n",
      "Hmm\n",
      "Hmm\n",
      "Hmm\n",
      "Hmm\n",
      "Hmm\n",
      "Hmm\n",
      "Hmm\n",
      "Hmm\n",
      "Hmm\n",
      "Hmm\n",
      "Hmm\n",
      "Hmm\n",
      "Hmm\n",
      "Hmm\n",
      "Hmm\n",
      "Hmm\n",
      "Hmm\n",
      "Hmm\n",
      "Hmm\n",
      "Hmm\n",
      "Hmm\n",
      "Hmm\n",
      "Hmm\n",
      "Hmm\n",
      "Hmm\n",
      "Hmm\n",
      "Hmm\n",
      "Hmm\n",
      "Hmm\n",
      "Hmm\n",
      "Hmm\n",
      "Hmm\n",
      "Hmm\n",
      "Hmm\n",
      "Hmm\n",
      "Hmm\n",
      "Hmm\n",
      "Hmm\n",
      "Hmm\n",
      "Hmm\n",
      "Hmm\n",
      "Hmm\n",
      "Hmm\n",
      "Hmm\n",
      "Hmm\n",
      "Hmm\n",
      "Hmm\n",
      "Hmm\n",
      "Hmm\n",
      "Hmm\n",
      "Hmm\n",
      "Hmm\n",
      "Hmm\n",
      "Hmm\n",
      "Hmm\n",
      "Hmm\n",
      "Hmm\n",
      "Hmm\n",
      "Hmm\n",
      "Hmm\n",
      "Hmm\n",
      "Hmm\n",
      "Hmm\n",
      "Hmm\n",
      "Hmm\n",
      "Hmm\n",
      "Hmm\n",
      "Hmm\n",
      "Hmm\n",
      "Hmm\n",
      "Hmm\n",
      "Hmm\n",
      "Hmm\n",
      "Hmm\n",
      "Hmm\n",
      "Hmm\n",
      "Hmm\n",
      "Hmm\n",
      "Hmm\n",
      "Hmm\n",
      "Hmm\n",
      "Hmm\n",
      "Hmm\n",
      "Hmm\n",
      "Hmm\n",
      "Hmm\n",
      "Hmm\n",
      "Hmm\n",
      "Hmm\n",
      "Hmm\n",
      "Hmm\n",
      "Hmm\n",
      "Hmm\n",
      "Hmm\n",
      "Hmm\n",
      "Hmm\n",
      "Hmm\n",
      "Hmm\n",
      "Hmm\n",
      "Hmm\n",
      "Hmm\n",
      "Hmm\n",
      "Hmm\n",
      "Hmm\n",
      "Hmm\n",
      "Hmm\n",
      "Hmm\n",
      "Hmm\n",
      "Hmm\n",
      "Hmm\n",
      "Hmm\n",
      "Hmm\n",
      "Hmm\n",
      "Hmm\n",
      "Hmm\n",
      "Hmm\n",
      "Hmm\n",
      "Hmm\n",
      "Hmm\n",
      "Hmm\n",
      "Hmm\n",
      "Hmm\n",
      "Hmm\n",
      "Hmm\n",
      "Hmm\n",
      "Hmm\n",
      "Hmm\n",
      "Hmm\n",
      "Hmm\n",
      "Hmm\n",
      "Hmm\n",
      "Hmm\n",
      "Hmm\n",
      "Hmm\n",
      "Hmm\n",
      "Hmm\n",
      "Hmm\n",
      "Hmm\n",
      "Hmm\n",
      "Hmm\n",
      "Hmm\n",
      "Hmm\n",
      "Hmm\n",
      "Hmm\n",
      "Hmm\n",
      "Hmm\n",
      "Hmm\n",
      "Hmm\n",
      "Hmm\n",
      "Hmm\n",
      "Hmm\n",
      "Hmm\n",
      "Hmm\n",
      "Hmm\n",
      "Hmm\n",
      "Hmm\n",
      "Hmm\n",
      "Hmm\n",
      "Hmm\n",
      "Hmm\n",
      "Hmm\n",
      "Hmm\n",
      "Hmm\n",
      "Hmm\n",
      "Hmm\n",
      "Hmm\n",
      "Hmm\n",
      "Hmm\n",
      "Hmm\n",
      "Hmm\n",
      "Hmm\n",
      "Hmm\n",
      "Hmm\n",
      "Hmm\n",
      "Hmm\n",
      "Hmm\n",
      "Hmm\n",
      "Hmm\n",
      "Hmm\n",
      "Hmm\n",
      "Hmm\n",
      "Hmm\n",
      "Hmm\n",
      "Hmm\n",
      "Hmm\n",
      "Hmm\n",
      "Hmm\n",
      "Hmm\n",
      "Hmm\n",
      "Hmm\n",
      "Hmm\n",
      "Hmm\n",
      "Hmm\n",
      "Hmm\n",
      "Hmm\n",
      "Hmm\n",
      "Hmm\n",
      "Hmm\n",
      "Hmm\n",
      "Hmm\n",
      "Hmm\n",
      "Hmm\n",
      "Hmm\n",
      "Hmm\n",
      "Hmm\n",
      "Hmm\n",
      "Hmm\n",
      "Hmm\n",
      "Hmm\n",
      "Hmm\n",
      "Hmm\n",
      "Hmm\n",
      "Hmm\n",
      "Hmm\n",
      "Hmm\n",
      "Hmm\n",
      "Hmm\n",
      "Hmm\n",
      "Hmm\n",
      "Hmm\n",
      "Hmm\n",
      "Hmm\n",
      "Hmm\n",
      "Hmm\n",
      "Hmm\n",
      "Hmm\n",
      "Hmm\n",
      "Hmm\n",
      "Hmm\n",
      "Hmm\n",
      "Hmm\n",
      "Hmm\n",
      "Hmm\n",
      "Hmm\n",
      "Hmm\n",
      "Hmm\n",
      "Hmm\n",
      "Hmm\n",
      "Hmm\n",
      "Hmm\n",
      "Hmm\n",
      "Hmm\n",
      "Hmm\n",
      "Hmm\n",
      "Hmm\n",
      "Hmm\n",
      "Hmm\n",
      "Hmm\n",
      "Hmm\n",
      "Hmm\n",
      "Hmm\n",
      "Hmm\n",
      "Hmm\n",
      "Hmm\n",
      "Hmm\n",
      "Hmm\n",
      "Hmm\n",
      "Hmm\n",
      "Hmm\n",
      "Hmm\n",
      "Hmm\n",
      "Hmm\n",
      "Hmm\n",
      "Hmm\n",
      "Hmm\n",
      "Hmm\n",
      "Hmm\n",
      "Hmm\n",
      "Hmm\n",
      "Hmm\n",
      "Hmm\n",
      "Hmm\n",
      "Hmm\n",
      "Hmm\n",
      "Hmm\n",
      "Hmm\n",
      "Hmm\n",
      "Hmm\n",
      "Hmm\n",
      "Hmm\n",
      "Hmm\n",
      "Hmm\n",
      "Hmm\n",
      "Hmm\n",
      "Hmm\n",
      "Hmm\n",
      "Hmm\n",
      "Hmm\n",
      "Hmm\n",
      "Hmm\n",
      "Hmm\n",
      "Hmm\n",
      "Hmm\n",
      "Hmm\n",
      "Hmm\n",
      "Hmm\n",
      "Hmm\n",
      "Hmm\n",
      "Hmm\n",
      "Hmm\n",
      "Hmm\n",
      "Hmm\n",
      "Hmm\n",
      "Hmm\n",
      "Hmm\n",
      "Hmm\n",
      "Hmm\n",
      "Hmm\n",
      "Hmm\n",
      "Hmm\n",
      "Hmm\n",
      "Hmm\n",
      "Hmm\n",
      "Hmm\n",
      "Hmm\n",
      "Hmm\n",
      "Hmm\n",
      "Hmm\n",
      "Hmm\n",
      "Hmm\n",
      "Hmm\n",
      "Hmm\n",
      "Hmm\n",
      "Hmm\n",
      "Hmm\n",
      "Hmm\n",
      "Hmm\n",
      "Hmm\n",
      "Hmm\n",
      "Hmm\n",
      "Hmm\n",
      "Hmm\n",
      "Hmm\n",
      "Hmm\n",
      "Hmm\n",
      "Hmm\n",
      "Hmm\n",
      "Hmm\n",
      "Hmm\n",
      "Hmm\n",
      "Hmm\n",
      "Hmm\n",
      "Hmm\n",
      "Hmm\n",
      "Hmm\n",
      "Hmm\n",
      "Hmm\n",
      "Hmm\n",
      "Hmm\n",
      "Hmm\n",
      "Hmm\n",
      "Hmm\n",
      "Hmm\n",
      "Hmm\n",
      "Hmm\n",
      "Hmm\n",
      "Hmm\n",
      "Hmm\n",
      "Hmm\n",
      "Hmm\n",
      "Hmm\n",
      "Hmm\n",
      "Hmm\n",
      "Hmm\n",
      "Hmm\n",
      "Hmm\n",
      "Hmm\n",
      "Hmm\n",
      "Hmm\n",
      "Hmm\n",
      "Hmm\n",
      "Hmm\n",
      "Hmm\n",
      "Hmm\n",
      "Hmm\n",
      "Hmm\n",
      "Hmm\n",
      "Hmm\n",
      "Hmm\n",
      "Hmm\n",
      "Hmm\n",
      "Hmm\n",
      "Hmm\n",
      "Hmm\n",
      "Hmm\n",
      "Hmm\n",
      "Hmm\n",
      "Hmm\n",
      "Hmm\n",
      "Hmm\n",
      "Hmm\n",
      "Hmm\n",
      "Hmm\n",
      "Hmm\n",
      "Hmm\n",
      "Hmm\n",
      "Hmm\n",
      "Hmm\n",
      "Hmm\n",
      "Hmm\n",
      "Hmm\n",
      "Hmm\n",
      "Hmm\n",
      "Hmm\n",
      "Hmm\n",
      "Hmm\n",
      "Hmm\n",
      "Hmm\n",
      "Hmm\n",
      "Hmm\n",
      "Hmm\n",
      "Hmm\n",
      "Hmm\n",
      "Hmm\n",
      "Hmm\n",
      "Hmm\n",
      "Hmm\n",
      "Hmm\n",
      "Hmm\n",
      "Hmm\n",
      "Hmm\n",
      "Hmm\n",
      "Hmm\n",
      "Hmm\n",
      "Hmm\n",
      "Hmm\n",
      "Hmm\n",
      "Hmm\n",
      "Hmm\n",
      "Hmm\n",
      "Hmm\n",
      "Hmm\n",
      "Hmm\n",
      "Hmm\n",
      "Hmm\n",
      "Hmm\n",
      "Hmm\n",
      "Hmm\n",
      "Hmm\n",
      "Hmm\n",
      "Hmm\n",
      "Hmm\n",
      "Hmm\n",
      "Hmm\n",
      "Hmm\n",
      "Hmm\n",
      "Hmm\n",
      "Hmm\n",
      "Hmm\n",
      "Hmm\n",
      "Hmm\n",
      "Hmm\n",
      "Hmm\n",
      "Hmm\n",
      "Hmm\n",
      "Hmm\n",
      "Hmm\n",
      "Hmm\n",
      "Hmm\n",
      "Hmm\n",
      "Hmm\n",
      "Hmm\n",
      "Hmm\n",
      "Hmm\n",
      "Hmm\n",
      "Hmm\n",
      "Hmm\n",
      "Hmm\n",
      "Hmm\n",
      "Hmm\n",
      "Hmm\n",
      "Hmm\n",
      "Hmm\n",
      "Hmm\n",
      "Hmm\n",
      "Hmm\n",
      "Hmm\n",
      "Hmm\n",
      "Hmm\n",
      "Hmm\n",
      "Hmm\n",
      "Hmm\n",
      "Hmm\n",
      "Hmm\n",
      "Hmm\n",
      "Hmm\n",
      "Hmm\n",
      "Hmm\n",
      "Hmm\n",
      "Hmm\n",
      "Hmm\n",
      "Hmm\n",
      "Hmm\n",
      "Hmm\n",
      "Hmm\n",
      "Hmm\n",
      "Hmm\n",
      "Hmm\n",
      "Hmm\n",
      "Hmm\n",
      "Hmm\n",
      "Hmm\n",
      "Hmm\n",
      "Hmm\n",
      "Hmm\n",
      "Hmm\n",
      "Hmm\n",
      "Hmm\n",
      "Hmm\n",
      "Hmm\n",
      "Hmm\n",
      "Hmm\n",
      "Hmm\n",
      "Hmm\n",
      "Hmm\n",
      "Hmm\n",
      "Hmm\n",
      "Hmm\n",
      "Hmm\n",
      "Hmm\n",
      "Hmm\n",
      "Hmm\n",
      "Hmm\n",
      "Hmm\n",
      "Hmm\n",
      "Hmm\n",
      "Hmm\n",
      "Hmm\n",
      "Hmm\n",
      "Hmm\n",
      "Hmm\n",
      "Hmm\n",
      "Hmm\n",
      "Hmm\n",
      "Hmm\n",
      "Hmm\n",
      "Hmm\n",
      "Hmm\n",
      "Hmm\n",
      "Hmm\n",
      "Hmm\n",
      "Hmm\n",
      "Hmm\n",
      "Hmm\n",
      "Hmm\n",
      "Hmm\n",
      "Hmm\n",
      "Hmm\n",
      "Hmm\n",
      "Hmm\n",
      "Hmm\n",
      "Hmm\n",
      "Hmm\n",
      "Hmm\n",
      "Hmm\n",
      "Hmm\n",
      "Hmm\n",
      "Hmm\n",
      "Hmm\n",
      "Hmm\n",
      "Hmm\n",
      "Hmm\n",
      "Hmm\n",
      "Hmm\n",
      "Hmm\n",
      "Hmm\n",
      "Hmm\n",
      "Hmm\n",
      "Hmm\n",
      "Hmm\n",
      "Hmm\n",
      "Hmm\n",
      "Hmm\n",
      "Hmm\n",
      "Hmm\n",
      "Hmm\n",
      "Hmm\n",
      "Hmm\n",
      "Hmm\n",
      "Hmm\n",
      "Hmm\n",
      "Hmm\n",
      "Hmm\n",
      "Hmm\n",
      "Hmm\n",
      "Hmm\n",
      "Hmm\n",
      "Hmm\n",
      "Hmm\n",
      "Hmm\n",
      "Hmm\n",
      "Hmm\n",
      "Hmm\n",
      "Hmm\n",
      "Hmm\n",
      "Hmm\n",
      "Hmm\n",
      "Hmm\n",
      "Hmm\n",
      "Hmm\n",
      "Hmm\n",
      "Hmm\n",
      "Hmm\n",
      "Hmm\n",
      "Hmm\n",
      "Hmm\n",
      "Hmm\n",
      "Hmm\n",
      "Hmm\n",
      "Hmm\n",
      "Hmm\n",
      "Hmm\n",
      "Hmm\n",
      "Hmm\n",
      "Hmm\n",
      "Hmm\n",
      "Hmm\n",
      "Hmm\n",
      "Hmm\n",
      "Hmm\n",
      "Hmm\n",
      "Hmm\n",
      "Hmm\n",
      "Hmm\n",
      "Hmm\n",
      "Hmm\n",
      "Hmm\n",
      "Hmm\n",
      "Hmm\n",
      "Hmm\n",
      "Hmm\n",
      "Hmm\n",
      "Hmm\n",
      "Hmm\n",
      "Hmm\n",
      "Hmm\n",
      "Hmm\n",
      "Hmm\n",
      "Hmm\n",
      "Hmm\n",
      "Hmm\n",
      "Hmm\n",
      "Hmm\n",
      "Hmm\n",
      "Hmm\n",
      "Hmm\n",
      "Hmm\n",
      "Hmm\n",
      "Hmm\n",
      "Hmm\n",
      "Hmm\n",
      "Hmm\n",
      "Hmm\n",
      "Hmm\n",
      "Hmm\n",
      "Hmm\n",
      "Hmm\n",
      "Hmm\n",
      "Hmm\n",
      "Hmm\n",
      "Hmm\n",
      "Hmm\n",
      "Hmm\n",
      "Hmm\n",
      "Hmm\n",
      "Hmm\n",
      "Hmm\n",
      "Hmm\n",
      "Hmm\n",
      "Hmm\n",
      "Hmm\n",
      "Hmm\n",
      "Hmm\n",
      "Hmm\n",
      "Hmm\n",
      "Hmm\n",
      "Hmm\n",
      "Hmm\n",
      "Hmm\n",
      "Hmm\n",
      "Hmm\n",
      "Hmm\n",
      "Hmm\n",
      "Hmm\n",
      "Hmm\n",
      "Hmm\n",
      "Hmm\n",
      "Hmm\n",
      "Hmm\n",
      "Hmm\n",
      "Hmm\n",
      "Hmm\n",
      "Hmm\n",
      "Hmm\n",
      "Hmm\n",
      "Hmm\n",
      "Hmm\n",
      "Hmm\n",
      "Hmm\n",
      "Hmm\n",
      "Hmm\n",
      "Hmm\n",
      "Hmm\n",
      "Hmm\n",
      "Hmm\n",
      "Hmm\n",
      "Hmm\n",
      "Hmm\n",
      "Hmm\n",
      "Hmm\n",
      "Hmm\n",
      "Hmm\n",
      "Hmm\n",
      "Hmm\n",
      "Hmm\n",
      "Hmm\n",
      "Hmm\n",
      "Hmm\n",
      "Hmm\n",
      "Hmm\n",
      "Hmm\n",
      "Hmm\n",
      "Hmm\n",
      "Hmm\n",
      "Hmm\n",
      "Hmm\n",
      "Hmm\n",
      "Hmm\n",
      "Hmm\n",
      "Hmm\n",
      "Hmm\n",
      "Hmm\n",
      "Hmm\n",
      "Hmm\n",
      "Hmm\n",
      "Hmm\n",
      "Hmm\n",
      "Hmm\n",
      "Hmm\n",
      "Hmm\n",
      "Hmm\n",
      "Hmm\n",
      "Hmm\n",
      "Hmm\n",
      "Hmm\n",
      "Hmm\n",
      "Hmm\n",
      "Hmm\n",
      "Hmm\n",
      "Hmm\n",
      "Hmm\n",
      "Hmm\n",
      "Hmm\n",
      "Hmm\n",
      "Hmm\n",
      "Hmm\n",
      "Hmm\n",
      "Hmm\n",
      "Hmm\n",
      "Hmm\n",
      "Hmm\n",
      "Hmm\n",
      "Hmm\n",
      "Hmm\n",
      "Hmm\n",
      "Hmm\n",
      "Hmm\n",
      "Hmm\n",
      "Hmm\n",
      "Hmm\n",
      "Hmm\n",
      "Hmm\n",
      "Hmm\n",
      "Hmm\n",
      "Hmm\n",
      "Hmm\n",
      "Hmm\n",
      "Hmm\n",
      "Hmm\n",
      "Hmm\n",
      "Hmm\n",
      "Hmm\n",
      "Hmm\n",
      "Hmm\n",
      "Hmm\n",
      "Hmm\n",
      "Hmm\n",
      "Hmm\n",
      "Hmm\n",
      "Hmm\n",
      "Hmm\n",
      "Hmm\n",
      "Hmm\n",
      "Hmm\n",
      "Hmm\n",
      "Hmm\n",
      "Hmm\n",
      "Hmm\n",
      "Hmm\n",
      "Hmm\n",
      "Hmm\n",
      "Hmm\n",
      "Hmm\n",
      "Hmm\n",
      "Hmm\n",
      "Hmm\n",
      "Hmm\n",
      "Hmm\n",
      "Hmm\n",
      "Hmm\n",
      "Hmm\n",
      "Hmm\n",
      "Hmm\n",
      "Hmm\n",
      "Hmm\n",
      "Hmm\n",
      "Hmm\n",
      "Hmm\n",
      "Hmm\n",
      "Hmm\n",
      "Hmm\n",
      "Hmm\n",
      "Hmm\n",
      "Hmm\n",
      "Hmm\n",
      "Hmm\n",
      "Hmm\n",
      "Hmm\n",
      "Hmm\n",
      "Hmm\n",
      "Hmm\n",
      "Hmm\n",
      "Hmm\n",
      "Hmm\n",
      "Hmm\n",
      "Hmm\n",
      "Hmm\n",
      "Hmm\n",
      "Hmm\n",
      "Hmm\n",
      "Hmm\n",
      "Hmm\n",
      "Hmm\n",
      "Hmm\n",
      "Hmm\n",
      "Hmm\n",
      "Hmm\n",
      "Hmm\n",
      "Hmm\n",
      "Hmm\n",
      "Hmm\n",
      "Hmm\n",
      "Hmm\n",
      "Hmm\n",
      "Hmm\n",
      "Hmm\n",
      "Hmm\n",
      "Hmm\n",
      "Hmm\n",
      "Hmm\n",
      "Hmm\n",
      "Hmm\n",
      "Hmm\n",
      "Hmm\n",
      "Hmm\n",
      "Hmm\n",
      "Hmm\n",
      "Hmm\n",
      "Hmm\n",
      "Hmm\n",
      "Hmm\n",
      "Hmm\n",
      "Hmm\n",
      "Hmm\n",
      "Hmm\n",
      "Hmm\n",
      "Hmm\n",
      "Hmm\n",
      "Hmm\n",
      "Hmm\n",
      "Hmm\n",
      "Hmm\n",
      "Hmm\n",
      "Hmm\n",
      "Hmm\n",
      "Hmm\n",
      "Hmm\n",
      "Hmm\n",
      "Hmm\n",
      "Hmm\n",
      "Hmm\n",
      "Hmm\n",
      "Hmm\n",
      "Hmm\n",
      "Hmm\n",
      "Hmm\n",
      "Hmm\n",
      "Hmm\n",
      "Hmm\n",
      "Hmm\n",
      "Hmm\n",
      "Hmm\n",
      "Hmm\n",
      "Hmm\n",
      "Hmm\n",
      "Hmm\n",
      "Hmm\n",
      "Hmm\n",
      "Hmm\n",
      "Hmm\n",
      "Hmm\n",
      "Hmm\n",
      "Hmm\n",
      "Hmm\n",
      "Hmm\n",
      "Hmm\n",
      "Hmm\n",
      "Hmm\n",
      "Hmm\n",
      "Hmm\n",
      "Hmm\n",
      "Hmm\n",
      "Hmm\n",
      "Hmm\n",
      "Hmm\n",
      "Hmm\n",
      "Hmm\n",
      "Hmm\n",
      "Hmm\n",
      "Hmm\n",
      "Hmm\n",
      "Hmm\n",
      "Hmm\n",
      "Hmm\n",
      "Hmm\n",
      "Hmm\n",
      "Hmm\n",
      "Hmm\n",
      "Hmm\n",
      "Hmm\n",
      "Hmm\n",
      "Hmm\n",
      "Hmm\n",
      "Hmm\n",
      "Hmm\n",
      "Hmm\n",
      "Hmm\n",
      "Hmm\n",
      "Hmm\n",
      "Hmm\n",
      "Hmm\n",
      "Hmm\n",
      "Hmm\n",
      "Hmm\n",
      "Hmm\n",
      "Hmm\n",
      "Hmm\n",
      "Hmm\n",
      "Hmm\n",
      "Hmm\n",
      "Hmm\n",
      "Hmm\n",
      "Hmm\n",
      "Hmm\n",
      "Hmm\n",
      "Hmm\n",
      "Hmm\n",
      "Hmm\n",
      "Hmm\n",
      "Hmm\n",
      "Hmm\n",
      "Hmm\n",
      "Hmm\n",
      "Hmm\n",
      "Hmm\n",
      "Hmm\n",
      "Hmm\n",
      "Hmm\n",
      "Hmm\n",
      "Hmm\n",
      "Hmm\n",
      "Hmm\n",
      "Hmm\n",
      "Hmm\n",
      "Hmm\n",
      "Hmm\n",
      "Hmm\n",
      "Hmm\n",
      "Hmm\n",
      "Hmm\n",
      "Hmm\n",
      "Hmm\n",
      "Hmm\n",
      "Hmm\n",
      "Hmm\n",
      "Hmm\n",
      "Hmm\n",
      "Hmm\n",
      "Hmm\n",
      "Hmm\n",
      "Hmm\n",
      "Hmm\n",
      "Hmm\n",
      "Hmm\n",
      "Hmm\n",
      "Hmm\n",
      "Hmm\n",
      "Hmm\n",
      "Hmm\n",
      "Hmm\n",
      "Hmm\n",
      "Hmm\n",
      "Hmm\n",
      "Hmm\n",
      "Hmm\n",
      "Hmm\n",
      "Hmm\n",
      "Hmm\n",
      "Hmm\n",
      "Hmm\n",
      "Hmm\n",
      "Hmm\n",
      "Hmm\n",
      "Hmm\n",
      "Hmm\n",
      "Hmm\n",
      "Hmm\n",
      "Hmm\n",
      "Hmm\n",
      "Hmm\n",
      "Hmm\n",
      "Hmm\n",
      "Hmm\n",
      "Hmm\n",
      "Hmm\n",
      "Hmm\n",
      "Hmm\n",
      "Hmm\n",
      "Hmm\n",
      "Hmm\n",
      "Hmm\n",
      "Hmm\n",
      "Hmm\n",
      "Hmm\n",
      "Hmm\n",
      "Hmm\n",
      "Hmm\n",
      "Hmm\n",
      "Hmm\n",
      "Hmm\n",
      "Hmm\n",
      "Hmm\n",
      "Hmm\n",
      "Hmm\n",
      "Hmm\n",
      "Hmm\n",
      "Hmm\n",
      "Hmm\n",
      "Hmm\n",
      "Hmm\n",
      "Hmm\n",
      "Hmm\n",
      "Hmm\n",
      "Hmm\n",
      "Hmm\n",
      "Hmm\n",
      "Hmm\n",
      "Hmm\n",
      "Hmm\n",
      "Hmm\n",
      "Hmm\n",
      "Hmm\n",
      "Hmm\n",
      "Hmm\n",
      "Hmm\n",
      "Hmm\n",
      "Hmm\n",
      "Hmm\n",
      "Hmm\n",
      "Hmm\n",
      "Hmm\n",
      "Hmm\n",
      "Hmm\n",
      "Hmm\n",
      "Hmm\n",
      "Hmm\n",
      "Hmm\n",
      "Hmm\n",
      "Hmm\n",
      "Hmm\n",
      "Hmm\n",
      "Hmm\n",
      "Hmm\n",
      "Hmm\n",
      "Hmm\n",
      "Hmm\n",
      "Hmm\n",
      "Hmm\n",
      "Hmm\n",
      "Hmm\n",
      "Hmm\n",
      "Hmm\n",
      "Hmm\n",
      "Hmm\n",
      "Hmm\n",
      "Hmm\n",
      "Hmm\n",
      "Hmm\n",
      "Hmm\n",
      "Hmm\n",
      "Hmm\n",
      "Hmm\n",
      "Hmm\n",
      "Hmm\n",
      "Hmm\n",
      "Hmm\n",
      "Hmm\n",
      "Hmm\n",
      "Hmm\n",
      "Hmm\n",
      "Hmm\n",
      "Hmm\n",
      "Hmm\n",
      "Hmm\n",
      "Hmm\n",
      "Hmm\n",
      "Hmm\n",
      "Hmm\n",
      "Hmm\n",
      "Hmm\n",
      "Hmm\n",
      "Hmm\n",
      "Hmm\n",
      "Hmm\n",
      "Hmm\n",
      "Hmm\n",
      "Hmm\n",
      "Hmm\n",
      "Hmm\n",
      "Hmm\n",
      "Hmm\n",
      "Hmm\n",
      "Hmm\n",
      "Hmm\n",
      "Hmm\n",
      "Hmm\n",
      "Hmm\n",
      "Hmm\n",
      "Hmm\n",
      "Hmm\n",
      "Hmm\n",
      "Hmm\n",
      "Hmm\n",
      "Hmm\n",
      "Hmm\n",
      "Hmm\n",
      "Hmm\n",
      "Hmm\n",
      "Hmm\n",
      "Hmm\n",
      "Hmm\n",
      "Hmm\n",
      "Hmm\n",
      "Hmm\n",
      "Hmm\n",
      "Hmm\n",
      "Hmm\n",
      "Hmm\n",
      "Hmm\n",
      "Hmm\n",
      "Hmm\n",
      "Hmm\n",
      "Hmm\n",
      "Hmm\n",
      "Hmm\n",
      "Hmm\n",
      "Hmm\n",
      "Hmm\n",
      "Hmm\n",
      "Hmm\n",
      "Hmm\n",
      "Hmm\n",
      "Hmm\n",
      "Hmm\n",
      "Hmm\n",
      "Hmm\n",
      "Hmm\n",
      "Hmm\n",
      "Hmm\n",
      "Hmm\n",
      "Hmm\n",
      "Hmm\n",
      "Hmm\n",
      "Hmm\n",
      "Hmm\n",
      "Hmm\n",
      "Hmm\n",
      "Hmm\n",
      "Hmm\n",
      "Hmm\n",
      "Hmm\n",
      "Hmm\n",
      "Hmm\n",
      "Hmm\n",
      "Hmm\n",
      "Hmm\n",
      "Hmm\n",
      "Hmm\n",
      "Hmm\n",
      "Hmm\n",
      "Hmm\n",
      "Hmm\n",
      "Hmm\n",
      "Hmm\n",
      "Hmm\n",
      "Hmm\n",
      "Hmm\n",
      "Hmm\n",
      "Hmm\n",
      "Hmm\n",
      "Hmm\n",
      "Hmm\n",
      "Hmm\n",
      "Hmm\n",
      "Hmm\n",
      "Hmm\n",
      "Hmm\n",
      "Hmm\n",
      "Hmm\n",
      "Hmm\n",
      "Hmm\n",
      "Hmm\n",
      "Hmm\n",
      "Hmm\n",
      "Hmm\n",
      "Hmm\n",
      "Hmm\n",
      "Hmm\n",
      "Hmm\n",
      "Hmm\n",
      "Hmm\n",
      "Hmm\n",
      "Hmm\n",
      "Hmm\n",
      "Hmm\n",
      "Hmm\n",
      "Hmm\n",
      "Hmm\n",
      "Hmm\n",
      "Hmm\n",
      "Hmm\n",
      "Hmm\n",
      "Hmm\n",
      "Hmm\n",
      "Hmm\n",
      "Hmm\n",
      "Hmm\n",
      "Hmm\n",
      "Hmm\n",
      "Hmm\n",
      "Hmm\n",
      "Hmm\n",
      "Hmm\n",
      "Hmm\n",
      "Hmm\n",
      "Hmm\n",
      "Hmm\n",
      "Hmm\n",
      "Hmm\n",
      "Hmm\n",
      "Hmm\n",
      "Hmm\n",
      "Hmm\n",
      "Hmm\n",
      "Hmm\n",
      "Hmm\n",
      "Hmm\n",
      "Hmm\n",
      "Hmm\n",
      "Hmm\n",
      "Hmm\n",
      "Hmm\n",
      "Hmm\n",
      "Hmm\n",
      "Hmm\n",
      "Hmm\n",
      "Hmm\n",
      "Hmm\n",
      "Hmm\n",
      "Hmm\n",
      "Hmm\n",
      "Hmm\n",
      "Hmm\n",
      "Hmm\n",
      "Hmm\n",
      "Hmm\n",
      "Hmm\n",
      "Hmm\n",
      "Hmm\n",
      "Hmm\n",
      "Hmm\n",
      "Hmm\n",
      "Hmm\n",
      "Hmm\n",
      "Hmm\n",
      "Hmm\n",
      "Hmm\n",
      "Hmm\n",
      "Hmm\n",
      "Hmm\n",
      "Hmm\n",
      "Hmm\n",
      "Hmm\n",
      "Hmm\n",
      "Hmm\n",
      "Hmm\n",
      "Hmm\n",
      "Hmm\n",
      "Hmm\n",
      "Hmm\n",
      "Hmm\n",
      "Hmm\n",
      "Hmm\n",
      "Hmm\n",
      "Hmm\n",
      "Hmm\n",
      "Hmm\n",
      "Hmm\n",
      "Hmm\n",
      "Hmm\n",
      "Hmm\n",
      "Hmm\n",
      "Hmm\n",
      "Hmm\n",
      "Hmm\n",
      "Hmm\n",
      "Hmm\n",
      "Hmm\n",
      "Hmm\n",
      "Hmm\n",
      "Hmm\n",
      "Hmm\n",
      "Hmm\n",
      "Hmm\n",
      "Hmm\n",
      "Hmm\n",
      "Hmm\n",
      "Hmm\n",
      "Hmm\n",
      "Hmm\n",
      "Hmm\n",
      "Hmm\n",
      "Hmm\n",
      "Hmm\n",
      "Hmm\n",
      "Hmm\n",
      "Hmm\n",
      "Hmm\n",
      "Hmm\n",
      "Hmm\n",
      "Hmm\n",
      "Hmm\n",
      "Hmm\n",
      "Hmm\n",
      "Hmm\n",
      "Hmm\n",
      "Hmm\n",
      "Hmm\n",
      "Hmm\n",
      "Hmm\n",
      "Hmm\n",
      "Hmm\n",
      "Hmm\n",
      "Hmm\n",
      "Hmm\n",
      "Hmm\n",
      "Hmm\n",
      "Hmm\n",
      "Hmm\n",
      "Hmm\n",
      "Hmm\n",
      "Hmm\n",
      "Hmm\n",
      "Hmm\n",
      "Hmm\n",
      "Hmm\n",
      "Hmm\n",
      "Hmm\n",
      "Hmm\n",
      "Hmm\n",
      "Hmm\n",
      "Hmm\n",
      "Hmm\n",
      "Hmm\n",
      "Hmm\n",
      "Hmm\n",
      "Hmm\n",
      "Hmm\n",
      "Hmm\n",
      "Hmm\n",
      "Hmm\n",
      "Hmm\n",
      "Hmm\n",
      "Hmm\n",
      "Hmm\n",
      "Hmm\n",
      "Hmm\n",
      "Hmm\n",
      "Hmm\n",
      "Hmm\n",
      "Hmm\n",
      "Hmm\n",
      "Hmm\n",
      "Hmm\n",
      "Hmm\n",
      "Hmm\n",
      "Hmm\n",
      "Hmm\n",
      "Hmm\n",
      "Hmm\n",
      "Hmm\n",
      "Hmm\n",
      "Hmm\n",
      "Hmm\n",
      "Hmm\n",
      "Hmm\n",
      "Hmm\n",
      "Hmm\n",
      "Hmm\n",
      "Hmm\n",
      "Hmm\n",
      "Hmm\n",
      "Hmm\n",
      "Hmm\n",
      "Hmm\n",
      "Hmm\n",
      "Hmm\n",
      "Hmm\n",
      "Hmm\n",
      "Hmm\n",
      "Hmm\n",
      "Hmm\n",
      "Hmm\n",
      "Hmm\n",
      "Hmm\n",
      "Hmm\n",
      "Hmm\n",
      "Hmm\n",
      "Hmm\n",
      "Hmm\n",
      "Hmm\n",
      "Hmm\n",
      "Hmm\n",
      "Hmm\n",
      "Hmm\n",
      "Hmm\n",
      "Hmm\n",
      "Hmm\n",
      "Hmm\n",
      "Hmm\n",
      "Hmm\n",
      "Hmm\n",
      "Hmm\n",
      "Hmm\n",
      "Hmm\n",
      "Hmm\n",
      "Hmm\n",
      "Hmm\n",
      "Hmm\n",
      "Hmm\n",
      "Hmm\n",
      "Hmm\n",
      "Hmm\n",
      "Hmm\n",
      "Hmm\n",
      "Hmm\n",
      "Hmm\n",
      "Hmm\n",
      "Hmm\n",
      "Hmm\n",
      "Hmm\n",
      "Hmm\n",
      "Hmm\n",
      "Hmm\n",
      "Hmm\n",
      "Hmm\n",
      "Hmm\n",
      "Hmm\n",
      "Hmm\n",
      "Hmm\n",
      "Hmm\n",
      "Hmm\n",
      "Hmm\n",
      "Hmm\n",
      "Hmm\n",
      "Hmm\n",
      "Hmm\n",
      "Hmm\n",
      "Hmm\n",
      "Hmm\n",
      "Hmm\n",
      "Hmm\n",
      "Hmm\n",
      "Hmm\n",
      "Hmm\n",
      "Hmm\n",
      "Hmm\n",
      "Hmm\n",
      "Hmm\n",
      "Hmm\n",
      "Hmm\n",
      "Hmm\n",
      "Hmm\n",
      "Hmm\n",
      "Hmm\n",
      "Hmm\n",
      "Hmm\n",
      "Hmm\n",
      "Hmm\n",
      "Hmm\n",
      "Hmm\n",
      "Hmm\n",
      "Hmm\n",
      "Hmm\n",
      "Hmm\n",
      "Hmm\n",
      "Hmm\n",
      "Hmm\n",
      "Hmm\n",
      "Hmm\n",
      "Hmm\n",
      "Hmm\n",
      "Hmm\n",
      "Hmm\n",
      "Hmm\n",
      "Hmm\n",
      "Hmm\n",
      "Hmm\n",
      "Hmm\n",
      "Hmm\n",
      "Hmm\n",
      "Hmm\n",
      "Hmm\n",
      "Hmm\n",
      "Hmm\n",
      "Hmm\n",
      "Hmm\n",
      "Hmm\n",
      "Hmm\n",
      "Hmm\n",
      "Hmm\n",
      "Hmm\n",
      "Hmm\n",
      "Hmm\n",
      "Hmm\n",
      "Hmm\n",
      "Hmm\n",
      "Hmm\n",
      "Hmm\n",
      "Hmm\n",
      "Hmm\n",
      "Hmm\n",
      "Hmm\n",
      "Hmm\n",
      "Hmm\n",
      "Hmm\n",
      "Hmm\n",
      "Hmm\n",
      "Hmm\n",
      "Hmm\n",
      "Hmm\n",
      "Hmm\n",
      "Hmm\n",
      "Hmm\n",
      "Hmm\n",
      "Hmm\n",
      "Hmm\n",
      "Hmm\n",
      "Hmm\n",
      "Hmm\n",
      "Hmm\n",
      "Hmm\n",
      "Hmm\n",
      "Hmm\n",
      "Hmm\n",
      "Hmm\n",
      "Hmm\n",
      "Hmm\n",
      "Hmm\n",
      "Hmm\n",
      "Hmm\n",
      "Hmm\n",
      "Hmm\n",
      "Hmm\n",
      "Hmm\n",
      "Hmm\n",
      "Hmm\n",
      "Hmm\n",
      "Hmm\n",
      "Hmm\n",
      "Hmm\n",
      "Hmm\n",
      "Hmm\n",
      "Hmm\n",
      "Hmm\n",
      "Hmm\n",
      "Hmm\n",
      "Hmm\n",
      "Hmm\n",
      "Hmm\n",
      "Hmm\n",
      "Hmm\n",
      "Hmm\n",
      "Hmm\n",
      "Hmm\n",
      "Hmm\n",
      "Hmm\n",
      "Hmm\n",
      "Hmm\n",
      "Hmm\n",
      "Hmm\n",
      "Hmm\n",
      "Hmm\n",
      "Hmm\n",
      "Hmm\n",
      "Hmm\n",
      "Hmm\n",
      "Hmm\n",
      "Hmm\n",
      "Hmm\n",
      "Hmm\n",
      "Hmm\n",
      "Hmm\n",
      "Hmm\n",
      "Hmm\n",
      "Hmm\n",
      "Hmm\n",
      "Hmm\n",
      "Hmm\n",
      "Hmm\n",
      "Hmm\n",
      "Hmm\n",
      "Hmm\n",
      "Hmm\n",
      "Hmm\n",
      "Hmm\n",
      "Hmm\n",
      "Hmm\n",
      "Hmm\n",
      "Hmm\n",
      "Hmm\n",
      "Hmm\n",
      "Hmm\n",
      "Hmm\n",
      "Hmm\n",
      "Hmm\n",
      "Hmm\n",
      "Hmm\n",
      "Hmm\n",
      "Hmm\n",
      "Hmm\n",
      "Hmm\n",
      "Hmm\n",
      "Hmm\n",
      "Hmm\n",
      "Hmm\n",
      "Hmm\n",
      "Hmm\n",
      "Hmm\n",
      "Hmm\n",
      "Hmm\n",
      "Hmm\n",
      "Hmm\n",
      "Hmm\n",
      "Hmm\n",
      "Hmm\n",
      "Hmm\n",
      "Hmm\n",
      "Hmm\n",
      "Hmm\n",
      "Hmm\n",
      "Hmm\n",
      "Hmm\n",
      "Hmm\n",
      "Hmm\n",
      "Hmm\n",
      "Hmm\n",
      "Hmm\n",
      "Hmm\n",
      "Hmm\n",
      "Hmm\n",
      "Hmm\n",
      "Hmm\n",
      "Hmm\n",
      "Hmm\n",
      "Hmm\n",
      "Hmm\n",
      "Hmm\n",
      "Hmm\n",
      "Hmm\n",
      "Hmm\n",
      "Hmm\n",
      "Hmm\n",
      "Hmm\n",
      "Hmm\n",
      "Hmm\n",
      "Hmm\n",
      "Hmm\n",
      "Hmm\n",
      "Hmm\n",
      "Hmm\n",
      "Hmm\n",
      "Hmm\n",
      "Hmm\n",
      "Hmm\n",
      "Hmm\n",
      "Hmm\n",
      "Hmm\n",
      "Hmm\n",
      "Hmm\n",
      "Hmm\n",
      "Hmm\n",
      "Hmm\n",
      "Hmm\n",
      "Hmm\n",
      "Hmm\n",
      "Hmm\n",
      "Hmm\n",
      "Hmm\n",
      "Hmm\n",
      "Hmm\n",
      "Hmm\n",
      "Hmm\n",
      "Hmm\n",
      "Hmm\n",
      "Hmm\n",
      "Hmm\n",
      "Hmm\n",
      "Hmm\n",
      "Hmm\n",
      "Hmm\n",
      "Hmm\n",
      "Hmm\n",
      "Hmm\n",
      "Hmm\n",
      "Hmm\n",
      "Hmm\n",
      "Hmm\n",
      "Hmm\n",
      "Hmm\n",
      "Hmm\n",
      "Hmm\n",
      "Hmm\n",
      "Hmm\n",
      "Hmm\n",
      "Hmm\n",
      "Hmm\n",
      "Hmm\n",
      "Hmm\n",
      "Hmm\n",
      "Hmm\n",
      "Hmm\n",
      "Hmm\n",
      "Hmm\n",
      "Hmm\n",
      "Hmm\n",
      "Hmm\n",
      "Hmm\n",
      "Hmm\n",
      "Hmm\n",
      "Hmm\n",
      "Hmm\n",
      "Hmm\n",
      "Hmm\n",
      "Hmm\n",
      "Hmm\n",
      "Hmm\n",
      "Hmm\n",
      "Hmm\n",
      "Hmm\n",
      "Hmm\n",
      "Hmm\n",
      "Hmm\n",
      "Hmm\n",
      "Hmm\n",
      "Hmm\n",
      "Hmm\n",
      "Hmm\n",
      "Hmm\n",
      "Hmm\n",
      "Hmm\n",
      "Hmm\n",
      "Hmm\n",
      "Hmm\n",
      "Hmm\n",
      "Hmm\n",
      "Hmm\n",
      "Hmm\n",
      "Hmm\n",
      "Hmm\n",
      "Hmm\n",
      "Hmm\n",
      "Hmm\n",
      "Hmm\n",
      "Hmm\n",
      "Hmm\n",
      "Hmm\n",
      "Hmm\n",
      "Hmm\n",
      "Hmm\n",
      "Hmm\n",
      "Hmm\n",
      "Hmm\n",
      "Hmm\n",
      "Hmm\n",
      "Hmm\n",
      "Hmm\n",
      "Hmm\n",
      "Hmm\n",
      "Hmm\n",
      "Hmm\n",
      "Hmm\n",
      "Hmm\n",
      "Hmm\n",
      "Hmm\n",
      "Hmm\n",
      "Hmm\n",
      "Hmm\n",
      "Hmm\n",
      "Hmm\n",
      "Hmm\n",
      "Hmm\n",
      "Hmm\n",
      "Hmm\n",
      "Hmm\n",
      "Hmm\n",
      "Hmm\n",
      "Hmm\n",
      "Hmm\n",
      "Hmm\n",
      "Hmm\n",
      "Hmm\n",
      "Hmm\n",
      "Hmm\n",
      "Hmm\n",
      "Hmm\n",
      "Hmm\n",
      "Hmm\n",
      "Hmm\n",
      "Hmm\n",
      "Hmm\n",
      "Hmm\n",
      "Hmm\n",
      "Hmm\n",
      "Hmm\n",
      "Hmm\n",
      "Hmm\n",
      "Hmm\n",
      "Hmm\n",
      "Hmm\n",
      "Hmm\n",
      "Hmm\n",
      "Hmm\n",
      "Hmm\n",
      "Hmm\n",
      "Hmm\n",
      "Hmm\n",
      "Hmm\n",
      "Hmm\n",
      "Hmm\n",
      "Hmm\n",
      "Hmm\n",
      "Hmm\n",
      "Hmm\n",
      "Hmm\n",
      "Hmm\n",
      "Hmm\n",
      "Hmm\n",
      "Hmm\n",
      "Hmm\n",
      "Hmm\n",
      "Hmm\n",
      "Hmm\n",
      "Hmm\n",
      "Hmm\n",
      "Hmm\n",
      "Hmm\n",
      "Hmm\n",
      "Hmm\n",
      "Hmm\n",
      "Hmm\n",
      "Hmm\n",
      "Hmm\n",
      "Hmm\n",
      "Hmm\n",
      "Hmm\n",
      "Hmm\n",
      "Hmm\n",
      "Hmm\n",
      "Hmm\n",
      "Hmm\n",
      "Hmm\n",
      "Hmm\n",
      "Hmm\n",
      "Hmm\n",
      "Hmm\n",
      "Hmm\n",
      "Hmm\n",
      "Hmm\n",
      "Hmm\n",
      "Hmm\n",
      "Hmm\n",
      "Hmm\n",
      "Hmm\n",
      "Hmm\n",
      "Hmm\n",
      "Hmm\n",
      "Hmm\n",
      "Hmm\n",
      "Hmm\n",
      "Hmm\n",
      "Hmm\n",
      "Hmm\n",
      "Hmm\n",
      "Hmm\n",
      "Hmm\n",
      "Hmm\n",
      "Hmm\n",
      "Hmm\n",
      "Hmm\n",
      "Hmm\n",
      "Hmm\n",
      "Hmm\n",
      "Hmm\n",
      "Hmm\n",
      "Hmm\n",
      "Hmm\n",
      "Hmm\n",
      "Hmm\n",
      "Hmm\n",
      "Hmm\n",
      "Hmm\n",
      "Hmm\n",
      "Hmm\n",
      "Hmm\n",
      "Hmm\n",
      "Hmm\n",
      "Hmm\n",
      "Hmm\n",
      "Hmm\n",
      "Hmm\n",
      "Hmm\n",
      "Hmm\n",
      "Hmm\n",
      "Hmm\n",
      "Hmm\n",
      "Hmm\n",
      "Hmm\n",
      "Hmm\n",
      "Hmm\n",
      "Hmm\n",
      "Hmm\n",
      "Hmm\n",
      "Hmm\n",
      "Hmm\n",
      "Hmm\n",
      "Hmm\n",
      "Hmm\n",
      "Hmm\n",
      "Hmm\n",
      "Hmm\n",
      "Hmm\n",
      "Hmm\n",
      "Hmm\n",
      "Hmm\n",
      "Hmm\n",
      "Hmm\n",
      "Hmm\n",
      "Hmm\n",
      "Hmm\n",
      "Hmm\n",
      "Hmm\n",
      "Hmm\n",
      "Hmm\n",
      "Hmm\n",
      "Hmm\n",
      "Hmm\n",
      "Hmm\n",
      "Hmm\n",
      "Hmm\n",
      "Hmm\n",
      "Hmm\n",
      "Hmm\n",
      "Hmm\n",
      "Hmm\n",
      "Hmm\n",
      "Hmm\n",
      "Hmm\n",
      "Hmm\n",
      "Hmm\n",
      "Hmm\n",
      "Hmm\n",
      "Hmm\n",
      "Hmm\n",
      "Hmm\n",
      "Hmm\n",
      "Hmm\n",
      "Hmm\n",
      "Hmm\n",
      "Hmm\n",
      "Hmm\n",
      "Hmm\n",
      "Hmm\n",
      "Hmm\n",
      "Hmm\n",
      "Hmm\n",
      "Hmm\n",
      "Hmm\n",
      "Hmm\n",
      "Hmm\n",
      "Hmm\n",
      "Hmm\n",
      "Hmm\n",
      "Hmm\n",
      "Hmm\n",
      "Hmm\n",
      "Hmm\n",
      "Hmm\n",
      "Hmm\n",
      "Hmm\n",
      "Hmm\n",
      "Hmm\n",
      "Hmm\n",
      "Hmm\n",
      "Hmm\n",
      "Hmm\n",
      "Hmm\n",
      "Hmm\n",
      "Hmm\n",
      "Hmm\n",
      "Hmm\n",
      "Hmm\n",
      "Hmm\n",
      "Hmm\n",
      "Hmm\n",
      "Hmm\n",
      "Hmm\n",
      "Hmm\n",
      "Hmm\n",
      "Hmm\n",
      "Hmm\n",
      "Hmm\n",
      "Hmm\n",
      "Hmm\n",
      "Hmm\n",
      "Hmm\n",
      "Hmm\n",
      "Hmm\n",
      "Hmm\n",
      "Hmm\n",
      "Hmm\n",
      "Hmm\n",
      "Hmm\n",
      "Hmm\n",
      "Hmm\n",
      "Hmm\n",
      "Hmm\n",
      "Hmm\n",
      "Hmm\n",
      "Hmm\n",
      "Hmm\n",
      "Hmm\n",
      "Hmm\n",
      "Hmm\n",
      "Hmm\n",
      "Hmm\n",
      "Hmm\n",
      "Hmm\n",
      "Hmm\n",
      "Hmm\n",
      "Hmm\n",
      "Hmm\n",
      "Hmm\n",
      "Hmm\n",
      "Hmm\n",
      "Hmm\n",
      "Hmm\n",
      "Hmm\n",
      "Hmm\n",
      "Hmm\n",
      "Hmm\n",
      "Hmm\n",
      "Hmm\n",
      "Hmm\n",
      "Hmm\n",
      "Hmm\n",
      "Hmm\n",
      "Hmm\n",
      "Hmm\n",
      "Hmm\n",
      "Hmm\n",
      "Hmm\n",
      "Hmm\n",
      "Hmm\n",
      "Hmm\n",
      "Hmm\n",
      "Hmm\n",
      "Hmm\n",
      "Hmm\n",
      "Hmm\n",
      "Hmm\n",
      "Hmm\n",
      "Hmm\n",
      "Hmm\n",
      "Hmm\n",
      "Hmm\n",
      "Hmm\n",
      "Hmm\n",
      "Hmm\n",
      "Hmm\n",
      "Hmm\n",
      "Hmm\n",
      "Hmm\n",
      "Hmm\n",
      "Hmm\n",
      "Hmm\n",
      "Hmm\n",
      "Hmm\n",
      "Hmm\n",
      "Hmm\n",
      "Hmm\n",
      "Hmm\n",
      "Hmm\n",
      "Hmm\n",
      "Hmm\n",
      "Hmm\n",
      "Hmm\n",
      "Hmm\n",
      "Hmm\n",
      "Hmm\n",
      "Hmm\n",
      "Hmm\n",
      "Hmm\n",
      "Hmm\n",
      "Hmm\n",
      "Hmm\n",
      "Hmm\n",
      "Hmm\n",
      "Hmm\n",
      "Hmm\n",
      "Hmm\n",
      "Hmm\n",
      "Hmm\n",
      "Hmm\n",
      "Hmm\n",
      "Hmm\n",
      "Hmm\n",
      "Hmm\n",
      "Hmm\n",
      "Hmm\n",
      "Hmm\n",
      "Hmm\n",
      "Hmm\n",
      "Hmm\n",
      "Hmm\n",
      "Hmm\n",
      "Hmm\n",
      "Hmm\n",
      "Hmm\n",
      "Hmm\n",
      "Hmm\n",
      "Hmm\n",
      "Hmm\n",
      "Hmm\n",
      "Hmm\n",
      "Hmm\n",
      "Hmm\n",
      "Hmm\n",
      "Hmm\n",
      "Hmm\n",
      "Hmm\n",
      "Hmm\n",
      "Hmm\n",
      "Hmm\n",
      "Hmm\n",
      "Hmm\n",
      "Hmm\n",
      "Hmm\n",
      "Hmm\n",
      "Hmm\n",
      "Hmm\n",
      "Hmm\n",
      "Hmm\n",
      "Hmm\n",
      "Hmm\n",
      "Hmm\n",
      "Hmm\n",
      "Hmm\n",
      "Hmm\n",
      "Hmm\n",
      "Hmm\n",
      "Hmm\n",
      "Hmm\n",
      "Hmm\n",
      "Hmm\n",
      "Hmm\n",
      "Hmm\n",
      "Hmm\n",
      "Hmm\n",
      "Hmm\n",
      "Hmm\n",
      "Hmm\n",
      "Hmm\n",
      "Hmm\n",
      "Hmm\n",
      "Hmm\n",
      "Hmm\n",
      "Hmm\n",
      "Hmm\n",
      "Hmm\n",
      "Hmm\n",
      "Hmm\n",
      "Hmm\n",
      "Hmm\n",
      "Hmm\n",
      "Hmm\n",
      "Hmm\n",
      "Hmm\n",
      "Hmm\n",
      "Hmm\n",
      "Hmm\n",
      "Hmm\n",
      "Hmm\n",
      "Hmm\n",
      "Hmm\n",
      "Hmm\n",
      "Hmm\n",
      "Hmm\n",
      "Hmm\n",
      "Hmm\n",
      "Hmm\n",
      "Hmm\n",
      "Hmm\n",
      "Hmm\n",
      "Hmm\n",
      "Hmm\n",
      "Hmm\n",
      "Hmm\n",
      "Hmm\n",
      "Hmm\n",
      "Hmm\n",
      "Hmm\n",
      "Hmm\n",
      "Hmm\n",
      "Hmm\n",
      "Hmm\n",
      "Hmm\n",
      "Hmm\n",
      "Hmm\n",
      "Hmm\n",
      "Hmm\n",
      "Hmm\n",
      "Hmm\n",
      "Hmm\n",
      "Hmm\n",
      "Hmm\n",
      "Hmm\n",
      "Hmm\n",
      "Hmm\n",
      "Hmm\n",
      "Hmm\n",
      "Hmm\n",
      "Hmm\n",
      "Hmm\n",
      "Hmm\n",
      "Hmm\n",
      "Hmm\n",
      "Hmm\n",
      "Hmm\n",
      "Hmm\n",
      "Hmm\n",
      "Hmm\n",
      "Hmm\n",
      "Hmm\n",
      "Hmm\n",
      "Hmm\n",
      "Hmm\n",
      "Hmm\n",
      "Hmm\n",
      "Hmm\n",
      "Hmm\n",
      "Hmm\n",
      "Hmm\n",
      "Hmm\n",
      "Hmm\n",
      "Hmm\n",
      "Hmm\n",
      "Hmm\n",
      "Hmm\n",
      "Hmm\n",
      "Hmm\n",
      "Hmm\n",
      "Hmm\n",
      "Hmm\n",
      "Hmm\n",
      "Hmm\n",
      "Hmm\n",
      "Hmm\n",
      "Hmm\n",
      "Hmm\n",
      "Hmm\n",
      "Hmm\n",
      "Hmm\n",
      "Hmm\n",
      "Hmm\n",
      "Hmm\n",
      "Hmm\n",
      "Hmm\n",
      "Hmm\n",
      "Hmm\n",
      "Hmm\n",
      "Hmm\n",
      "Hmm\n",
      "Hmm\n",
      "Hmm\n",
      "Hmm\n",
      "Hmm\n",
      "Hmm\n",
      "Hmm\n",
      "Hmm\n",
      "Hmm\n",
      "Hmm\n",
      "Hmm\n",
      "Hmm\n",
      "Hmm\n",
      "Hmm\n",
      "Hmm\n",
      "Hmm\n",
      "Hmm\n",
      "Hmm\n",
      "Hmm\n",
      "Hmm\n",
      "Hmm\n",
      "Hmm\n",
      "Hmm\n",
      "Hmm\n",
      "Hmm\n",
      "Hmm\n",
      "Hmm\n",
      "Hmm\n",
      "Hmm\n",
      "Hmm\n",
      "Hmm\n",
      "Hmm\n",
      "Hmm\n",
      "Hmm\n",
      "Hmm\n",
      "Hmm\n",
      "Hmm\n",
      "Hmm\n",
      "Hmm\n",
      "Hmm\n",
      "Hmm\n",
      "Hmm\n",
      "Hmm\n",
      "Hmm\n",
      "Hmm\n",
      "Hmm\n",
      "Hmm\n",
      "Hmm\n",
      "Hmm\n",
      "Hmm\n",
      "Hmm\n",
      "Hmm\n",
      "Hmm\n",
      "Hmm\n",
      "Hmm\n",
      "Hmm\n",
      "Hmm\n",
      "Hmm\n",
      "Hmm\n",
      "Hmm\n",
      "Hmm\n",
      "Hmm\n",
      "Hmm\n",
      "Hmm\n",
      "Hmm\n",
      "Hmm\n",
      "Hmm\n",
      "Hmm\n",
      "Hmm\n",
      "Hmm\n",
      "Hmm\n",
      "Hmm\n",
      "Hmm\n",
      "Hmm\n",
      "Hmm\n",
      "Hmm\n",
      "Hmm\n",
      "Hmm\n",
      "Hmm\n",
      "Hmm\n",
      "Hmm\n",
      "Hmm\n",
      "Hmm\n",
      "Hmm\n",
      "Hmm\n",
      "Hmm\n",
      "Hmm\n",
      "Hmm\n",
      "Hmm\n",
      "Hmm\n",
      "Hmm\n",
      "Hmm\n",
      "Hmm\n",
      "Hmm\n",
      "Hmm\n",
      "Hmm\n",
      "Hmm\n",
      "Hmm\n",
      "Hmm\n",
      "Hmm\n",
      "Hmm\n",
      "Hmm\n",
      "Hmm\n",
      "Hmm\n",
      "Hmm\n",
      "Hmm\n",
      "Hmm\n",
      "Hmm\n",
      "Hmm\n",
      "Hmm\n",
      "Hmm\n",
      "Hmm\n",
      "Hmm\n",
      "Hmm\n",
      "Hmm\n",
      "Hmm\n",
      "Hmm\n",
      "Hmm\n",
      "Hmm\n",
      "Hmm\n",
      "Hmm\n",
      "Hmm\n",
      "Hmm\n",
      "Hmm\n",
      "Hmm\n",
      "Hmm\n",
      "Hmm\n",
      "Hmm\n",
      "Hmm\n",
      "Hmm\n",
      "Hmm\n",
      "Hmm\n",
      "Hmm\n",
      "Hmm\n",
      "Hmm\n",
      "Hmm\n",
      "Hmm\n",
      "Hmm\n",
      "Hmm\n",
      "Hmm\n",
      "Hmm\n",
      "Hmm\n",
      "Hmm\n",
      "Hmm\n",
      "Hmm\n",
      "Hmm\n",
      "Hmm\n",
      "Hmm\n",
      "Hmm\n",
      "Hmm\n",
      "Hmm\n",
      "Hmm\n",
      "Hmm\n",
      "Hmm\n",
      "Hmm\n",
      "Hmm\n",
      "Hmm\n",
      "Hmm\n",
      "Hmm\n",
      "Hmm\n",
      "Hmm\n",
      "Hmm\n",
      "Hmm\n",
      "Hmm\n",
      "Hmm\n",
      "Hmm\n",
      "Hmm\n",
      "Hmm\n",
      "Hmm\n",
      "Hmm\n",
      "Hmm\n",
      "Hmm\n",
      "Hmm\n",
      "Hmm\n",
      "Hmm\n",
      "Hmm\n",
      "Hmm\n",
      "Hmm\n",
      "Hmm\n",
      "Hmm\n",
      "Hmm\n",
      "Hmm\n",
      "Hmm\n",
      "Hmm\n",
      "Hmm\n",
      "Hmm\n",
      "Hmm\n",
      "Hmm\n",
      "Hmm\n",
      "Hmm\n",
      "Hmm\n",
      "Hmm\n",
      "Hmm\n",
      "Hmm\n",
      "Hmm\n",
      "Hmm\n",
      "Hmm\n",
      "Hmm\n",
      "Hmm\n",
      "Hmm\n",
      "Hmm\n",
      "Hmm\n",
      "Hmm\n",
      "Hmm\n",
      "Hmm\n",
      "Hmm\n",
      "Hmm\n",
      "Hmm\n",
      "Hmm\n",
      "Hmm\n",
      "Hmm\n",
      "Hmm\n",
      "Hmm\n",
      "Hmm\n",
      "Hmm\n",
      "Hmm\n",
      "Hmm\n",
      "Hmm\n",
      "Hmm\n",
      "Hmm\n",
      "Hmm\n",
      "Hmm\n",
      "Hmm\n",
      "Hmm\n",
      "Hmm\n",
      "Hmm\n",
      "Hmm\n",
      "Hmm\n",
      "Hmm\n",
      "Hmm\n",
      "Hmm\n",
      "Hmm\n",
      "Hmm\n",
      "Hmm\n",
      "Hmm\n",
      "Hmm\n",
      "Hmm\n",
      "Hmm\n",
      "Hmm\n",
      "Hmm\n",
      "Hmm\n",
      "Hmm\n",
      "Hmm\n",
      "Hmm\n",
      "Hmm\n",
      "Hmm\n",
      "Hmm\n",
      "Hmm\n",
      "Hmm\n",
      "Hmm\n",
      "Hmm\n",
      "Hmm\n",
      "Hmm\n",
      "Hmm\n",
      "Hmm\n",
      "Hmm\n",
      "Hmm\n",
      "Hmm\n",
      "Hmm\n",
      "Hmm\n",
      "Hmm\n",
      "Hmm\n",
      "Hmm\n",
      "Hmm\n",
      "Hmm\n",
      "Hmm\n",
      "Hmm\n",
      "Hmm\n",
      "Hmm\n",
      "Hmm\n",
      "Hmm\n",
      "Hmm\n",
      "Hmm\n",
      "Hmm\n",
      "Hmm\n",
      "Hmm\n",
      "Hmm\n",
      "Hmm\n",
      "Hmm\n",
      "Hmm\n",
      "Hmm\n",
      "Hmm\n",
      "Hmm\n",
      "Hmm\n",
      "Hmm\n",
      "Hmm\n",
      "Hmm\n",
      "Hmm\n",
      "Hmm\n",
      "Hmm\n",
      "Hmm\n",
      "Hmm\n",
      "Hmm\n",
      "Hmm\n",
      "Hmm\n",
      "Hmm\n",
      "Hmm\n",
      "Hmm\n",
      "Hmm\n",
      "Hmm\n",
      "Hmm\n",
      "Hmm\n",
      "Hmm\n",
      "Hmm\n",
      "Hmm\n",
      "Hmm\n",
      "Hmm\n",
      "Hmm\n",
      "Hmm\n",
      "Hmm\n",
      "Hmm\n",
      "Hmm\n",
      "Hmm\n",
      "Hmm\n",
      "Hmm\n",
      "Hmm\n",
      "Hmm\n",
      "Hmm\n",
      "Hmm\n",
      "Hmm\n",
      "Hmm\n",
      "Hmm\n",
      "Hmm\n",
      "Hmm\n",
      "Hmm\n",
      "Hmm\n",
      "Hmm\n",
      "Hmm\n",
      "Hmm\n",
      "Hmm\n",
      "Hmm\n",
      "Hmm\n",
      "Hmm\n",
      "Hmm\n",
      "Hmm\n",
      "Hmm\n",
      "Hmm\n",
      "Hmm\n",
      "Hmm\n",
      "Hmm\n",
      "Hmm\n",
      "Hmm\n",
      "Hmm\n",
      "Hmm\n",
      "Hmm\n",
      "Hmm\n",
      "Hmm\n",
      "Hmm\n",
      "Hmm\n",
      "Hmm\n",
      "Hmm\n",
      "Hmm\n",
      "Hmm\n",
      "Hmm\n",
      "Hmm\n",
      "Hmm\n",
      "Hmm\n",
      "Hmm\n",
      "Hmm\n",
      "Hmm\n",
      "Hmm\n",
      "Hmm\n",
      "Hmm\n",
      "Hmm\n",
      "Hmm\n",
      "Hmm\n",
      "Hmm\n",
      "Hmm\n",
      "Hmm\n",
      "Hmm\n",
      "Hmm\n",
      "Hmm\n",
      "Hmm\n",
      "Hmm\n",
      "Hmm\n",
      "Hmm\n",
      "Hmm\n",
      "Hmm\n",
      "Hmm\n",
      "Hmm\n",
      "Hmm\n",
      "Hmm\n",
      "Hmm\n",
      "Hmm\n",
      "Hmm\n",
      "Hmm\n",
      "Hmm\n",
      "Hmm\n",
      "Hmm\n",
      "Hmm\n",
      "Hmm\n",
      "Hmm\n",
      "Hmm\n",
      "Hmm\n",
      "Hmm\n",
      "Hmm\n",
      "Hmm\n",
      "Hmm\n",
      "Hmm\n",
      "Hmm\n",
      "Hmm\n",
      "Hmm\n",
      "Hmm\n",
      "Hmm\n",
      "Hmm\n",
      "Hmm\n",
      "Hmm\n",
      "Hmm\n",
      "Hmm\n",
      "Hmm\n",
      "Hmm\n",
      "Hmm\n",
      "Hmm\n",
      "Hmm\n",
      "Hmm\n",
      "Hmm\n",
      "Hmm\n",
      "Hmm\n",
      "Hmm\n",
      "Hmm\n",
      "Hmm\n",
      "Hmm\n",
      "Hmm\n",
      "Hmm\n",
      "Hmm\n",
      "Hmm\n",
      "Hmm\n",
      "Hmm\n",
      "Hmm\n",
      "Hmm\n",
      "Hmm\n",
      "Hmm\n",
      "Hmm\n",
      "Hmm\n",
      "Hmm\n",
      "Hmm\n",
      "Hmm\n",
      "Hmm\n",
      "Hmm\n",
      "Hmm\n",
      "Hmm\n",
      "Hmm\n",
      "Hmm\n",
      "Hmm\n",
      "Hmm\n",
      "Hmm\n",
      "Hmm\n",
      "Hmm\n",
      "Hmm\n",
      "Hmm\n",
      "Hmm\n",
      "Hmm\n",
      "Hmm\n",
      "Hmm\n",
      "Hmm\n",
      "Hmm\n",
      "Hmm\n",
      "Hmm\n",
      "Hmm\n",
      "Hmm\n",
      "Hmm\n",
      "Hmm\n",
      "Hmm\n",
      "Hmm\n",
      "Hmm\n",
      "Hmm\n",
      "Hmm\n",
      "Hmm\n",
      "Hmm\n",
      "Hmm\n",
      "Hmm\n",
      "Hmm\n",
      "Hmm\n",
      "Hmm\n",
      "Hmm\n",
      "Hmm\n",
      "Hmm\n",
      "Hmm\n",
      "Hmm\n",
      "Hmm\n",
      "Hmm\n",
      "Hmm\n",
      "Hmm"
     ]
    },
    {
     "ename": "KeyboardInterrupt",
     "evalue": "ignored",
     "output_type": "error",
     "traceback": [
      "\u001b[0;31m---------------------------------------------------------------------------\u001b[0m",
      "\u001b[0;31mKeyboardInterrupt\u001b[0m                         Traceback (most recent call last)",
      "\u001b[0;32m<ipython-input-196-03e141d16da0>\u001b[0m in \u001b[0;36m<module>\u001b[0;34m()\u001b[0m\n\u001b[1;32m      1\u001b[0m \u001b[0;34m\u001b[0m\u001b[0m\n\u001b[1;32m      2\u001b[0m \u001b[0;32mwhile\u001b[0m \u001b[0mi\u001b[0m \u001b[0;34m<\u001b[0m \u001b[0;36m10\u001b[0m\u001b[0;34m:\u001b[0m\u001b[0;34m\u001b[0m\u001b[0;34m\u001b[0m\u001b[0m\n\u001b[0;32m----> 3\u001b[0;31m     \u001b[0mprint\u001b[0m\u001b[0;34m(\u001b[0m\u001b[0;34m\"Hmm\"\u001b[0m\u001b[0;34m)\u001b[0m\u001b[0;34m\u001b[0m\u001b[0;34m\u001b[0m\u001b[0m\n\u001b[0m",
      "\u001b[0;32m/usr/local/lib/python3.7/dist-packages/ipykernel/iostream.py\u001b[0m in \u001b[0;36mwrite\u001b[0;34m(self, string)\u001b[0m\n\u001b[1;32m    398\u001b[0m             \u001b[0mis_child\u001b[0m \u001b[0;34m=\u001b[0m \u001b[0;34m(\u001b[0m\u001b[0;32mnot\u001b[0m \u001b[0mself\u001b[0m\u001b[0;34m.\u001b[0m\u001b[0m_is_master_process\u001b[0m\u001b[0;34m(\u001b[0m\u001b[0;34m)\u001b[0m\u001b[0;34m)\u001b[0m\u001b[0;34m\u001b[0m\u001b[0;34m\u001b[0m\u001b[0m\n\u001b[1;32m    399\u001b[0m             \u001b[0;31m# only touch the buffer in the IO thread to avoid races\u001b[0m\u001b[0;34m\u001b[0m\u001b[0;34m\u001b[0m\u001b[0;34m\u001b[0m\u001b[0m\n\u001b[0;32m--> 400\u001b[0;31m             \u001b[0mself\u001b[0m\u001b[0;34m.\u001b[0m\u001b[0mpub_thread\u001b[0m\u001b[0;34m.\u001b[0m\u001b[0mschedule\u001b[0m\u001b[0;34m(\u001b[0m\u001b[0;32mlambda\u001b[0m \u001b[0;34m:\u001b[0m \u001b[0mself\u001b[0m\u001b[0;34m.\u001b[0m\u001b[0m_buffer\u001b[0m\u001b[0;34m.\u001b[0m\u001b[0mwrite\u001b[0m\u001b[0;34m(\u001b[0m\u001b[0mstring\u001b[0m\u001b[0;34m)\u001b[0m\u001b[0;34m)\u001b[0m\u001b[0;34m\u001b[0m\u001b[0;34m\u001b[0m\u001b[0m\n\u001b[0m\u001b[1;32m    401\u001b[0m             \u001b[0;32mif\u001b[0m \u001b[0mis_child\u001b[0m\u001b[0;34m:\u001b[0m\u001b[0;34m\u001b[0m\u001b[0;34m\u001b[0m\u001b[0m\n\u001b[1;32m    402\u001b[0m                 \u001b[0;31m# newlines imply flush in subprocesses\u001b[0m\u001b[0;34m\u001b[0m\u001b[0;34m\u001b[0m\u001b[0;34m\u001b[0m\u001b[0m\n",
      "\u001b[0;32m/usr/local/lib/python3.7/dist-packages/ipykernel/iostream.py\u001b[0m in \u001b[0;36mschedule\u001b[0;34m(self, f)\u001b[0m\n\u001b[1;32m    201\u001b[0m             \u001b[0mself\u001b[0m\u001b[0;34m.\u001b[0m\u001b[0m_events\u001b[0m\u001b[0;34m.\u001b[0m\u001b[0mappend\u001b[0m\u001b[0;34m(\u001b[0m\u001b[0mf\u001b[0m\u001b[0;34m)\u001b[0m\u001b[0;34m\u001b[0m\u001b[0;34m\u001b[0m\u001b[0m\n\u001b[1;32m    202\u001b[0m             \u001b[0;31m# wake event thread (message content is ignored)\u001b[0m\u001b[0;34m\u001b[0m\u001b[0;34m\u001b[0m\u001b[0;34m\u001b[0m\u001b[0m\n\u001b[0;32m--> 203\u001b[0;31m             \u001b[0mself\u001b[0m\u001b[0;34m.\u001b[0m\u001b[0m_event_pipe\u001b[0m\u001b[0;34m.\u001b[0m\u001b[0msend\u001b[0m\u001b[0;34m(\u001b[0m\u001b[0;34mb''\u001b[0m\u001b[0;34m)\u001b[0m\u001b[0;34m\u001b[0m\u001b[0;34m\u001b[0m\u001b[0m\n\u001b[0m\u001b[1;32m    204\u001b[0m         \u001b[0;32melse\u001b[0m\u001b[0;34m:\u001b[0m\u001b[0;34m\u001b[0m\u001b[0;34m\u001b[0m\u001b[0m\n\u001b[1;32m    205\u001b[0m             \u001b[0mf\u001b[0m\u001b[0;34m(\u001b[0m\u001b[0;34m)\u001b[0m\u001b[0;34m\u001b[0m\u001b[0;34m\u001b[0m\u001b[0m\n",
      "\u001b[0;32m/usr/local/lib/python3.7/dist-packages/zmq/sugar/socket.py\u001b[0m in \u001b[0;36msend\u001b[0;34m(self, data, flags, copy, track, routing_id, group)\u001b[0m\n\u001b[1;32m    616\u001b[0m                 )\n\u001b[1;32m    617\u001b[0m             \u001b[0mdata\u001b[0m\u001b[0;34m.\u001b[0m\u001b[0mgroup\u001b[0m \u001b[0;34m=\u001b[0m \u001b[0mgroup\u001b[0m\u001b[0;34m\u001b[0m\u001b[0;34m\u001b[0m\u001b[0m\n\u001b[0;32m--> 618\u001b[0;31m         \u001b[0;32mreturn\u001b[0m \u001b[0msuper\u001b[0m\u001b[0;34m(\u001b[0m\u001b[0;34m)\u001b[0m\u001b[0;34m.\u001b[0m\u001b[0msend\u001b[0m\u001b[0;34m(\u001b[0m\u001b[0mdata\u001b[0m\u001b[0;34m,\u001b[0m \u001b[0mflags\u001b[0m\u001b[0;34m=\u001b[0m\u001b[0mflags\u001b[0m\u001b[0;34m,\u001b[0m \u001b[0mcopy\u001b[0m\u001b[0;34m=\u001b[0m\u001b[0mcopy\u001b[0m\u001b[0;34m,\u001b[0m \u001b[0mtrack\u001b[0m\u001b[0;34m=\u001b[0m\u001b[0mtrack\u001b[0m\u001b[0;34m)\u001b[0m\u001b[0;34m\u001b[0m\u001b[0;34m\u001b[0m\u001b[0m\n\u001b[0m\u001b[1;32m    619\u001b[0m \u001b[0;34m\u001b[0m\u001b[0m\n\u001b[1;32m    620\u001b[0m     def send_multipart(\n",
      "\u001b[0;32mzmq/backend/cython/socket.pyx\u001b[0m in \u001b[0;36mzmq.backend.cython.socket.Socket.send\u001b[0;34m()\u001b[0m\n",
      "\u001b[0;32mzmq/backend/cython/socket.pyx\u001b[0m in \u001b[0;36mzmq.backend.cython.socket.Socket.send\u001b[0;34m()\u001b[0m\n",
      "\u001b[0;32mzmq/backend/cython/socket.pyx\u001b[0m in \u001b[0;36mzmq.backend.cython.socket._send_copy\u001b[0;34m()\u001b[0m\n",
      "\u001b[0;32m/usr/local/lib/python3.7/dist-packages/zmq/backend/cython/checkrc.pxd\u001b[0m in \u001b[0;36mzmq.backend.cython.checkrc._check_rc\u001b[0;34m()\u001b[0m\n",
      "\u001b[0;31mKeyboardInterrupt\u001b[0m: "
     ]
    }
   ],
   "source": [
    "\n",
    "while i < 10:\n",
    "    print(\"Hmm\")"
   ]
  },
  {
   "cell_type": "code",
   "execution_count": null,
   "metadata": {
    "id": "O8Rk73-4yk6-"
   },
   "outputs": [],
   "source": [
    "# What would happen if we did not have i+=1 in our above program ?"
   ]
  },
  {
   "cell_type": "code",
   "execution_count": 197,
   "metadata": {
    "colab": {
     "base_uri": "https://localhost:8080/"
    },
    "id": "9iQlG4C5yk6-",
    "outputId": "06c379dd-2746-4b3c-f4db-b4514c097628"
   },
   "outputs": [
    {
     "name": "stdout",
     "output_type": "stream",
     "text": [
      "0\n",
      "1\n",
      "2\n",
      "3\n",
      "4\n",
      "5\n",
      "6\n",
      "7\n",
      "8\n",
      "9\n"
     ]
    }
   ],
   "source": [
    "for x in range(10): # remember range is a number factory (iterator technically)\n",
    "    print(x)"
   ]
  },
  {
   "cell_type": "code",
   "execution_count": 198,
   "metadata": {
    "colab": {
     "base_uri": "https://localhost:8080/"
    },
    "id": "o7QcqVXDyk6-",
    "outputId": "073e7be1-8764-427c-9748-1bcc64a88939"
   },
   "outputs": [
    {
     "name": "stdout",
     "output_type": "stream",
     "text": [
      "V\n",
      "a\n",
      "l\n",
      "d\n",
      "i\n",
      "s\n"
     ]
    }
   ],
   "source": [
    "# we can loop / iterate through strings\n",
    "for c in \"Valdis\":\n",
    "    print(c)"
   ]
  },
  {
   "cell_type": "code",
   "execution_count": 199,
   "metadata": {
    "colab": {
     "base_uri": "https://localhost:8080/"
    },
    "id": "Agmjsv_bQ9ja",
    "outputId": "3a78bd7a-13d2-48c1-889c-8ec33d23955d"
   },
   "outputs": [
    {
     "name": "stdout",
     "output_type": "stream",
     "text": [
      "0 U\n",
      "1 l\n",
      "2 d\n",
      "3 i\n",
      "4 s\n"
     ]
    }
   ],
   "source": [
    "# we use enumerate when we need index for whatever we are looping through\n",
    "for i, c in enumerate(name):\n",
    "    print(i, c)"
   ]
  },
  {
   "cell_type": "code",
   "execution_count": 200,
   "metadata": {
    "colab": {
     "base_uri": "https://localhost:8080/"
    },
    "id": "Ul9aqgSkRSC0",
    "outputId": "904a10e1-9352-4d96-e1a6-2c44a544b86b"
   },
   "outputs": [
    {
     "data": {
      "text/plain": [
       "4"
      ]
     },
     "execution_count": 200,
     "metadata": {},
     "output_type": "execute_result"
    }
   ],
   "source": [
    "i"
   ]
  },
  {
   "cell_type": "code",
   "execution_count": 201,
   "metadata": {
    "colab": {
     "base_uri": "https://localhost:8080/",
     "height": 35
    },
    "id": "LillgUSSRTMr",
    "outputId": "33335f31-0f48-4dcc-880b-0f7ea1f6e22c"
   },
   "outputs": [
    {
     "data": {
      "application/vnd.google.colaboratory.intrinsic+json": {
       "type": "string"
      },
      "text/plain": [
       "'s'"
      ]
     },
     "execution_count": 201,
     "metadata": {},
     "output_type": "execute_result"
    }
   ],
   "source": [
    "c"
   ]
  },
  {
   "cell_type": "code",
   "execution_count": 205,
   "metadata": {
    "colab": {
     "base_uri": "https://localhost:8080/"
    },
    "id": "jjbRaZW_RY-_",
    "outputId": "ed3fa438-af10-4c19-9f16-e5288afbeacf"
   },
   "outputs": [
    {
     "name": "stdout",
     "output_type": "stream",
     "text": [
      "s\n",
      "A\n",
      "u\n",
      "L\n",
      "e\n",
      "S\n",
      "p\n",
      "U\n",
      "r\n",
      "Ē\n",
      "n\n",
      "S\n",
      "sAuLeSpUrĒnS\n"
     ]
    }
   ],
   "source": [
    "new_string = \"\"\n",
    "new_list = []\n",
    "for i, c in enumerate(last_name):\n",
    "    if i % 2 == 0:\n",
    "        print(c.lower())\n",
    "        new_string += c.lower() # this is same as saying new_string = new_string + c\n",
    "        new_list.append(c.lower())\n",
    "    else:\n",
    "        print(c.upper())\n",
    "        new_string += c.upper()  # this += is fine for smaller strings\n",
    "        new_list.append(c.upper())\n",
    "print(new_string)"
   ]
  },
  {
   "cell_type": "code",
   "execution_count": 206,
   "metadata": {
    "colab": {
     "base_uri": "https://localhost:8080/"
    },
    "id": "YoxSa-uqSX4n",
    "outputId": "fd765f19-9e75-4dd1-f678-41d56e06d53d"
   },
   "outputs": [
    {
     "data": {
      "text/plain": [
       "['s', 'A', 'u', 'L', 'e', 'S', 'p', 'U', 'r', 'Ē', 'n', 'S']"
      ]
     },
     "execution_count": 206,
     "metadata": {},
     "output_type": "execute_result"
    }
   ],
   "source": [
    "new_list"
   ]
  },
  {
   "cell_type": "code",
   "execution_count": 207,
   "metadata": {
    "colab": {
     "base_uri": "https://localhost:8080/",
     "height": 35
    },
    "id": "gVz-46KeSatC",
    "outputId": "ce23b014-7346-4606-da98-0f06dc897049"
   },
   "outputs": [
    {
     "data": {
      "application/vnd.google.colaboratory.intrinsic+json": {
       "type": "string"
      },
      "text/plain": [
       "\"['s', 'A', 'u', 'L', 'e', 'S', 'p', 'U', 'r', 'Ē', 'n', 'S']\""
      ]
     },
     "execution_count": 207,
     "metadata": {},
     "output_type": "execute_result"
    }
   ],
   "source": [
    "str(new_list)"
   ]
  },
  {
   "cell_type": "code",
   "execution_count": 208,
   "metadata": {
    "colab": {
     "base_uri": "https://localhost:8080/",
     "height": 35
    },
    "id": "DXDEj4P5SdWm",
    "outputId": "1f4477af-c7ee-4ddc-b253-58f4c561b489"
   },
   "outputs": [
    {
     "data": {
      "application/vnd.google.colaboratory.intrinsic+json": {
       "type": "string"
      },
      "text/plain": [
       "'sAuLeSpUrĒnS'"
      ]
     },
     "execution_count": 208,
     "metadata": {},
     "output_type": "execute_result"
    }
   ],
   "source": [
    "my_new_string = \"\".join(new_list) # so our separator is an empty string, you could use something else if you want such as space\n",
    "my_new_string"
   ]
  },
  {
   "cell_type": "code",
   "execution_count": 209,
   "metadata": {
    "colab": {
     "base_uri": "https://localhost:8080/"
    },
    "id": "AXrGVP8xSzD4",
    "outputId": "341afd6a-a329-449e-da91-e06e01257fa6"
   },
   "outputs": [
    {
     "data": {
      "text/plain": [
       "[11, 12, 13, 14, 15, 16, 17, 18, 19, 20]"
      ]
     },
     "execution_count": 209,
     "metadata": {},
     "output_type": "execute_result"
    }
   ],
   "source": [
    "mylist"
   ]
  },
  {
   "cell_type": "code",
   "execution_count": 210,
   "metadata": {
    "colab": {
     "base_uri": "https://localhost:8080/"
    },
    "id": "b90_H3Vtzb40",
    "outputId": "9bbe0c60-e9a5-4e6d-d76f-3179c28cdbf7"
   },
   "outputs": [
    {
     "name": "stdout",
     "output_type": "stream",
     "text": [
      "Item 11\n",
      "Item 12\n",
      "Item 13\n",
      "Item 14\n",
      "Item 15\n",
      "Item 16\n",
      "Item 17\n",
      "Item 18\n",
      "Item 19\n",
      "Item 20\n"
     ]
    }
   ],
   "source": [
    "for item in mylist:\n",
    "    print(\"Item\", item)"
   ]
  },
  {
   "cell_type": "code",
   "execution_count": 212,
   "metadata": {
    "colab": {
     "base_uri": "https://localhost:8080/"
    },
    "id": "1ykMR6anS1wS",
    "outputId": "e2a86d7f-acd9-4a48-f980-3265ca9e2eb9"
   },
   "outputs": [
    {
     "name": "stdout",
     "output_type": "stream",
     "text": [
      "Need to buy Chocolate\n",
      "Need to buy Kefir\n",
      "Need to buy Potatoes\n",
      "Need to buy fork\n"
     ]
    }
   ],
   "source": [
    "for need_to_buy in shopping_list:\n",
    "    print(\"Need to buy\", need_to_buy)\n",
    "    # here we could actually do the actual buying operation"
   ]
  },
  {
   "cell_type": "code",
   "execution_count": 213,
   "metadata": {
    "colab": {
     "base_uri": "https://localhost:8080/"
    },
    "id": "4azwYOatTQnr",
    "outputId": "467028ea-ae4d-4c50-ff7a-bc929bdd552d"
   },
   "outputs": [
    {
     "data": {
      "text/plain": [
       "{'country': 'Latvia', 'food': 'potatoes'}"
      ]
     },
     "execution_count": 213,
     "metadata": {},
     "output_type": "execute_result"
    }
   ],
   "source": [
    "mydict"
   ]
  },
  {
   "cell_type": "code",
   "execution_count": 214,
   "metadata": {
    "colab": {
     "base_uri": "https://localhost:8080/"
    },
    "id": "W-wWdtOfyk6_",
    "outputId": "ad5bb601-8cef-493c-c3a4-ab145a111233"
   },
   "outputs": [
    {
     "name": "stdout",
     "output_type": "stream",
     "text": [
      "country Latvia\n",
      "food potatoes\n"
     ]
    }
   ],
   "source": [
    "# loop through dictionary\n",
    "for k,v in mydict.items(): # you could call them key, value or anything else\n",
    "    print(k,v)"
   ]
  },
  {
   "cell_type": "code",
   "execution_count": null,
   "metadata": {
    "id": "RhVAv5xjyk6_"
   },
   "outputs": [],
   "source": [
    "## Splitting a line of text into words\n",
    "mytext = \"A quick brown fox jumped over a sleeping dog\"\n",
    "words = mytext.split()\n"
   ]
  },
  {
   "cell_type": "code",
   "execution_count": null,
   "metadata": {
    "id": "zFuwBnH0yk6_"
   },
   "outputs": [],
   "source": [
    "print(words)"
   ]
  },
  {
   "cell_type": "code",
   "execution_count": null,
   "metadata": {
    "id": "NGODLi24yk6_"
   },
   "outputs": [],
   "source": [
    "## Print first letter of each word\n",
    "for w in words:\n",
    "    print(w[0], w[0].isupper(), w.istitle()) ## istitle() checks every word in a string so not good for unsplit strings"
   ]
  },
  {
   "cell_type": "code",
   "execution_count": null,
   "metadata": {
    "id": "hwjDVnwpyk6_"
   },
   "outputs": [],
   "source": [
    "myline=\"Mr. Sherlock Holmes, who was usually very late in the mornings\""
   ]
  },
  {
   "cell_type": "code",
   "execution_count": null,
   "metadata": {
    "id": "n5wwnnSHyk7A"
   },
   "outputs": [],
   "source": [
    "words=myline.split()"
   ]
  },
  {
   "cell_type": "code",
   "execution_count": null,
   "metadata": {
    "id": "tBGR77iWyk7B"
   },
   "outputs": [],
   "source": [
    "words"
   ]
  },
  {
   "cell_type": "code",
   "execution_count": null,
   "metadata": {
    "id": "2ljnfqi1yk7B"
   },
   "outputs": [],
   "source": [
    "words[1][0].isupper()"
   ]
  },
  {
   "cell_type": "code",
   "execution_count": null,
   "metadata": {
    "id": "9d01teFfyk7B"
   },
   "outputs": [],
   "source": [
    "# Enumerate for showing index of item when going through many items\n",
    "for i, x in enumerate(range(10,15)):\n",
    "    print(i, x)"
   ]
  },
  {
   "cell_type": "code",
   "execution_count": null,
   "metadata": {
    "id": "lZhC-cpoyk7B"
   },
   "outputs": [],
   "source": [
    "for i, c in enumerate(myname):\n",
    "    print(i, c)"
   ]
  },
  {
   "cell_type": "markdown",
   "metadata": {
    "id": "7bywoUw-yk7B"
   },
   "source": [
    "## What is a function? <a class=\"anchor\" id=\"functions\">\n",
    "    \n",
    "[Back to Table of Contents](#toc)\n",
    "* A function is a block of organized, reusable code that is used to perform a single, related action.\n",
    "* Single, organized, related always ? :)\n",
    "###  DRY - Do not Repeat Yourself principle\n",
    "* Every piece of knowledge must have a single, unambiguous, authoritative representation within a system. http://wiki.c2.com/?DontRepeatYourself\n",
    "\n",
    "* Contrast WET - We Enjoy Typing, Write Everything Twice, Waste Everyone's Time"
   ]
  },
  {
   "cell_type": "code",
   "execution_count": 217,
   "metadata": {
    "id": "4issPuv3yk7B"
   },
   "outputs": [],
   "source": [
    "# Here we define our first function\n",
    "def myFirstFunc():\n",
    "    print(\"Running My first func\")\n",
    "    print(\"Do more stuff\")"
   ]
  },
  {
   "cell_type": "code",
   "execution_count": 218,
   "metadata": {
    "colab": {
     "base_uri": "https://localhost:8080/"
    },
    "id": "ktTvhI2Qyk7B",
    "outputId": "3e35368d-1792-49ff-b1c7-792c17bee49b"
   },
   "outputs": [
    {
     "name": "stdout",
     "output_type": "stream",
     "text": [
      "Running My first func\n",
      "Do more stuff\n"
     ]
    }
   ],
   "source": [
    "# function has to be defined before it is called\n",
    "myFirstFunc()"
   ]
  },
  {
   "cell_type": "code",
   "execution_count": 219,
   "metadata": {
    "id": "o2AKHLrcyk7C"
   },
   "outputs": [],
   "source": [
    "# Passing parameters(arguments)\n",
    "def printName(name):\n",
    "    print(f\"Maybe my name is: {name}\")\n"
   ]
  },
  {
   "cell_type": "code",
   "execution_count": 220,
   "metadata": {
    "colab": {
     "base_uri": "https://localhost:8080/"
    },
    "id": "SxN2_rayUR6I",
    "outputId": "32f9609c-b457-4b46-c909-6992d78078e4"
   },
   "outputs": [
    {
     "name": "stdout",
     "output_type": "stream",
     "text": [
      "Maybe my name is: Uldis\n"
     ]
    }
   ],
   "source": [
    "printName(\"Uldis\")"
   ]
  },
  {
   "cell_type": "code",
   "execution_count": 221,
   "metadata": {
    "colab": {
     "base_uri": "https://localhost:8080/"
    },
    "id": "9tukNS8rUT_G",
    "outputId": "3abac4fe-dbfe-4115-8da5-0fee46d7cd29"
   },
   "outputs": [
    {
     "name": "stdout",
     "output_type": "stream",
     "text": [
      "Maybe my name is: Artis\n"
     ]
    }
   ],
   "source": [
    "printName(\"Artis\")"
   ]
  },
  {
   "cell_type": "code",
   "execution_count": 222,
   "metadata": {
    "colab": {
     "base_uri": "https://localhost:8080/"
    },
    "id": "3g9rizp3UWcT",
    "outputId": "3ae14f59-a1aa-498d-9f43-53d345e47d2c"
   },
   "outputs": [
    {
     "name": "stdout",
     "output_type": "stream",
     "text": [
      "Maybe my name is: Valdis Saulespurēns\n"
     ]
    }
   ],
   "source": [
    "printName(full_name)"
   ]
  },
  {
   "cell_type": "code",
   "execution_count": 225,
   "metadata": {
    "id": "e2fd35vDUs9x"
   },
   "outputs": [],
   "source": [
    "def alternate_letters(text):\n",
    "    new_string = \"\"\n",
    "    for i, c in enumerate(text):\n",
    "        if i % 2 == 0:\n",
    "            new_string += c.lower() # this is same as saying new_string = new_string + c\n",
    "        else:\n",
    "            new_string += c.upper()  # this += is fine for smaller strings\n",
    "    print(new_string)\n",
    "    return new_string # with return I can use the results of this function not just output to screen"
   ]
  },
  {
   "cell_type": "code",
   "execution_count": 226,
   "metadata": {
    "colab": {
     "base_uri": "https://localhost:8080/",
     "height": 53
    },
    "id": "D37UXUhsU8Qr",
    "outputId": "7d3ae30a-7e32-4677-8666-7f6a006bff5e"
   },
   "outputs": [
    {
     "name": "stdout",
     "output_type": "stream",
     "text": [
      "cOfFeE\n"
     ]
    },
    {
     "data": {
      "application/vnd.google.colaboratory.intrinsic+json": {
       "type": "string"
      },
      "text/plain": [
       "'cOfFeE'"
      ]
     },
     "execution_count": 226,
     "metadata": {},
     "output_type": "execute_result"
    }
   ],
   "source": [
    "alternate_letters(\"Coffee\")"
   ]
  },
  {
   "cell_type": "code",
   "execution_count": 227,
   "metadata": {
    "colab": {
     "base_uri": "https://localhost:8080/"
    },
    "id": "9wItDm5zVd9y",
    "outputId": "a8ff54cc-13e7-4681-f2db-d339d6b9d4da"
   },
   "outputs": [
    {
     "name": "stdout",
     "output_type": "stream",
     "text": [
      "kEfIr\n"
     ]
    }
   ],
   "source": [
    "my_result = alternate_letters(\"Kefir\")"
   ]
  },
  {
   "cell_type": "code",
   "execution_count": 228,
   "metadata": {
    "colab": {
     "base_uri": "https://localhost:8080/",
     "height": 35
    },
    "id": "GK1n4_pbVjFp",
    "outputId": "8c6d198f-a688-4f61-eebe-1a144cd0636c"
   },
   "outputs": [
    {
     "data": {
      "application/vnd.google.colaboratory.intrinsic+json": {
       "type": "string"
      },
      "text/plain": [
       "'kEfIr'"
      ]
     },
     "execution_count": 228,
     "metadata": {},
     "output_type": "execute_result"
    }
   ],
   "source": [
    "my_result"
   ]
  },
  {
   "cell_type": "code",
   "execution_count": null,
   "metadata": {
    "id": "khh9boPkyk7C"
   },
   "outputs": [],
   "source": [
    "def add(a, b):\n",
    "    print(a+b)"
   ]
  },
  {
   "cell_type": "code",
   "execution_count": null,
   "metadata": {
    "id": "5Fggm4P7yk7C"
   },
   "outputs": [],
   "source": [
    "add(4,6)\n",
    "add(9,233)\n",
    "add(\"Hello \",\"Riga\")\n",
    "add([1,2,7],list(range(6,12)))\n",
    "# Try calling add function with other parameters"
   ]
  },
  {
   "cell_type": "code",
   "execution_count": null,
   "metadata": {
    "id": "hcWHULvNyk7C"
   },
   "outputs": [],
   "source": [
    "\n"
   ]
  },
  {
   "cell_type": "code",
   "execution_count": null,
   "metadata": {
    "id": "UmUUiVofyk7C"
   },
   "outputs": [],
   "source": [
    "# We make Docstrings with '''Helpful function description inside'''\n",
    "def mult(a, b):\n",
    "    '''Returns \n",
    "    multiple from first two arguments'''\n",
    "    print(\"Look ma I am multiplying!\", a, b, a*b)\n",
    "    return a*b"
   ]
  },
  {
   "cell_type": "code",
   "execution_count": null,
   "metadata": {
    "id": "mGGMB7Fhyk7C"
   },
   "outputs": [],
   "source": [
    "def printnum(num):\n",
    "    if num > 10:\n",
    "        print(f\"This number {num} is too unwieldy for me to print\")\n",
    "    else:\n",
    "        print(f\"This {num} is a nice number\")"
   ]
  },
  {
   "cell_type": "code",
   "execution_count": null,
   "metadata": {
    "id": "PuTApljOyk7C"
   },
   "outputs": [],
   "source": [
    "def isEven(num):\n",
    "    if num%2 == 0:\n",
    "        print(f\"{num} is even\")\n",
    "    else:\n",
    "        print(f\"{num} is odd\")\n",
    "\n",
    "isEven(3)\n",
    "isEven(4)"
   ]
  },
  {
   "cell_type": "code",
   "execution_count": null,
   "metadata": {
    "id": "lTTPOUoKyk7D"
   },
   "outputs": [],
   "source": [
    "def processLine(line):\n",
    "    words = line.split()\n",
    "    linegood=False\n",
    "    for word in words:        \n",
    "        if word[0].isupper():\n",
    "            print(word, end='\\t')\n",
    "            linegood=True\n",
    "    if linegood == True:\n",
    "        print('')"
   ]
  },
  {
   "cell_type": "markdown",
   "metadata": {
    "id": "rQWerPaTyk7D"
   },
   "source": [
    "## Libraries <a class=\"anchor\" id=\"libraries\">\n",
    "    \n",
    "[Back to Table of Contents](#toc)"
   ]
  },
  {
   "cell_type": "code",
   "execution_count": null,
   "metadata": {
    "id": "ue-Y0NMtyk7D"
   },
   "outputs": [],
   "source": [
    "# Python and Batteries Included Philosophy\n",
    "## Why reinvent the wheel?"
   ]
  },
  {
   "cell_type": "code",
   "execution_count": null,
   "metadata": {
    "id": "JSa9NWcYyk7D"
   },
   "outputs": [],
   "source": [
    "# Try importing this\n",
    "import this"
   ]
  },
  {
   "cell_type": "code",
   "execution_count": null,
   "metadata": {
    "id": "kKAZZ2RPyk7D"
   },
   "outputs": [],
   "source": [
    "import math\n"
   ]
  },
  {
   "cell_type": "code",
   "execution_count": null,
   "metadata": {
    "id": "xrBBGDl-yk7D"
   },
   "outputs": [],
   "source": [
    "# notice the . syntax helper\n",
    "math.cos(3.14)"
   ]
  },
  {
   "cell_type": "code",
   "execution_count": null,
   "metadata": {
    "id": "jyiYv9ZWyk7D"
   },
   "outputs": [],
   "source": [
    "from collections import Counter"
   ]
  },
  {
   "cell_type": "code",
   "execution_count": null,
   "metadata": {
    "id": "naQt3oPuyk7D"
   },
   "outputs": [],
   "source": [
    "magic = \"abracadabra\"\n",
    "cnt = Counter(magic)\n",
    "cnt"
   ]
  },
  {
   "cell_type": "code",
   "execution_count": null,
   "metadata": {
    "id": "gi5kXSV8yk7E"
   },
   "outputs": [],
   "source": [
    "# There are hundreds of useful Python libraries\n",
    "## Crucial libraries are collected in Standard Library\n",
    "# https://docs.python.org/3/library/\n",
    "# Batteries included\n"
   ]
  },
  {
   "cell_type": "markdown",
   "metadata": {
    "id": "Rq7cOLLMyk7E"
   },
   "source": [
    "## Most important Python ideas <a class=\"anchor\" id=\"python-ideas\">\n",
    "    \n",
    "[Back to Table of Contents](#toc)\n",
    "\n",
    "* dir(myobject) to find what can be done (most decent text editors/IDEs will offer autocompletion and hints though)\n",
    "* help(myobject) general help\n",
    "* type(myobject) what type it is\n",
    "\n",
    "## Slicing Syntax for sequences(strings,lists and more)\n",
    "`\n",
    "myname[start:end:step]\n",
    "myname[:5]`\n",
    "\n",
    "## : indicates a new indentation level \n",
    "\n",
    "`if x > 5:\n",
    "     print(\"Do Work when x > 5\")\n",
    "print(\"Always Do this\")`"
   ]
  },
  {
   "cell_type": "markdown",
   "metadata": {
    "id": "z1q0FQFKyk7E"
   },
   "source": [
    "# Python Resources <a class=\"anchor\" id=\"learning-resources\">\n",
    "    \n",
    "[Back to Table of Contents](#toc)"
   ]
  },
  {
   "cell_type": "markdown",
   "metadata": {
    "id": "ghG_aM5ayk7E"
   },
   "source": [
    "## Wiki for Tutorials\n",
    "\n",
    "https://wiki.python.org/moin/BeginnersGuide/NonProgrammers"
   ]
  },
  {
   "cell_type": "markdown",
   "metadata": {
    "id": "R34PGbyzyk7E"
   },
   "source": [
    "## Tutorials Begginner to Intermediate\n",
    "\n",
    "\n",
    "\n",
    "\n",
    "* https://automatetheboringstuff.com/ - Anything by Al Sweigart is great\n",
    "* http://newcoder.io/tutorials/ - 5 sets of practical tutorials\n",
    "* [Think Like a Computer Scientist](http://interactivepython.org/runestone/static/thinkcspy/index.html) full tutorial\n",
    "* [Non-Programmers Tutorial for Python 3](https://en.wikibooks.org/wiki/Non-Programmer%27s_Tutorial_for_Python_3) quite good for wikibooks\n",
    "* [Real Python](https://realpython.com/) Python Tutorials for all levels\n",
    "\n",
    "\n",
    "* [Learn Python 3 the Hard Way](https://learnpythonthehardway.org/python3/intro.html) controversial author but very exhaustive, some like this approach"
   ]
  },
  {
   "cell_type": "markdown",
   "metadata": {
    "id": "k65CF3Hdyk7E"
   },
   "source": [
    "## More Advanced Python Specific Books\n",
    "\n",
    "* [Python Cookbook](https://www.amazon.com/Python-Cookbook-Third-David-Beazley/dp/1449340377) Recipes for specific situations\n",
    "\n",
    "* [Effective Python](https://effectivepython.com/) best practices\n",
    "* [Fluent Python](http://shop.oreilly.com/product/0636920032519.do) **highly recommended**, shows Python's advantages"
   ]
  },
  {
   "cell_type": "markdown",
   "metadata": {
    "id": "B0Q3iEMFyk7E"
   },
   "source": [
    "## General Best Practices Books\n",
    "#### (not Python specific)\n",
    "\n",
    "* [Code Complete 2](https://www.goodreads.com/book/show/4845.Code_Complete) - Fantastic best practices\n",
    "* [The Mythical Man-Month](https://en.wikipedia.org/wiki/The_Mythical_Man-Month) - No silver bullet even after 40 years.\n",
    "* [The Pragmatic Programmer](https://www.amazon.com/Pragmatic-Programmer-Journeyman-Master/dp/020161622X) - More practical advice\n",
    "* [Clean Code](https://www.amazon.com/Clean-Code-Handbook-Software-Craftsmanship/dp/0132350882) - more towards agile"
   ]
  },
  {
   "cell_type": "markdown",
   "metadata": {
    "id": "EJoNusgnyk7E"
   },
   "source": [
    "## Blogs / Personalities / forums\n",
    "\n",
    "* [Dan Bader](https://dbader.org/)\n",
    "* [Reddit Python](https://www.reddit.com/r/python)"
   ]
  },
  {
   "cell_type": "markdown",
   "metadata": {
    "id": "Vb1uuHhJyk7E"
   },
   "source": [
    "## Exercises/Challenges\n",
    "* http://www.pythonchallenge.com/ - first one is easy but after that...\n",
    "* [Advent of Code](https://adventofcode.com/) - yearly programming challenges\n",
    "* https://projecteuler.net/ - gets very mathematical but first problems are great for testing "
   ]
  },
  {
   "cell_type": "markdown",
   "metadata": {
    "id": "6AePUe0Qyk7F"
   },
   "source": [
    "## Explore Public Notebooks on Github\n",
    " Download them and try them out for yourself\n",
    " \n",
    "https://github.com/jupyter/jupyter/wiki/A-gallery-of-interesting-Jupyter-Notebooks"
   ]
  },
  {
   "cell_type": "markdown",
   "metadata": {
    "id": "IuOw1wXiyk7F"
   },
   "source": [
    "## Questions / Suggestions ? \n",
    "\n",
    "Pull requests welcome\n",
    "\n",
    "e-mail **valdis.s.coding at gmail.com**"
   ]
  }
 ],
 "metadata": {
  "colab": {
   "name": "Python Introduction.ipynb",
   "provenance": []
  },
  "kernelspec": {
   "display_name": "Python 3 (ipykernel)",
   "language": "python",
   "name": "python3"
  },
  "language_info": {
   "codemirror_mode": {
    "name": "ipython",
    "version": 3
   },
   "file_extension": ".py",
   "mimetype": "text/x-python",
   "name": "python",
   "nbconvert_exporter": "python",
   "pygments_lexer": "ipython3",
   "version": "3.9.7"
  }
 },
 "nbformat": 4,
 "nbformat_minor": 1
}
